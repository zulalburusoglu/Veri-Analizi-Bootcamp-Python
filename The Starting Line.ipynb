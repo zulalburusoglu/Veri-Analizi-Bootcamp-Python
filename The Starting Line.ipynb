{
 "cells": [
  {
   "cell_type": "markdown",
   "id": "425a0d67-ba8c-4522-aaf8-d0880cf9cdc3",
   "metadata": {},
   "source": [
    "# HADİ BİSMİLLAH\n",
    "11\n",
    "* EUZU BİLLA "
   ]
  },
  {
   "cell_type": "markdown",
   "id": "029c80db-d1c5-4ad2-815e-3daecf8212c6",
   "metadata": {},
   "source": [
    "DENEME"
   ]
  },
  {
   "cell_type": "code",
   "execution_count": 8,
   "id": "940e2cea-90ae-4f4f-a0e8-bde09bff2548",
   "metadata": {},
   "outputs": [
    {
     "name": "stdout",
     "output_type": "stream",
     "text": [
      "54\n"
     ]
    }
   ],
   "source": [
    "x= 54\n",
    "\n",
    "print(x)"
   ]
  },
  {
   "cell_type": "code",
   "execution_count": 14,
   "id": "00d74fde-ed2c-4f8d-898e-284a44865ebe",
   "metadata": {},
   "outputs": [
    {
     "name": "stdout",
     "output_type": "stream",
     "text": [
      "250\n"
     ]
    }
   ],
   "source": [
    "x= 10*25\n",
    "\n",
    "print(x)"
   ]
  },
  {
   "cell_type": "code",
   "execution_count": 28,
   "id": "d24f890e-182b-41aa-a227-3808e32c4dee",
   "metadata": {},
   "outputs": [
    {
     "name": "stdout",
     "output_type": "stream",
     "text": [
      "ZÜLALZÜLALZÜLAL\n"
     ]
    }
   ],
   "source": [
    "x= 'ZÜLAL' *3\n",
    "\n",
    "print(x)"
   ]
  },
  {
   "cell_type": "code",
   "execution_count": 30,
   "id": "990ea573-8a2d-471a-904b-295fafd24329",
   "metadata": {},
   "outputs": [
    {
     "name": "stdout",
     "output_type": "stream",
     "text": [
      "ZÜLAL\n"
     ]
    }
   ],
   "source": [
    "x= \"ZÜLAL\"\n",
    "\n",
    "print(x)"
   ]
  },
  {
   "cell_type": "code",
   "execution_count": 26,
   "id": "29715178-09b5-420e-9fe2-0fd99829f072",
   "metadata": {},
   "outputs": [
    {
     "name": "stdout",
     "output_type": "stream",
     "text": [
      "2.3\n"
     ]
    }
   ],
   "source": [
    "x=2.3\n",
    "\n",
    "print(x)"
   ]
  },
  {
   "cell_type": "code",
   "execution_count": 157,
   "id": "bb5fbbd7-5672-4b87-9f26-6f35c5e3ac22",
   "metadata": {},
   "outputs": [
    {
     "data": {
      "text/plain": [
       "-50"
      ]
     },
     "execution_count": 157,
     "metadata": {},
     "output_type": "execute_result"
    }
   ],
   "source": [
    "-5 * 10"
   ]
  },
  {
   "cell_type": "code",
   "execution_count": 159,
   "id": "584fb82b-e725-499c-be46-4c5ef577ef90",
   "metadata": {},
   "outputs": [
    {
     "data": {
      "text/plain": [
       "-450"
      ]
     },
     "execution_count": 159,
     "metadata": {},
     "output_type": "execute_result"
    }
   ],
   "source": [
    "100-550"
   ]
  },
  {
   "cell_type": "code",
   "execution_count": 161,
   "id": "fa45111f-a7dc-47fd-8802-dd3946014362",
   "metadata": {},
   "outputs": [
    {
     "data": {
      "text/plain": [
       "9.1"
      ]
     },
     "execution_count": 161,
     "metadata": {},
     "output_type": "execute_result"
    }
   ],
   "source": [
    "3.4 + 5.7"
   ]
  },
  {
   "cell_type": "code",
   "execution_count": 38,
   "id": "3f0e2c7e-d282-41d4-802a-6ec34a202119",
   "metadata": {},
   "outputs": [
    {
     "name": "stdout",
     "output_type": "stream",
     "text": [
      "taylor swift\n"
     ]
    }
   ],
   "source": [
    "x= \"taylor\" \" \" \"swift\"\n",
    "print (x)"
   ]
  },
  {
   "cell_type": "code",
   "execution_count": 44,
   "id": "d04ea11e-50be-4f80-afbb-41abb7ad0b84",
   "metadata": {},
   "outputs": [
    {
     "data": {
      "text/plain": [
       "int"
      ]
     },
     "execution_count": 44,
     "metadata": {},
     "output_type": "execute_result"
    }
   ],
   "source": [
    "x= 3\n",
    "type(x)\n"
   ]
  },
  {
   "cell_type": "code",
   "execution_count": 46,
   "id": "9270a979-ef65-4dda-9f46-af6685434fa6",
   "metadata": {},
   "outputs": [
    {
     "data": {
      "text/plain": [
       "float"
      ]
     },
     "execution_count": 46,
     "metadata": {},
     "output_type": "execute_result"
    }
   ],
   "source": [
    "type(2.3)"
   ]
  },
  {
   "cell_type": "code",
   "execution_count": 50,
   "id": "11762aed-39e8-41dd-8a0e-5591d8a82cc1",
   "metadata": {},
   "outputs": [
    {
     "data": {
      "text/plain": [
       "str"
      ]
     },
     "execution_count": 50,
     "metadata": {},
     "output_type": "execute_result"
    }
   ],
   "source": [
    "type (\"taylor\")"
   ]
  },
  {
   "cell_type": "code",
   "execution_count": 52,
   "id": "ae16a302-637e-4f3e-9c5d-b0c44f1ab071",
   "metadata": {},
   "outputs": [
    {
     "name": "stdout",
     "output_type": "stream",
     "text": [
      "3\n"
     ]
    }
   ],
   "source": [
    "x= \"3\"\n",
    "\n",
    "print (x)"
   ]
  },
  {
   "cell_type": "code",
   "execution_count": 54,
   "id": "2107fa3a-356c-4649-a171-eb867983c51a",
   "metadata": {},
   "outputs": [
    {
     "data": {
      "text/plain": [
       "str"
      ]
     },
     "execution_count": 54,
     "metadata": {},
     "output_type": "execute_result"
    }
   ],
   "source": [
    "x= \"3\"\n",
    "\n",
    "type (x)"
   ]
  },
  {
   "cell_type": "code",
   "execution_count": 56,
   "id": "58bdcf24-5f8a-4add-9fba-abe387e7bb6c",
   "metadata": {},
   "outputs": [
    {
     "name": "stdout",
     "output_type": "stream",
     "text": [
      "3.0\n"
     ]
    }
   ],
   "source": [
    "x= 3.\n",
    "print(x)"
   ]
  },
  {
   "cell_type": "markdown",
   "id": "5c5697db-609d-43d7-8b9c-12ce6860d69b",
   "metadata": {},
   "source": [
    "# BOOLEAN"
   ]
  },
  {
   "cell_type": "markdown",
   "id": "e398fd13-31a1-4ae8-b96e-2db0efcd85ad",
   "metadata": {},
   "source": [
    "* DOĞRU YA DA YANLIŞ SONUCUNU VERİYO IF ELSE'LERLE ALAKADARI VARR"
   ]
  },
  {
   "cell_type": "code",
   "execution_count": 60,
   "id": "627b9bec-73dd-499b-b6dc-3a1fe4304ad8",
   "metadata": {},
   "outputs": [
    {
     "data": {
      "text/plain": [
       "True"
      ]
     },
     "execution_count": 60,
     "metadata": {},
     "output_type": "execute_result"
    }
   ],
   "source": [
    "2 < 5"
   ]
  },
  {
   "cell_type": "code",
   "execution_count": 62,
   "id": "83b0ea6f-5c1c-4e36-ab19-d0ec83856953",
   "metadata": {},
   "outputs": [
    {
     "data": {
      "text/plain": [
       "True"
      ]
     },
     "execution_count": 62,
     "metadata": {},
     "output_type": "execute_result"
    }
   ],
   "source": [
    "54 > 41"
   ]
  },
  {
   "cell_type": "code",
   "execution_count": 64,
   "id": "fa7d98fe-ddd7-474a-84f4-f3f28dd646b2",
   "metadata": {},
   "outputs": [
    {
     "data": {
      "text/plain": [
       "False"
      ]
     },
     "execution_count": 64,
     "metadata": {},
     "output_type": "execute_result"
    }
   ],
   "source": [
    "41 > 54"
   ]
  },
  {
   "cell_type": "code",
   "execution_count": 66,
   "id": "2763bb1b-21b7-434f-8c84-daa72ff9569f",
   "metadata": {},
   "outputs": [
    {
     "data": {
      "text/plain": [
       "False"
      ]
     },
     "execution_count": 66,
     "metadata": {},
     "output_type": "execute_result"
    }
   ],
   "source": [
    "10+15 > 10+55"
   ]
  },
  {
   "cell_type": "code",
   "execution_count": 68,
   "id": "d9906cd2-48e3-45b0-9de5-cb768b7199cb",
   "metadata": {},
   "outputs": [
    {
     "data": {
      "text/plain": [
       "bool"
      ]
     },
     "execution_count": 68,
     "metadata": {},
     "output_type": "execute_result"
    }
   ],
   "source": [
    "type(True)"
   ]
  },
  {
   "cell_type": "code",
   "execution_count": 106,
   "id": "76587ceb-678b-46e6-b2d9-52ce3cdd05e5",
   "metadata": {},
   "outputs": [
    {
     "data": {
      "text/plain": [
       "str"
      ]
     },
     "execution_count": 106,
     "metadata": {},
     "output_type": "execute_result"
    }
   ],
   "source": [
    "type(\"true\")"
   ]
  },
  {
   "cell_type": "code",
   "execution_count": 110,
   "id": "741e6b0e-d6b1-42e3-b46f-f726c57da983",
   "metadata": {},
   "outputs": [
    {
     "data": {
      "text/plain": [
       "3.5"
      ]
     },
     "execution_count": 110,
     "metadata": {},
     "output_type": "execute_result"
    }
   ],
   "source": [
    "float(3.5)"
   ]
  },
  {
   "cell_type": "code",
   "execution_count": 114,
   "id": "c6fbd059-c7e6-4162-8564-4a4c07627e54",
   "metadata": {},
   "outputs": [
    {
     "ename": "TypeError",
     "evalue": "'float' object is not callable",
     "output_type": "error",
     "traceback": [
      "\u001b[1;31m---------------------------------------------------------------------------\u001b[0m",
      "\u001b[1;31mTypeError\u001b[0m                                 Traceback (most recent call last)",
      "Cell \u001b[1;32mIn[114], line 1\u001b[0m\n\u001b[1;32m----> 1\u001b[0m \u001b[38;5;28mint\u001b[39m(\u001b[38;5;241m5.2\u001b[39m)\n",
      "\u001b[1;31mTypeError\u001b[0m: 'float' object is not callable"
     ]
    }
   ],
   "source": [
    "int(5.2)"
   ]
  },
  {
   "cell_type": "code",
   "execution_count": 116,
   "id": "7d85c820-ea4e-43e7-b308-b83d139d2215",
   "metadata": {},
   "outputs": [
    {
     "data": {
      "text/plain": [
       "4.0"
      ]
     },
     "execution_count": 116,
     "metadata": {},
     "output_type": "execute_result"
    }
   ],
   "source": [
    "float(4)"
   ]
  },
  {
   "cell_type": "markdown",
   "id": "64c2cc8f-b7b2-4bf4-82fa-4d20ca4ae4cb",
   "metadata": {},
   "source": [
    "Int'i yanlışlıkla bi function yerine sabit bi float'a dönüştürmüşüm o yüzden type casting function olarak çalışmıyordu. %who ile bunu teyit ettim içinde int geçtiği için bunu yapmış olduğumu anladım. sonra da del int yapıp int'i yine function haline dönüştürdüm :)"
   ]
  },
  {
   "cell_type": "code",
   "execution_count": 120,
   "id": "ddb688d1-1314-4ad1-ad63-34bc4b9035a4",
   "metadata": {},
   "outputs": [
    {
     "ename": "TypeError",
     "evalue": "'float' object is not callable",
     "output_type": "error",
     "traceback": [
      "\u001b[1;31m---------------------------------------------------------------------------\u001b[0m",
      "\u001b[1;31mTypeError\u001b[0m                                 Traceback (most recent call last)",
      "Cell \u001b[1;32mIn[120], line 1\u001b[0m\n\u001b[1;32m----> 1\u001b[0m \u001b[38;5;28mint\u001b[39m(\u001b[38;5;241m13.5\u001b[39m)\n",
      "\u001b[1;31mTypeError\u001b[0m: 'float' object is not callable"
     ]
    }
   ],
   "source": [
    "int(13.5)"
   ]
  },
  {
   "cell_type": "code",
   "execution_count": null,
   "id": "dc91623a-24c3-4b3b-9628-756dd01878c2",
   "metadata": {},
   "outputs": [],
   "source": [
    "#int'in sabit bi sayıya döndüğünü burda gördüm"
   ]
  },
  {
   "cell_type": "code",
   "execution_count": 126,
   "id": "5ee64995-5570-4724-9401-89c1e57b4d5d",
   "metadata": {},
   "outputs": [
    {
     "name": "stdout",
     "output_type": "stream",
     "text": [
      "3.5\n"
     ]
    }
   ],
   "source": [
    "print(int)"
   ]
  },
  {
   "cell_type": "code",
   "execution_count": 128,
   "id": "b08b850b-11de-4a93-81fe-8fc8532aaf40",
   "metadata": {},
   "outputs": [
    {
     "name": "stdout",
     "output_type": "stream",
     "text": [
      "dataframe_columns\t dataframe_hash\t dtypes_str\t get_dataframes\t getpass\t hashlib\t import_pandas_safely\t int\t is_data_frame\t \n",
      "json\t x\t \n"
     ]
    }
   ],
   "source": [
    "%who"
   ]
  },
  {
   "cell_type": "markdown",
   "id": "e4fa1b73-7c83-4c4f-b340-547909da4ab0",
   "metadata": {},
   "source": [
    "# TYPE CASTING"
   ]
  },
  {
   "cell_type": "code",
   "execution_count": 134,
   "id": "24fbf388-c687-4410-9d1b-42e664f1cdff",
   "metadata": {},
   "outputs": [
    {
     "ename": "NameError",
     "evalue": "name 'int' is not defined",
     "output_type": "error",
     "traceback": [
      "\u001b[1;31m---------------------------------------------------------------------------\u001b[0m",
      "\u001b[1;31mNameError\u001b[0m                                 Traceback (most recent call last)",
      "Cell \u001b[1;32mIn[134], line 1\u001b[0m\n\u001b[1;32m----> 1\u001b[0m \u001b[38;5;28;01mdel\u001b[39;00m \u001b[38;5;28mint\u001b[39m\n",
      "\u001b[1;31mNameError\u001b[0m: name 'int' is not defined"
     ]
    }
   ],
   "source": [
    "del int"
   ]
  },
  {
   "cell_type": "code",
   "execution_count": 136,
   "id": "322829b5-2e23-4e01-a035-660fddffcca2",
   "metadata": {},
   "outputs": [
    {
     "data": {
      "text/plain": [
       "13"
      ]
     },
     "execution_count": 136,
     "metadata": {},
     "output_type": "execute_result"
    }
   ],
   "source": [
    "int (13.5)"
   ]
  },
  {
   "cell_type": "code",
   "execution_count": null,
   "id": "e15756e2-9432-43e9-bf69-031c9a7a5b2f",
   "metadata": {},
   "outputs": [],
   "source": [
    "#Şimdi <class 'int'> yani yine functionnn"
   ]
  },
  {
   "cell_type": "code",
   "execution_count": 138,
   "id": "d02f124e-2282-47c1-a7ba-c41bed6f5545",
   "metadata": {
    "jupyter": {
     "source_hidden": true
    }
   },
   "outputs": [
    {
     "name": "stdout",
     "output_type": "stream",
     "text": [
      "<class 'int'>\n"
     ]
    }
   ],
   "source": [
    "print (int)"
   ]
  },
  {
   "cell_type": "code",
   "execution_count": 140,
   "id": "8505ceb9-5eaa-40c7-b467-6320a53d6629",
   "metadata": {},
   "outputs": [
    {
     "data": {
      "text/plain": [
       "5.0"
      ]
     },
     "execution_count": 140,
     "metadata": {},
     "output_type": "execute_result"
    }
   ],
   "source": [
    "float(5)"
   ]
  },
  {
   "cell_type": "code",
   "execution_count": 145,
   "id": "aaf8b65a-e7c0-4c91-934c-8884df88603a",
   "metadata": {},
   "outputs": [
    {
     "data": {
      "text/plain": [
       "54.0"
      ]
     },
     "execution_count": 145,
     "metadata": {},
     "output_type": "execute_result"
    }
   ],
   "source": [
    "float (54)"
   ]
  },
  {
   "cell_type": "code",
   "execution_count": 155,
   "id": "b25a8141-a42e-4d52-a936-08f0c6db94c5",
   "metadata": {
    "scrolled": true
   },
   "outputs": [
    {
     "ename": "ValueError",
     "evalue": "invalid literal for int() with base 10: 'mehmet'",
     "output_type": "error",
     "traceback": [
      "\u001b[1;31m---------------------------------------------------------------------------\u001b[0m",
      "\u001b[1;31mValueError\u001b[0m                                Traceback (most recent call last)",
      "Cell \u001b[1;32mIn[155], line 3\u001b[0m\n\u001b[0;32m      1\u001b[0m \u001b[38;5;66;03m#String'ler integer ya da float'a dönüşemez\u001b[39;00m\n\u001b[1;32m----> 3\u001b[0m \u001b[38;5;28mint\u001b[39m (\u001b[38;5;124m\"\u001b[39m\u001b[38;5;124mmehmet\u001b[39m\u001b[38;5;124m\"\u001b[39m)\n",
      "\u001b[1;31mValueError\u001b[0m: invalid literal for int() with base 10: 'mehmet'"
     ]
    }
   ],
   "source": [
    "#String'ler integer ya da float'a dönüşemez\n",
    "\n",
    "int (\"mehmet\")"
   ]
  },
  {
   "cell_type": "code",
   "execution_count": 163,
   "id": "7f717f40-1816-4a1f-877b-b3bb347fd1de",
   "metadata": {},
   "outputs": [
    {
     "data": {
      "text/plain": [
       "0.0"
      ]
     },
     "execution_count": 163,
     "metadata": {},
     "output_type": "execute_result"
    }
   ],
   "source": [
    "float ()"
   ]
  },
  {
   "cell_type": "markdown",
   "id": "614b2496-4672-4c37-9fa4-f4c995a74da2",
   "metadata": {},
   "source": [
    "# VARIABLE ASSIGMENT"
   ]
  },
  {
   "cell_type": "markdown",
   "id": "860bdffb-0d7a-496c-bf2f-4d2e4486187a",
   "metadata": {},
   "source": [
    "Az önce yanlışlıkla yaptığım şey, bi değeri bi şeyle sabitlemek. Yani limon_fiyatı=10 diyorum ve bundan sonra ne zaman limon fiyatını çağırırsam 10 geliyor, konteynerın içinde 10 yazıyor yani. Sonradan bu değeri değiştirebilirim ve ilerki hesapları tekrar tekrar yapmak zorunda kalmam"
   ]
  },
  {
   "cell_type": "code",
   "execution_count": 175,
   "id": "93867e10-8c24-4ffd-8ad9-407da506c81c",
   "metadata": {},
   "outputs": [
    {
     "data": {
      "text/plain": [
       "2"
      ]
     },
     "execution_count": 175,
     "metadata": {},
     "output_type": "execute_result"
    }
   ],
   "source": [
    "a=2\n",
    "\n",
    "a"
   ]
  },
  {
   "cell_type": "code",
   "execution_count": 191,
   "id": "476d99fd-e9f3-41c3-98e9-76094ba6c5db",
   "metadata": {},
   "outputs": [],
   "source": [
    "b=a+5"
   ]
  },
  {
   "cell_type": "code",
   "execution_count": 193,
   "id": "630b4cda-4705-4743-af79-4e9677b3516a",
   "metadata": {},
   "outputs": [
    {
     "data": {
      "text/plain": [
       "15"
      ]
     },
     "execution_count": 193,
     "metadata": {},
     "output_type": "execute_result"
    }
   ],
   "source": [
    "b"
   ]
  },
  {
   "cell_type": "code",
   "execution_count": 183,
   "id": "eaca89cf-9f22-4420-aea2-ce499a6a4eca",
   "metadata": {},
   "outputs": [
    {
     "data": {
      "text/plain": [
       "100"
      ]
     },
     "execution_count": 183,
     "metadata": {},
     "output_type": "execute_result"
    }
   ],
   "source": [
    "c= 5*20\n",
    "c"
   ]
  },
  {
   "cell_type": "code",
   "execution_count": 187,
   "id": "2f6caad0-c8fb-4226-a326-b67b4938e04c",
   "metadata": {},
   "outputs": [
    {
     "data": {
      "text/plain": [
       "10"
      ]
     },
     "execution_count": 187,
     "metadata": {},
     "output_type": "execute_result"
    }
   ],
   "source": [
    "a= a+8\n",
    "\n",
    "a"
   ]
  },
  {
   "cell_type": "code",
   "execution_count": 195,
   "id": "50658cc4-eebb-41e3-ad7f-039d7305747d",
   "metadata": {},
   "outputs": [
    {
     "data": {
      "text/plain": [
       "15"
      ]
     },
     "execution_count": 195,
     "metadata": {},
     "output_type": "execute_result"
    }
   ],
   "source": [
    "b"
   ]
  },
  {
   "cell_type": "code",
   "execution_count": 209,
   "id": "458d7f5f-92bb-4f99-8534-0bec9190a82e",
   "metadata": {},
   "outputs": [
    {
     "data": {
      "text/plain": [
       "240"
      ]
     },
     "execution_count": 209,
     "metadata": {},
     "output_type": "execute_result"
    }
   ],
   "source": [
    "b= b*2\n",
    "\n",
    "b"
   ]
  },
  {
   "cell_type": "code",
   "execution_count": 211,
   "id": "11499f28-7e53-4c4e-9ee1-706b052edb59",
   "metadata": {},
   "outputs": [
    {
     "data": {
      "text/plain": [
       "240"
      ]
     },
     "execution_count": 211,
     "metadata": {},
     "output_type": "execute_result"
    }
   ],
   "source": [
    "b"
   ]
  },
  {
   "cell_type": "code",
   "execution_count": 213,
   "id": "595c499d-7f2f-4d10-8856-763be446218a",
   "metadata": {},
   "outputs": [
    {
     "data": {
      "text/plain": [
       "10"
      ]
     },
     "execution_count": 213,
     "metadata": {},
     "output_type": "execute_result"
    }
   ],
   "source": [
    "a"
   ]
  },
  {
   "cell_type": "code",
   "execution_count": 215,
   "id": "5f88d328-55dc-43e5-b34e-756f8c00e5e7",
   "metadata": {},
   "outputs": [
    {
     "data": {
      "text/plain": [
       "350"
      ]
     },
     "execution_count": 215,
     "metadata": {},
     "output_type": "execute_result"
    }
   ],
   "source": [
    "a+b+c"
   ]
  },
  {
   "cell_type": "code",
   "execution_count": 267,
   "id": "28b8fbb0-340d-4451-a34b-53d3e823aaeb",
   "metadata": {},
   "outputs": [],
   "source": [
    "ekmek_fiyatı= 10"
   ]
  },
  {
   "cell_type": "code",
   "execution_count": 269,
   "id": "b644614b-0294-4de4-b184-013672359e7a",
   "metadata": {},
   "outputs": [
    {
     "data": {
      "text/plain": [
       "10"
      ]
     },
     "execution_count": 269,
     "metadata": {},
     "output_type": "execute_result"
    }
   ],
   "source": [
    "ekmek_fiyatı"
   ]
  },
  {
   "cell_type": "code",
   "execution_count": 271,
   "id": "b06d7e9c-b13f-4985-a00b-fc88735ac705",
   "metadata": {},
   "outputs": [
    {
     "data": {
      "text/plain": [
       "50"
      ]
     },
     "execution_count": 271,
     "metadata": {},
     "output_type": "execute_result"
    }
   ],
   "source": [
    "zülal=ekmek_fiyatı*5\n",
    "\n",
    "zülal"
   ]
  },
  {
   "cell_type": "code",
   "execution_count": 273,
   "id": "a6c5da18-2983-49ec-916e-badac6fb6c15",
   "metadata": {},
   "outputs": [
    {
     "data": {
      "text/plain": [
       "50"
      ]
     },
     "execution_count": 273,
     "metadata": {},
     "output_type": "execute_result"
    }
   ],
   "source": [
    "zülal"
   ]
  },
  {
   "cell_type": "code",
   "execution_count": 275,
   "id": "dc6a517b-6a91-4e96-a8b5-f7c23602fb3f",
   "metadata": {},
   "outputs": [
    {
     "data": {
      "text/plain": [
       "100"
      ]
     },
     "execution_count": 275,
     "metadata": {},
     "output_type": "execute_result"
    }
   ],
   "source": [
    "ev = zülal * 2\n",
    "\n",
    "ev"
   ]
  },
  {
   "cell_type": "code",
   "execution_count": 277,
   "id": "9e2e4923-f337-4835-9fd0-79f3a3240bf1",
   "metadata": {},
   "outputs": [
    {
     "data": {
      "text/plain": [
       "150"
      ]
     },
     "execution_count": 277,
     "metadata": {},
     "output_type": "execute_result"
    }
   ],
   "source": [
    "zülal + ev"
   ]
  },
  {
   "cell_type": "code",
   "execution_count": 261,
   "id": "80891aeb-3499-425e-9c32-bc254841e86a",
   "metadata": {},
   "outputs": [
    {
     "data": {
      "text/plain": [
       "'zeriş'"
      ]
     },
     "execution_count": 261,
     "metadata": {},
     "output_type": "execute_result"
    }
   ],
   "source": [
    "zeren = 'zeriş'\n",
    "\n",
    "zeren"
   ]
  },
  {
   "cell_type": "code",
   "execution_count": 263,
   "id": "f9de97cc-4e32-494d-976a-9517a366eba3",
   "metadata": {
    "scrolled": true
   },
   "outputs": [
    {
     "data": {
      "text/plain": [
       "'zerişzeriş'"
      ]
     },
     "execution_count": 263,
     "metadata": {},
     "output_type": "execute_result"
    }
   ],
   "source": [
    "zeren *2"
   ]
  },
  {
   "cell_type": "code",
   "execution_count": 279,
   "id": "16ebdbfc-f0f0-4646-8785-ecfe183c3e67",
   "metadata": {},
   "outputs": [
    {
     "data": {
      "text/plain": [
       "float"
      ]
     },
     "execution_count": 279,
     "metadata": {},
     "output_type": "execute_result"
    }
   ],
   "source": [
    "type(2+5.4)"
   ]
  },
  {
   "cell_type": "code",
   "execution_count": 281,
   "id": "8ff8c423-b358-4f6d-837c-5818ad17c92b",
   "metadata": {},
   "outputs": [
    {
     "data": {
      "text/plain": [
       "float"
      ]
     },
     "execution_count": 281,
     "metadata": {},
     "output_type": "execute_result"
    }
   ],
   "source": [
    "type(5/2)"
   ]
  },
  {
   "cell_type": "code",
   "execution_count": 285,
   "id": "b876b922-eb86-46ab-9ea2-4b923eff70d6",
   "metadata": {},
   "outputs": [
    {
     "data": {
      "text/plain": [
       "2.0"
      ]
     },
     "execution_count": 285,
     "metadata": {},
     "output_type": "execute_result"
    }
   ],
   "source": [
    "5/2.5"
   ]
  },
  {
   "cell_type": "code",
   "execution_count": 283,
   "id": "0b135b54-ea28-4f12-9f83-c3f62a03e986",
   "metadata": {},
   "outputs": [
    {
     "data": {
      "text/plain": [
       "float"
      ]
     },
     "execution_count": 283,
     "metadata": {},
     "output_type": "execute_result"
    }
   ],
   "source": [
    "type(5/2.5)"
   ]
  },
  {
   "cell_type": "code",
   "execution_count": 872,
   "id": "85fd9be1-0fc8-43af-9b9b-22cc42bd9a28",
   "metadata": {},
   "outputs": [
    {
     "data": {
      "text/plain": [
       "-0.10000000000000009"
      ]
     },
     "execution_count": 872,
     "metadata": {},
     "output_type": "execute_result"
    }
   ],
   "source": [
    "2 - 2.1 #burda da boolean kesir işlemli eşittirlerde olduğu gibi tam sayı etmedi 0'lar ekledi alakalı"
   ]
  },
  {
   "cell_type": "code",
   "execution_count": 291,
   "id": "2ac0aef4-5e32-42a0-822d-cdbeacab5dab",
   "metadata": {},
   "outputs": [
    {
     "data": {
      "text/plain": [
       "float"
      ]
     },
     "execution_count": 291,
     "metadata": {},
     "output_type": "execute_result"
    }
   ],
   "source": [
    "type(2-2.1)"
   ]
  },
  {
   "cell_type": "code",
   "execution_count": 293,
   "id": "0e2f5b71-8ca7-4b23-8cf4-071934e6fc89",
   "metadata": {},
   "outputs": [
    {
     "data": {
      "text/plain": [
       "-0.5"
      ]
     },
     "execution_count": 293,
     "metadata": {},
     "output_type": "execute_result"
    }
   ],
   "source": [
    "2.5 -3"
   ]
  },
  {
   "cell_type": "markdown",
   "id": "2797e646-8a06-4087-9893-1925175ec64e",
   "metadata": {},
   "source": [
    "bölmede herr türlü sonucun tipi float"
   ]
  },
  {
   "cell_type": "code",
   "execution_count": 300,
   "id": "86a4b4fc-9cc2-437e-abe3-375af6dbbf04",
   "metadata": {},
   "outputs": [
    {
     "data": {
      "text/plain": [
       "5.0"
      ]
     },
     "execution_count": 300,
     "metadata": {},
     "output_type": "execute_result"
    }
   ],
   "source": [
    "10/2"
   ]
  },
  {
   "cell_type": "code",
   "execution_count": 302,
   "id": "4e82ef9d-3f6e-4d90-9029-9c28d4ac75b0",
   "metadata": {
    "jupyter": {
     "source_hidden": true
    }
   },
   "outputs": [
    {
     "data": {
      "text/plain": [
       "float"
      ]
     },
     "execution_count": 302,
     "metadata": {},
     "output_type": "execute_result"
    }
   ],
   "source": [
    "type(15/5)"
   ]
  },
  {
   "cell_type": "code",
   "execution_count": 304,
   "id": "1dc98306-b348-4ecb-ae43-689d080f68cc",
   "metadata": {},
   "outputs": [
    {
     "data": {
      "text/plain": [
       "2.5"
      ]
     },
     "execution_count": 304,
     "metadata": {},
     "output_type": "execute_result"
    }
   ],
   "source": [
    "5/2"
   ]
  },
  {
   "cell_type": "markdown",
   "id": "218f39e4-d55a-4fa5-a16d-4c92ee261cb2",
   "metadata": {},
   "source": [
    "// operator (int division) - bölme sonucunu değil de içinde kaç tane TAM olduğunu gösteriyor 5/2 = 2.0 içinde iki tane 2 var gibiiiii"
   ]
  },
  {
   "cell_type": "code",
   "execution_count": 307,
   "id": "625b9c21-6ce1-47b9-b54a-58cd09b75871",
   "metadata": {},
   "outputs": [
    {
     "data": {
      "text/plain": [
       "2"
      ]
     },
     "execution_count": 307,
     "metadata": {},
     "output_type": "execute_result"
    }
   ],
   "source": [
    "5 //2"
   ]
  },
  {
   "cell_type": "code",
   "execution_count": 309,
   "id": "233659b0-e215-4ee0-9e93-2dda68aeaeb2",
   "metadata": {},
   "outputs": [
    {
     "data": {
      "text/plain": [
       "1"
      ]
     },
     "execution_count": 309,
     "metadata": {},
     "output_type": "execute_result"
    }
   ],
   "source": [
    "10 // 7"
   ]
  },
  {
   "cell_type": "code",
   "execution_count": 313,
   "id": "200d9135-1292-4436-ae36-7ea55545b9a0",
   "metadata": {},
   "outputs": [],
   "source": [
    "#sonuç imteger ama gördüğün gibi "
   ]
  },
  {
   "cell_type": "code",
   "execution_count": 311,
   "id": "e80863ad-e8e7-4a19-a8cd-19a990c8570a",
   "metadata": {},
   "outputs": [
    {
     "data": {
      "text/plain": [
       "int"
      ]
     },
     "execution_count": 311,
     "metadata": {},
     "output_type": "execute_result"
    }
   ],
   "source": [
    "type(10//7)"
   ]
  },
  {
   "cell_type": "code",
   "execution_count": 315,
   "id": "37a2dbdf-0287-468c-bcfe-8be96a2e3dd6",
   "metadata": {},
   "outputs": [
    {
     "data": {
      "text/plain": [
       "-2.0"
      ]
     },
     "execution_count": 315,
     "metadata": {},
     "output_type": "execute_result"
    }
   ],
   "source": [
    "-10 / 5"
   ]
  },
  {
   "cell_type": "code",
   "execution_count": 319,
   "id": "7c66d53c-9cac-480f-bcdf-07e51e94c3cc",
   "metadata": {},
   "outputs": [
    {
     "data": {
      "text/plain": [
       "int"
      ]
     },
     "execution_count": 319,
     "metadata": {},
     "output_type": "execute_result"
    }
   ],
   "source": [
    "type (-10//5)"
   ]
  },
  {
   "cell_type": "code",
   "execution_count": 323,
   "id": "1a90b8b7-1629-4166-b0a0-cb98b0520bea",
   "metadata": {},
   "outputs": [
    {
     "data": {
      "text/plain": [
       "1.0"
      ]
     },
     "execution_count": 323,
     "metadata": {},
     "output_type": "execute_result"
    }
   ],
   "source": [
    "5.4 // 5"
   ]
  },
  {
   "cell_type": "code",
   "execution_count": 327,
   "id": "ca526540-eee8-4e36-a2a7-5c20cd3a3993",
   "metadata": {},
   "outputs": [],
   "source": [
    "#Eğer işleme girenlerden biri bile float ise cevap float olur."
   ]
  },
  {
   "cell_type": "code",
   "execution_count": 325,
   "id": "926b0d90-edd5-4770-8d1e-604669d93788",
   "metadata": {},
   "outputs": [
    {
     "data": {
      "text/plain": [
       "float"
      ]
     },
     "execution_count": 325,
     "metadata": {},
     "output_type": "execute_result"
    }
   ],
   "source": [
    "type(5.4//5)"
   ]
  },
  {
   "cell_type": "code",
   "execution_count": 329,
   "id": "e19336e5-1504-4166-9d12-a92bcc5ef51a",
   "metadata": {},
   "outputs": [
    {
     "data": {
      "text/plain": [
       "0.0"
      ]
     },
     "execution_count": 329,
     "metadata": {},
     "output_type": "execute_result"
    }
   ],
   "source": [
    "4.1//5.4"
   ]
  },
  {
   "cell_type": "markdown",
   "id": "79c5d24a-a329-4c94-8c0d-03adaa7d36db",
   "metadata": {},
   "source": [
    "% operator (Remainder/kalan)\n",
    "\n",
    "\n",
    "Eğer kalan float ise cevap float olur yoksa integer olur."
   ]
  },
  {
   "cell_type": "code",
   "execution_count": 332,
   "id": "8930fe68-64e4-4710-91dc-a7807f190593",
   "metadata": {},
   "outputs": [
    {
     "data": {
      "text/plain": [
       "0"
      ]
     },
     "execution_count": 332,
     "metadata": {},
     "output_type": "execute_result"
    }
   ],
   "source": [
    "10 % 5"
   ]
  },
  {
   "cell_type": "code",
   "execution_count": 334,
   "id": "3e149c2c-9d1a-40a8-823b-5a47fd13dbfa",
   "metadata": {},
   "outputs": [
    {
     "data": {
      "text/plain": [
       "2"
      ]
     },
     "execution_count": 334,
     "metadata": {},
     "output_type": "execute_result"
    }
   ],
   "source": [
    "10 % 4"
   ]
  },
  {
   "cell_type": "code",
   "execution_count": 336,
   "id": "257a8c16-490b-4267-84e4-541ca3b70c29",
   "metadata": {},
   "outputs": [
    {
     "data": {
      "text/plain": [
       "1"
      ]
     },
     "execution_count": 336,
     "metadata": {},
     "output_type": "execute_result"
    }
   ],
   "source": [
    "-20 % 3"
   ]
  },
  {
   "cell_type": "code",
   "execution_count": 338,
   "id": "625c304e-34db-4971-ba13-7d74020ffa05",
   "metadata": {},
   "outputs": [
    {
     "data": {
      "text/plain": [
       "int"
      ]
     },
     "execution_count": 338,
     "metadata": {},
     "output_type": "execute_result"
    }
   ],
   "source": [
    "type(-20%3)"
   ]
  },
  {
   "cell_type": "code",
   "execution_count": 340,
   "id": "861c4bde-9822-41d9-9c5f-783e83c12923",
   "metadata": {},
   "outputs": [
    {
     "data": {
      "text/plain": [
       "0.5"
      ]
     },
     "execution_count": 340,
     "metadata": {},
     "output_type": "execute_result"
    }
   ],
   "source": [
    "2.5 % 2"
   ]
  },
  {
   "cell_type": "code",
   "execution_count": 342,
   "id": "1a0aab6f-ca4a-4482-8feb-2b4e284d69dd",
   "metadata": {},
   "outputs": [
    {
     "data": {
      "text/plain": [
       "float"
      ]
     },
     "execution_count": 342,
     "metadata": {},
     "output_type": "execute_result"
    }
   ],
   "source": [
    "type(2.5 % 2)"
   ]
  },
  {
   "cell_type": "code",
   "execution_count": 347,
   "id": "e8baf809-2fa7-427a-94fb-9164513bde86",
   "metadata": {},
   "outputs": [
    {
     "data": {
      "text/plain": [
       "1024"
      ]
     },
     "execution_count": 347,
     "metadata": {},
     "output_type": "execute_result"
    }
   ],
   "source": [
    "#** üst alma\n",
    "\n",
    "2**10"
   ]
  },
  {
   "cell_type": "code",
   "execution_count": 349,
   "id": "0016b124-6a43-41bb-b44f-d622c9f9af2f",
   "metadata": {},
   "outputs": [
    {
     "name": "stdout",
     "output_type": "stream",
     "text": [
      "1024\n"
     ]
    }
   ],
   "source": [
    "print (2**10)"
   ]
  },
  {
   "cell_type": "markdown",
   "id": "6e4835d7-d82e-45fb-b7f4-59e203cfd2a3",
   "metadata": {},
   "source": [
    "# STRINGLERRR"
   ]
  },
  {
   "cell_type": "code",
   "execution_count": 368,
   "id": "d14ede40-6ad4-41ae-887a-5cc0d81c94cd",
   "metadata": {},
   "outputs": [],
   "source": [
    "#non-scalar ve immutable"
   ]
  },
  {
   "cell_type": "code",
   "execution_count": 352,
   "id": "d26c5f23-b4dc-4511-a74a-07c76743cb3b",
   "metadata": {},
   "outputs": [
    {
     "data": {
      "text/plain": [
       "'1+2'"
      ]
     },
     "execution_count": 352,
     "metadata": {},
     "output_type": "execute_result"
    }
   ],
   "source": [
    "\"1+2\""
   ]
  },
  {
   "cell_type": "code",
   "execution_count": 354,
   "id": "c39a0b11-4b8f-47f9-9c57-e31857db9e43",
   "metadata": {},
   "outputs": [
    {
     "data": {
      "text/plain": [
       "'print(1+2)'"
      ]
     },
     "execution_count": 354,
     "metadata": {},
     "output_type": "execute_result"
    }
   ],
   "source": [
    "\"print(1+2)\""
   ]
  },
  {
   "cell_type": "code",
   "execution_count": 358,
   "id": "b783c2a1-6dd1-4fe0-b0ca-4ad0a6c9b6f2",
   "metadata": {},
   "outputs": [
    {
     "data": {
      "text/plain": [
       "\"züliş'e\""
      ]
     },
     "execution_count": 358,
     "metadata": {},
     "output_type": "execute_result"
    }
   ],
   "source": [
    "\"züliş'e\""
   ]
  },
  {
   "cell_type": "code",
   "execution_count": 362,
   "id": "b67d359d-50f2-4c7d-b10e-6a3e0bb3ae39",
   "metadata": {},
   "outputs": [
    {
     "data": {
      "text/plain": [
       "\"zeriş'e atkı getircem\""
      ]
     },
     "execution_count": 362,
     "metadata": {},
     "output_type": "execute_result"
    }
   ],
   "source": [
    "'zeriş\\'e atkı getircem'"
   ]
  },
  {
   "cell_type": "code",
   "execution_count": 390,
   "id": "4bddda67-e88d-471f-b993-d9830737c2bb",
   "metadata": {},
   "outputs": [
    {
     "name": "stdout",
     "output_type": "stream",
     "text": [
      "Züliş, \"Birazdan Zeriş'e atkı getircem.\" dedi\n"
     ]
    }
   ],
   "source": [
    "b\n",
    "\n",
    "print(\"Züliş, \\\"Birazdan Zeriş'e atkı getircem.\\\" dedi\")"
   ]
  },
  {
   "cell_type": "code",
   "execution_count": 420,
   "id": "d55eea74-0686-4d5f-9a70-755ce63cae27",
   "metadata": {},
   "outputs": [
    {
     "data": {
      "text/plain": [
       "'Züliş, \"Birazdan Zeriş\\'e atkı getircem.\" dedi'"
      ]
     },
     "execution_count": 420,
     "metadata": {},
     "output_type": "execute_result"
    }
   ],
   "source": [
    "\"Züliş, \\\"Birazdan Zeriş'e atkı getircem.\\\" dedi\""
   ]
  },
  {
   "cell_type": "code",
   "execution_count": 364,
   "id": "593e0e73-f83b-4362-a1c5-9bf9f3523063",
   "metadata": {},
   "outputs": [
    {
     "data": {
      "text/plain": [
       "\"ayyy ne diyosun yaaa''''\""
      ]
     },
     "execution_count": 364,
     "metadata": {},
     "output_type": "execute_result"
    }
   ],
   "source": [
    "\"ayyy ne diyosun yaaa''''\""
   ]
  },
  {
   "cell_type": "code",
   "execution_count": 366,
   "id": "7f9c498c-1fb9-4d1a-b041-b9a42b3e2f7f",
   "metadata": {},
   "outputs": [
    {
     "data": {
      "text/plain": [
       "\"x=5 mi yağbii' \""
      ]
     },
     "execution_count": 366,
     "metadata": {},
     "output_type": "execute_result"
    }
   ],
   "source": [
    "\"x=5 mi yağbii' \""
   ]
  },
  {
   "cell_type": "code",
   "execution_count": 398,
   "id": "9388149b-b43a-491d-be13-71e989f21c8e",
   "metadata": {},
   "outputs": [],
   "source": [
    "#bu stringlerde print kullanmak gerekiyor galibağğ"
   ]
  },
  {
   "cell_type": "code",
   "execution_count": 396,
   "id": "aa597bc8-3f1a-4020-9942-f357a3747f21",
   "metadata": {},
   "outputs": [
    {
     "name": "stdout",
     "output_type": "stream",
     "text": [
      "hiii\n",
      "zeriş\n"
     ]
    }
   ],
   "source": [
    "print(\"hiii\\nzeriş\")"
   ]
  },
  {
   "cell_type": "code",
   "execution_count": 414,
   "id": "e3fde47a-d36e-4aab-8bf7-f8f49daf6ea0",
   "metadata": {},
   "outputs": [
    {
     "name": "stdout",
     "output_type": "stream",
     "text": [
      "hiii \n",
      "   zeriş\n"
     ]
    }
   ],
   "source": [
    "print(\"hiii \\n   zeriş\")"
   ]
  },
  {
   "cell_type": "code",
   "execution_count": 400,
   "id": "1535f84a-310a-40c3-9ec3-6fdc3b53fec6",
   "metadata": {},
   "outputs": [
    {
     "name": "stdout",
     "output_type": "stream",
     "text": [
      "hiiii\tzeriaşşşş\n"
     ]
    }
   ],
   "source": [
    "print(\"hiiii\\tzeriaşşşş\")"
   ]
  },
  {
   "cell_type": "code",
   "execution_count": 404,
   "id": "778a873f-7338-413b-a398-d9b0aba3d230",
   "metadata": {},
   "outputs": [
    {
     "name": "stdout",
     "output_type": "stream",
     "text": [
      "hiii zerişşş\n"
     ]
    }
   ],
   "source": [
    "print(\"hiii zerişşş\")"
   ]
  },
  {
   "cell_type": "code",
   "execution_count": 406,
   "id": "b48eed6f-13e8-4cad-b12d-c9e83754df11",
   "metadata": {},
   "outputs": [
    {
     "name": "stdout",
     "output_type": "stream",
     "text": [
      "taylor swift \\ blank space\n"
     ]
    }
   ],
   "source": [
    "print (\"taylor swift \\\\ blank space\")"
   ]
  },
  {
   "cell_type": "code",
   "execution_count": 416,
   "id": "96d611ee-faac-4a63-8661-da169a4d424d",
   "metadata": {},
   "outputs": [
    {
     "name": "stdout",
     "output_type": "stream",
     "text": [
      "Bugün Mecidiyeköy'den Mecidiyeköy'\\e 40 dakikada gittim.\n"
     ]
    },
    {
     "name": "stderr",
     "output_type": "stream",
     "text": [
      "<>:1: SyntaxWarning: invalid escape sequence '\\e'\n",
      "<>:1: SyntaxWarning: invalid escape sequence '\\e'\n",
      "C:\\Users\\MSI\\AppData\\Local\\Temp\\ipykernel_4812\\1041832608.py:1: SyntaxWarning: invalid escape sequence '\\e'\n",
      "  print(\"Bugün Mecidiyeköy'den Mecidiyeköy'\\e 40 dakikada gittim.\" )\n"
     ]
    }
   ],
   "source": [
    "print(\"Bugün Mecidiyeköy'den Mecidiyeköy'\\e 40 dakikada gittim.\" )"
   ]
  },
  {
   "cell_type": "code",
   "execution_count": 418,
   "id": "292c7888-4473-4556-a20e-2627f9ddb042",
   "metadata": {},
   "outputs": [
    {
     "data": {
      "text/plain": [
       "\"Bugün Mecidiyeköy'den Mecidiyeköy'e 40 dakikada gittim.\""
      ]
     },
     "execution_count": 418,
     "metadata": {},
     "output_type": "execute_result"
    }
   ],
   "source": [
    "\"Bugün Mecidiyeköy\\'den Mecidiyeköy\\'e 40 dakikada gittim.\""
   ]
  },
  {
   "cell_type": "code",
   "execution_count": 424,
   "id": "b9337401-d8f5-40d1-9309-093b86847811",
   "metadata": {},
   "outputs": [
    {
     "data": {
      "text/plain": [
       "\"Bugün Mecidiyeköy'den Mecidiyeköy'e 40 dakikada gittim.\""
      ]
     },
     "execution_count": 424,
     "metadata": {},
     "output_type": "execute_result"
    }
   ],
   "source": [
    "\"Bugün Mecidiyeköy'den Mecidiyeköy'e 40 dakikada gittim.\""
   ]
  },
  {
   "cell_type": "code",
   "execution_count": 426,
   "id": "f473173d-2889-402d-806a-0df265fdb1b1",
   "metadata": {},
   "outputs": [
    {
     "name": "stderr",
     "output_type": "stream",
     "text": [
      "<>:1: SyntaxWarning: invalid escape sequence '\\e'\n",
      "<>:1: SyntaxWarning: invalid escape sequence '\\e'\n",
      "C:\\Users\\MSI\\AppData\\Local\\Temp\\ipykernel_4812\\1819873106.py:1: SyntaxWarning: invalid escape sequence '\\e'\n",
      "  \"Bugün Mecidiyeköy'den Mecidiyeköy'\\e 40 dakikada gittim.\"\n"
     ]
    },
    {
     "data": {
      "text/plain": [
       "\"Bugün Mecidiyeköy'den Mecidiyeköy'\\\\e 40 dakikada gittim.\""
      ]
     },
     "execution_count": 426,
     "metadata": {},
     "output_type": "execute_result"
    }
   ],
   "source": [
    "\"Bugün Mecidiyeköy'den Mecidiyeköy'\\e 40 dakikada gittim.\""
   ]
  },
  {
   "cell_type": "code",
   "execution_count": 428,
   "id": "f78a8024-5b29-47d3-95ba-c5bc08ff9e61",
   "metadata": {},
   "outputs": [
    {
     "name": "stderr",
     "output_type": "stream",
     "text": [
      "<>:1: SyntaxWarning: invalid escape sequence '\\e'\n",
      "<>:1: SyntaxWarning: invalid escape sequence '\\e'\n",
      "C:\\Users\\MSI\\AppData\\Local\\Temp\\ipykernel_4812\\2754861468.py:1: SyntaxWarning: invalid escape sequence '\\e'\n",
      "  x = \"Bugün Mecidiyeköy'den Mecidiyeköy'\\e 40 dakikada gittim.\" print(x)\n"
     ]
    },
    {
     "ename": "SyntaxError",
     "evalue": "invalid syntax (2754861468.py, line 1)",
     "output_type": "error",
     "traceback": [
      "\u001b[1;36m  Cell \u001b[1;32mIn[428], line 1\u001b[1;36m\u001b[0m\n\u001b[1;33m    x = \"Bugün Mecidiyeköy'den Mecidiyeköy'\\e 40 dakikada gittim.\" print(x)\u001b[0m\n\u001b[1;37m                                                                   ^\u001b[0m\n\u001b[1;31mSyntaxError\u001b[0m\u001b[1;31m:\u001b[0m invalid syntax\n"
     ]
    }
   ],
   "source": [
    "x = \"Bugün Mecidiyeköy'den Mecidiyeköy'\\e 40 dakikada gittim.\" print(x)"
   ]
  },
  {
   "cell_type": "markdown",
   "id": "906f1409-6563-43ee-8fab-4cdbb30adb6c",
   "metadata": {},
   "source": [
    "print'le yapınca baştaki tırnakları kaldırıyor ve cümle olarak fveriyor. normal ctrl shift'le sonuca baktığında tırnaklar hala duruyor ve eğer escape varsa onu da gösteriyor"
   ]
  },
  {
   "cell_type": "markdown",
   "id": "d89d0f43-5b7c-4234-91de-82397ccd4eab",
   "metadata": {},
   "source": [
    "# STRINGLER"
   ]
  },
  {
   "cell_type": "code",
   "execution_count": 557,
   "id": "cdcd59e9-c728-49fb-8e06-61de1eb9a723",
   "metadata": {},
   "outputs": [],
   "source": [
    "# concedatation\n"
   ]
  },
  {
   "cell_type": "code",
   "execution_count": 436,
   "id": "3e4710c9-3148-4c5b-8fd6-47d34e3dc727",
   "metadata": {},
   "outputs": [
    {
     "name": "stdout",
     "output_type": "stream",
     "text": [
      "mrb cnmmm\n"
     ]
    }
   ],
   "source": [
    "merhaba = \"mrb cnmmm\"\n",
    "print(merhaba)"
   ]
  },
  {
   "cell_type": "code",
   "execution_count": 523,
   "id": "33aefc4d-ac59-4fdc-82f4-ca659484ae31",
   "metadata": {},
   "outputs": [
    {
     "name": "stdout",
     "output_type": "stream",
     "text": [
      "Ahliş\n"
     ]
    }
   ],
   "source": [
    "ad = \"Ahliş\"\n",
    "print(ad)"
   ]
  },
  {
   "cell_type": "code",
   "execution_count": 525,
   "id": "b3122fb7-cde5-40f1-801a-fb60a341937f",
   "metadata": {},
   "outputs": [
    {
     "name": "stdout",
     "output_type": "stream",
     "text": [
      "mrb cnmmm Ahliş\n"
     ]
    }
   ],
   "source": [
    "karsilama = merhaba + \" \" + ad\n",
    "print(karsilama)"
   ]
  },
  {
   "cell_type": "code",
   "execution_count": 476,
   "id": "133f49af-ac15-454d-9fe8-680932ac5d8a",
   "metadata": {},
   "outputs": [
    {
     "data": {
      "text/plain": [
       "'oof of'"
      ]
     },
     "execution_count": 476,
     "metadata": {},
     "output_type": "execute_result"
    }
   ],
   "source": [
    "\"oof \"+\"of\""
   ]
  },
  {
   "cell_type": "code",
   "execution_count": 493,
   "id": "534bdbb2-0e18-4d7e-b016-a8b9294f0e93",
   "metadata": {},
   "outputs": [
    {
     "data": {
      "text/plain": [
       "'offffffffffffffffffffffffffffffffffffffffffffffffffffff'"
      ]
     },
     "execution_count": 493,
     "metadata": {},
     "output_type": "execute_result"
    }
   ],
   "source": [
    "\"o\"+\"f\"*54"
   ]
  },
  {
   "cell_type": "code",
   "execution_count": 507,
   "id": "30670043-2780-461e-9340-4ec8e3aa3f4a",
   "metadata": {},
   "outputs": [
    {
     "name": "stdout",
     "output_type": "stream",
     "text": [
      "yusuf yusuf usta\n"
     ]
    }
   ],
   "source": [
    "isim= yusuf\n",
    "print(isim)"
   ]
  },
  {
   "cell_type": "markdown",
   "id": "faa7ffd1-c5f5-4f6f-95b8-3ceb3cc1f3d1",
   "metadata": {},
   "source": [
    "normal stringleri birleştirirken tırnakların içine boşluk koyarsam boşluk olarak algılıyo ama variable yapıyorsam \" \" diye ayrı yapmam lazım neden bilmiyoree"
   ]
  },
  {
   "cell_type": "code",
   "execution_count": 497,
   "id": "84442a75-e019-4f92-a4be-1a5e2565134d",
   "metadata": {},
   "outputs": [
    {
     "name": "stdout",
     "output_type": "stream",
     "text": [
      "yusuf yusuf usta\n"
     ]
    }
   ],
   "source": [
    "yusuf = \"yusuf yusuf usta\"\n",
    "print (yusuf)"
   ]
  },
  {
   "cell_type": "code",
   "execution_count": 509,
   "id": "a73d16da-42de-43f4-8f16-6b9aa1880996",
   "metadata": {},
   "outputs": [
    {
     "name": "stdout",
     "output_type": "stream",
     "text": [
      "nabiosun yusuf yusuf usta\n"
     ]
    }
   ],
   "source": [
    "selam = \"nabiosun\" \n",
    "karsilama = selam + \" \" + isim\n",
    "print (karsilama)"
   ]
  },
  {
   "cell_type": "code",
   "execution_count": 517,
   "id": "190321e4-d0b8-4ee3-a6de-1e6e786b7fe3",
   "metadata": {},
   "outputs": [
    {
     "data": {
      "text/plain": [
       "6"
      ]
     },
     "execution_count": 517,
     "metadata": {},
     "output_type": "execute_result"
    }
   ],
   "source": [
    "len(\"zerenn\")"
   ]
  },
  {
   "cell_type": "code",
   "execution_count": 519,
   "id": "1b255818-458f-46de-8fac-b7dfa2f8521b",
   "metadata": {},
   "outputs": [
    {
     "data": {
      "text/plain": [
       "16"
      ]
     },
     "execution_count": 519,
     "metadata": {},
     "output_type": "execute_result"
    }
   ],
   "source": [
    "len(isim)"
   ]
  },
  {
   "cell_type": "code",
   "execution_count": 527,
   "id": "a3319bea-5c64-4c78-995d-3c3a8172506f",
   "metadata": {},
   "outputs": [
    {
     "data": {
      "text/plain": [
       "8"
      ]
     },
     "execution_count": 527,
     "metadata": {},
     "output_type": "execute_result"
    }
   ],
   "source": [
    "len(selam)"
   ]
  },
  {
   "cell_type": "code",
   "execution_count": 529,
   "id": "3ed25aed-3308-4446-931d-bb47f916e692",
   "metadata": {},
   "outputs": [
    {
     "data": {
      "text/plain": [
       "4"
      ]
     },
     "execution_count": 529,
     "metadata": {},
     "output_type": "execute_result"
    }
   ],
   "source": [
    "len(\"5**2\")"
   ]
  },
  {
   "cell_type": "code",
   "execution_count": 533,
   "id": "41b9280a-3598-49e7-9ec9-1d8ba29cd20d",
   "metadata": {},
   "outputs": [
    {
     "data": {
      "text/plain": [
       "3"
      ]
     },
     "execution_count": 533,
     "metadata": {},
     "output_type": "execute_result"
    }
   ],
   "source": [
    "len(\"5+2\")"
   ]
  },
  {
   "cell_type": "code",
   "execution_count": 537,
   "id": "7f1eb03e-6011-4ad7-9a22-82ee9292b23e",
   "metadata": {},
   "outputs": [
    {
     "data": {
      "text/plain": [
       "100"
      ]
     },
     "execution_count": 537,
     "metadata": {},
     "output_type": "execute_result"
    }
   ],
   "source": [
    "len(\"zülal\"*20)"
   ]
  },
  {
   "cell_type": "code",
   "execution_count": 539,
   "id": "28acca79-231a-4dfc-b95a-0cc784a78ea9",
   "metadata": {},
   "outputs": [
    {
     "data": {
      "text/plain": [
       "5"
      ]
     },
     "execution_count": 539,
     "metadata": {},
     "output_type": "execute_result"
    }
   ],
   "source": [
    "len(ad)"
   ]
  },
  {
   "cell_type": "code",
   "execution_count": 553,
   "id": "38551cb3-b75c-4631-ae6e-40663542cdb8",
   "metadata": {},
   "outputs": [
    {
     "name": "stdout",
     "output_type": "stream",
     "text": [
      "nabiosun yusuf yusuf usta ve Ahliş\n"
     ]
    }
   ],
   "source": [
    "karsilamaaaa= selam + \" \" + isim + \" \" + \"ve\" + \" \" + ad\n",
    "print(karsilamaaaa)"
   ]
  },
  {
   "cell_type": "markdown",
   "id": "1a332466-decc-4222-b534-969a121ab85b",
   "metadata": {},
   "source": [
    "# INDEXING"
   ]
  },
  {
   "cell_type": "code",
   "execution_count": 560,
   "id": "becc1031-33b6-417e-a01b-ff20461163ef",
   "metadata": {},
   "outputs": [],
   "source": [
    "isim = \"Zülal\""
   ]
  },
  {
   "cell_type": "code",
   "execution_count": 562,
   "id": "c68d4d12-bf0c-4c41-b36c-383753b089f6",
   "metadata": {},
   "outputs": [
    {
     "data": {
      "text/plain": [
       "'ü'"
      ]
     },
     "execution_count": 562,
     "metadata": {},
     "output_type": "execute_result"
    }
   ],
   "source": [
    "isim[1]"
   ]
  },
  {
   "cell_type": "code",
   "execution_count": 566,
   "id": "5d59f964-a489-4201-9997-de72b0e1d3fb",
   "metadata": {},
   "outputs": [
    {
     "data": {
      "text/plain": [
       "'Z'"
      ]
     },
     "execution_count": 566,
     "metadata": {},
     "output_type": "execute_result"
    }
   ],
   "source": [
    "\"Zülal\"[0]"
   ]
  },
  {
   "cell_type": "code",
   "execution_count": 568,
   "id": "47d79fb1-5e90-4e93-b4e5-9772efc52c29",
   "metadata": {},
   "outputs": [
    {
     "data": {
      "text/plain": [
       "'l'"
      ]
     },
     "execution_count": 568,
     "metadata": {},
     "output_type": "execute_result"
    }
   ],
   "source": [
    "isim[-1]"
   ]
  },
  {
   "cell_type": "code",
   "execution_count": 570,
   "id": "9d348113-9798-4841-99b0-f840b6ceeea5",
   "metadata": {},
   "outputs": [
    {
     "data": {
      "text/plain": [
       "'a'"
      ]
     },
     "execution_count": 570,
     "metadata": {},
     "output_type": "execute_result"
    }
   ],
   "source": [
    "isim[-2]"
   ]
  },
  {
   "cell_type": "code",
   "execution_count": 572,
   "id": "50bbcbf6-9d08-4188-ad02-b6beb4a7648e",
   "metadata": {},
   "outputs": [
    {
     "ename": "IndexError",
     "evalue": "string index out of range",
     "output_type": "error",
     "traceback": [
      "\u001b[1;31m---------------------------------------------------------------------------\u001b[0m",
      "\u001b[1;31mIndexError\u001b[0m                                Traceback (most recent call last)",
      "Cell \u001b[1;32mIn[572], line 1\u001b[0m\n\u001b[1;32m----> 1\u001b[0m isim[\u001b[38;5;241m5\u001b[39m]\n",
      "\u001b[1;31mIndexError\u001b[0m: string index out of range"
     ]
    }
   ],
   "source": [
    "isim[5]"
   ]
  },
  {
   "cell_type": "code",
   "execution_count": 574,
   "id": "f8301f08-7c8b-4410-b49b-855077c24f58",
   "metadata": {},
   "outputs": [
    {
     "data": {
      "text/plain": [
       "'l'"
      ]
     },
     "execution_count": 574,
     "metadata": {},
     "output_type": "execute_result"
    }
   ],
   "source": [
    "isim[4]"
   ]
  },
  {
   "cell_type": "code",
   "execution_count": 578,
   "id": "fc1cbf4f-fda5-41d2-8ef8-88aa3184fb0e",
   "metadata": {},
   "outputs": [],
   "source": [
    "#immmutable olduğu için string'lerde isimleri değiştiremeyiz yani cülal falan yapamayız"
   ]
  },
  {
   "cell_type": "markdown",
   "id": "3c94d025-9b3b-4055-999a-a08fc1f50df8",
   "metadata": {},
   "source": [
    "* Slicing"
   ]
  },
  {
   "cell_type": "code",
   "execution_count": 587,
   "id": "b2129ca9-5e9b-40ba-ae5a-2d015ed87e65",
   "metadata": {},
   "outputs": [],
   "source": [
    "#sonuncuyu almıyor o yüzden 2. indexi istiyorsam (yani l) 3 yazmam lazım"
   ]
  },
  {
   "cell_type": "code",
   "execution_count": 589,
   "id": "2d0a8584-135e-40de-8515-9d22c5e2217d",
   "metadata": {},
   "outputs": [
    {
     "data": {
      "text/plain": [
       "'Zül'"
      ]
     },
     "execution_count": 589,
     "metadata": {},
     "output_type": "execute_result"
    }
   ],
   "source": [
    "isim[0:3]"
   ]
  },
  {
   "cell_type": "code",
   "execution_count": 591,
   "id": "f93f1592-2974-4982-8786-f4513fb789a1",
   "metadata": {},
   "outputs": [
    {
     "data": {
      "text/plain": [
       "'Zül'"
      ]
     },
     "execution_count": 591,
     "metadata": {},
     "output_type": "execute_result"
    }
   ],
   "source": [
    "isim[:3]"
   ]
  },
  {
   "cell_type": "code",
   "execution_count": 593,
   "id": "d41e3dee-57d2-4f36-a55d-430eb36f2d7b",
   "metadata": {},
   "outputs": [
    {
     "data": {
      "text/plain": [
       "'üla'"
      ]
     },
     "execution_count": 593,
     "metadata": {},
     "output_type": "execute_result"
    }
   ],
   "source": [
    "isim[1:4]"
   ]
  },
  {
   "cell_type": "code",
   "execution_count": 600,
   "id": "e9aa4c35-4339-47b5-b524-adf69c939c6e",
   "metadata": {},
   "outputs": [
    {
     "data": {
      "text/plain": [
       "'ülal'"
      ]
     },
     "execution_count": 600,
     "metadata": {},
     "output_type": "execute_result"
    }
   ],
   "source": [
    "isim[1:]"
   ]
  },
  {
   "cell_type": "code",
   "execution_count": 604,
   "id": "5cde9166-610a-4463-b05b-4cdd100c160c",
   "metadata": {},
   "outputs": [
    {
     "data": {
      "text/plain": [
       "'ülal'"
      ]
     },
     "execution_count": 604,
     "metadata": {},
     "output_type": "execute_result"
    }
   ],
   "source": [
    "isim[1:54]"
   ]
  },
  {
   "cell_type": "code",
   "execution_count": 598,
   "id": "4f92fe71-2409-4d60-990f-54afa3d49e6c",
   "metadata": {},
   "outputs": [
    {
     "data": {
      "text/plain": [
       "'Zülal'"
      ]
     },
     "execution_count": 598,
     "metadata": {},
     "output_type": "execute_result"
    }
   ],
   "source": [
    "isim[:]"
   ]
  },
  {
   "cell_type": "code",
   "execution_count": 618,
   "id": "03416f37-7e90-4bed-b41b-786f4cdc5567",
   "metadata": {},
   "outputs": [
    {
     "data": {
      "text/plain": [
       "'lalüZ'"
      ]
     },
     "execution_count": 618,
     "metadata": {},
     "output_type": "execute_result"
    }
   ],
   "source": [
    "isim[-1] + isim[-2] + isim[-3] + isim[1] + isim[0]"
   ]
  },
  {
   "cell_type": "code",
   "execution_count": 622,
   "id": "aab7136d-2cee-483f-877f-2ef8b2c9f21d",
   "metadata": {},
   "outputs": [
    {
     "data": {
      "text/plain": [
       "'Züla'"
      ]
     },
     "execution_count": 622,
     "metadata": {},
     "output_type": "execute_result"
    }
   ],
   "source": [
    "isim[:-1]"
   ]
  },
  {
   "cell_type": "code",
   "execution_count": 626,
   "id": "a7e3752a-e04b-489b-aa08-2b9b27b8c65c",
   "metadata": {},
   "outputs": [
    {
     "data": {
      "text/plain": [
       "''"
      ]
     },
     "execution_count": 626,
     "metadata": {},
     "output_type": "execute_result"
    }
   ],
   "source": [
    "isim[-1:3]"
   ]
  },
  {
   "cell_type": "code",
   "execution_count": 649,
   "id": "78cd6154-913a-4432-b487-3fbd2a779727",
   "metadata": {},
   "outputs": [
    {
     "data": {
      "text/plain": [
       "'Zll'"
      ]
     },
     "execution_count": 649,
     "metadata": {},
     "output_type": "execute_result"
    }
   ],
   "source": [
    "isim[0:5:2]"
   ]
  },
  {
   "cell_type": "code",
   "execution_count": 651,
   "id": "93bfc03f-3a20-463f-b8be-f93d54cd5527",
   "metadata": {},
   "outputs": [
    {
     "data": {
      "text/plain": [
       "'Za'"
      ]
     },
     "execution_count": 651,
     "metadata": {},
     "output_type": "execute_result"
    }
   ],
   "source": [
    "isim[0:5:3]"
   ]
  },
  {
   "cell_type": "code",
   "execution_count": 667,
   "id": "3e4a101f-ca87-44dc-bf57-be8a3c0d9315",
   "metadata": {},
   "outputs": [],
   "source": [
    "#geri geri gideceksen büyükten küçüğe yani sondan başa yazmalısın ve -1'yle"
   ]
  },
  {
   "cell_type": "code",
   "execution_count": 661,
   "id": "dbc97c4e-c448-4bdd-a874-9927adaf20dc",
   "metadata": {},
   "outputs": [
    {
     "data": {
      "text/plain": [
       "'lalü'"
      ]
     },
     "execution_count": 661,
     "metadata": {},
     "output_type": "execute_result"
    }
   ],
   "source": [
    "isim[5:0:-1]"
   ]
  },
  {
   "cell_type": "code",
   "execution_count": 663,
   "id": "faa41cfb-a522-46f1-8802-dbe36454c255",
   "metadata": {},
   "outputs": [
    {
     "data": {
      "text/plain": [
       "'lalüZ'"
      ]
     },
     "execution_count": 663,
     "metadata": {},
     "output_type": "execute_result"
    }
   ],
   "source": [
    "isim[::-1]"
   ]
  },
  {
   "cell_type": "code",
   "execution_count": 665,
   "id": "691f09a5-ad42-4dd7-92e1-b5dd84b63d82",
   "metadata": {},
   "outputs": [
    {
     "data": {
      "text/plain": [
       "'llZ'"
      ]
     },
     "execution_count": 665,
     "metadata": {},
     "output_type": "execute_result"
    }
   ],
   "source": [
    "isim[::-2]"
   ]
  },
  {
   "cell_type": "code",
   "execution_count": 671,
   "id": "9d381575-726e-4314-99bf-52dc7bc28482",
   "metadata": {},
   "outputs": [
    {
     "data": {
      "text/plain": [
       "'llZ'"
      ]
     },
     "execution_count": 671,
     "metadata": {},
     "output_type": "execute_result"
    }
   ],
   "source": [
    "isim[10::-2]"
   ]
  },
  {
   "cell_type": "code",
   "execution_count": 673,
   "id": "f2009183-8d77-4842-b861-5d5c3941a134",
   "metadata": {},
   "outputs": [
    {
     "ename": "IndexError",
     "evalue": "string index out of range",
     "output_type": "error",
     "traceback": [
      "\u001b[1;31m---------------------------------------------------------------------------\u001b[0m",
      "\u001b[1;31mIndexError\u001b[0m                                Traceback (most recent call last)",
      "Cell \u001b[1;32mIn[673], line 1\u001b[0m\n\u001b[1;32m----> 1\u001b[0m isim[\u001b[38;5;241m10\u001b[39m]\n",
      "\u001b[1;31mIndexError\u001b[0m: string index out of range"
     ]
    }
   ],
   "source": [
    "isim[10]"
   ]
  },
  {
   "cell_type": "code",
   "execution_count": 675,
   "id": "f4e99e9f-25d4-4935-a1e9-548761050beb",
   "metadata": {},
   "outputs": [
    {
     "data": {
      "text/plain": [
       "'erhaba'"
      ]
     },
     "execution_count": 675,
     "metadata": {},
     "output_type": "execute_result"
    }
   ],
   "source": [
    "\"merhaba\"[1:10] "
   ]
  },
  {
   "cell_type": "code",
   "execution_count": 677,
   "id": "a51d5d94-3b8d-4f81-b2c9-5d581cdd325d",
   "metadata": {},
   "outputs": [],
   "source": [
    "#casting in strings"
   ]
  },
  {
   "cell_type": "code",
   "execution_count": 679,
   "id": "96f94cc1-2126-44dd-868a-51ad1993f902",
   "metadata": {},
   "outputs": [
    {
     "data": {
      "text/plain": [
       "54"
      ]
     },
     "execution_count": 679,
     "metadata": {},
     "output_type": "execute_result"
    }
   ],
   "source": [
    "a= \"54\"\n",
    "int(a)"
   ]
  },
  {
   "cell_type": "code",
   "execution_count": 681,
   "id": "d3f53147-015b-4d35-88eb-8545a331c9ba",
   "metadata": {},
   "outputs": [
    {
     "data": {
      "text/plain": [
       "54.0"
      ]
     },
     "execution_count": 681,
     "metadata": {},
     "output_type": "execute_result"
    }
   ],
   "source": [
    "float(a)"
   ]
  },
  {
   "cell_type": "code",
   "execution_count": 687,
   "id": "97f60c42-b88c-485f-ab68-3d2d1a594432",
   "metadata": {},
   "outputs": [
    {
     "ename": "ValueError",
     "evalue": "invalid literal for int() with base 10: '5.4'",
     "output_type": "error",
     "traceback": [
      "\u001b[1;31m---------------------------------------------------------------------------\u001b[0m",
      "\u001b[1;31mValueError\u001b[0m                                Traceback (most recent call last)",
      "Cell \u001b[1;32mIn[687], line 2\u001b[0m\n\u001b[0;32m      1\u001b[0m b\u001b[38;5;241m=\u001b[39m \u001b[38;5;124m\"\u001b[39m\u001b[38;5;124m5.4\u001b[39m\u001b[38;5;124m\"\u001b[39m\n\u001b[1;32m----> 2\u001b[0m \u001b[38;5;28mint\u001b[39m(b)\n",
      "\u001b[1;31mValueError\u001b[0m: invalid literal for int() with base 10: '5.4'"
     ]
    }
   ],
   "source": [
    "b= \"5.4\"\n",
    "int(b)"
   ]
  },
  {
   "cell_type": "code",
   "execution_count": 689,
   "id": "c0fa7b88-28d9-44d3-b436-f771fd2b019f",
   "metadata": {},
   "outputs": [
    {
     "data": {
      "text/plain": [
       "5.4"
      ]
     },
     "execution_count": 689,
     "metadata": {},
     "output_type": "execute_result"
    }
   ],
   "source": [
    "float(b)"
   ]
  },
  {
   "cell_type": "code",
   "execution_count": 691,
   "id": "2ae23b6d-f719-4ae1-aeb2-8678ee112dfb",
   "metadata": {},
   "outputs": [
    {
     "data": {
      "text/plain": [
       "5"
      ]
     },
     "execution_count": 691,
     "metadata": {},
     "output_type": "execute_result"
    }
   ],
   "source": [
    "int(float(b))"
   ]
  },
  {
   "cell_type": "code",
   "execution_count": 693,
   "id": "be7f2c91-cc31-48c7-9d0f-e5a249268357",
   "metadata": {},
   "outputs": [
    {
     "data": {
      "text/plain": [
       "str"
      ]
     },
     "execution_count": 693,
     "metadata": {},
     "output_type": "execute_result"
    }
   ],
   "source": [
    "type(a)"
   ]
  },
  {
   "cell_type": "code",
   "execution_count": 695,
   "id": "66ca53f7-ae53-4b68-bf90-fecd0f276dd2",
   "metadata": {},
   "outputs": [],
   "source": [
    "a=int(a)"
   ]
  },
  {
   "cell_type": "code",
   "execution_count": 697,
   "id": "5ba36cfb-1b97-4feb-add2-c5a66111619e",
   "metadata": {},
   "outputs": [
    {
     "data": {
      "text/plain": [
       "108"
      ]
     },
     "execution_count": 697,
     "metadata": {},
     "output_type": "execute_result"
    }
   ],
   "source": [
    "a*2"
   ]
  },
  {
   "cell_type": "code",
   "execution_count": 699,
   "id": "af16fef5-b140-4906-8a1a-fee209b3b6ab",
   "metadata": {},
   "outputs": [],
   "source": [
    "#Input"
   ]
  },
  {
   "cell_type": "code",
   "execution_count": 703,
   "id": "3e868357-a641-4554-a589-04f1c4d14b70",
   "metadata": {},
   "outputs": [
    {
     "name": "stdin",
     "output_type": "stream",
     "text": [
      "Bir değer girin: 54\n"
     ]
    }
   ],
   "source": [
    "x = input(\"Bir değer girin:\")"
   ]
  },
  {
   "cell_type": "code",
   "execution_count": 705,
   "id": "7a450b4c-6432-4835-bef1-c79d8543609a",
   "metadata": {},
   "outputs": [
    {
     "data": {
      "text/plain": [
       "str"
      ]
     },
     "execution_count": 705,
     "metadata": {},
     "output_type": "execute_result"
    }
   ],
   "source": [
    "type(x)"
   ]
  },
  {
   "cell_type": "code",
   "execution_count": 711,
   "id": "227599ce-1f7c-4964-879e-e716ef815454",
   "metadata": {},
   "outputs": [],
   "source": [
    "x=int(x)"
   ]
  },
  {
   "cell_type": "code",
   "execution_count": 713,
   "id": "0b892445-e0f0-4dd6-9e8c-6129e96b6ff1",
   "metadata": {},
   "outputs": [
    {
     "data": {
      "text/plain": [
       "56"
      ]
     },
     "execution_count": 713,
     "metadata": {},
     "output_type": "execute_result"
    }
   ],
   "source": [
    "x+2"
   ]
  },
  {
   "cell_type": "code",
   "execution_count": 747,
   "id": "225e2375-f4c9-497f-827f-d37d405f7d0c",
   "metadata": {},
   "outputs": [
    {
     "name": "stdin",
     "output_type": "stream",
     "text": [
      "Bir değer girin: 89\n"
     ]
    }
   ],
   "source": [
    "y= int(input(\"Bir değer girin:\"))"
   ]
  },
  {
   "cell_type": "code",
   "execution_count": 749,
   "id": "b98d09c7-30a4-438c-8700-95b59d606536",
   "metadata": {},
   "outputs": [
    {
     "data": {
      "text/plain": [
       "int"
      ]
     },
     "execution_count": 749,
     "metadata": {},
     "output_type": "execute_result"
    }
   ],
   "source": [
    "type(y)"
   ]
  },
  {
   "cell_type": "code",
   "execution_count": 751,
   "id": "88408455-0ffd-4ba2-b902-55c4efe8e9c4",
   "metadata": {},
   "outputs": [
    {
     "name": "stdout",
     "output_type": "stream",
     "text": [
      "89\n"
     ]
    }
   ],
   "source": [
    "print(y)"
   ]
  },
  {
   "cell_type": "code",
   "execution_count": 755,
   "id": "a3d8e7be-43cc-4baa-b245-d0aa855bcdf3",
   "metadata": {},
   "outputs": [],
   "source": [
    "y=str(y)"
   ]
  },
  {
   "cell_type": "code",
   "execution_count": 759,
   "id": "1fed16b5-ba67-4655-a7a6-cb91af693a57",
   "metadata": {},
   "outputs": [
    {
     "name": "stdout",
     "output_type": "stream",
     "text": [
      "1989\n"
     ]
    }
   ],
   "source": [
    "taylor = \"19\"+y\n",
    "print(taylor)"
   ]
  },
  {
   "cell_type": "code",
   "execution_count": 765,
   "id": "632da3ac-0751-4468-95e1-1ef807da70b9",
   "metadata": {},
   "outputs": [
    {
     "name": "stdin",
     "output_type": "stream",
     "text": [
      "Bir isim girin= fatmi\n"
     ]
    }
   ],
   "source": [
    "z= input(\"Bir isim girin=\")"
   ]
  },
  {
   "cell_type": "code",
   "execution_count": 767,
   "id": "d482a115-8be5-4700-ba87-661e88d84e51",
   "metadata": {},
   "outputs": [
    {
     "data": {
      "text/plain": [
       "str"
      ]
     },
     "execution_count": 767,
     "metadata": {},
     "output_type": "execute_result"
    }
   ],
   "source": [
    "type(z)"
   ]
  },
  {
   "cell_type": "code",
   "execution_count": 781,
   "id": "0bb143ba-d130-4186-a7ed-d3c83e24446b",
   "metadata": {},
   "outputs": [
    {
     "name": "stdout",
     "output_type": "stream",
     "text": [
      "fatmi zehra\n"
     ]
    }
   ],
   "source": [
    "fulname= z+\" \" +\"zehra\"\n",
    "print(fulname)"
   ]
  },
  {
   "cell_type": "code",
   "execution_count": 807,
   "id": "ab434be9-daf1-4da2-955b-511e23ca2aa2",
   "metadata": {},
   "outputs": [],
   "source": [
    "#inputun başına int koyarız ama bu ancak input tam sayı girilirse işler. \n",
    "#gidip çıkan kutucuğa float girilirse hata verir o yüzden float yapmak gerekir\n",
    "#float yaparsak girilen input tam sayı da olsa sistem 4.0 gibi algılıyore"
   ]
  },
  {
   "cell_type": "code",
   "execution_count": 803,
   "id": "ba6ce1c2-b6a9-462c-8496-9c4a8683500b",
   "metadata": {},
   "outputs": [
    {
     "name": "stdin",
     "output_type": "stream",
     "text": [
      "Ondalık bir sayı giriniz:  25\n"
     ]
    }
   ],
   "source": [
    "x=float(input(\"Ondalık bir sayı giriniz: \"))\n",
    "sonuc=x*4"
   ]
  },
  {
   "cell_type": "code",
   "execution_count": 805,
   "id": "b933993e-c5b4-40f4-85dc-b6be29e9d955",
   "metadata": {},
   "outputs": [
    {
     "name": "stdout",
     "output_type": "stream",
     "text": [
      "100.0\n"
     ]
    }
   ],
   "source": [
    "sonuc=x*4\n",
    "print(sonuc)"
   ]
  },
  {
   "cell_type": "code",
   "execution_count": 809,
   "id": "b2af694b-57e0-43ad-8406-948279b75016",
   "metadata": {},
   "outputs": [
    {
     "name": "stdout",
     "output_type": "stream",
     "text": [
      "25.0\n"
     ]
    }
   ],
   "source": [
    "print(x)"
   ]
  },
  {
   "cell_type": "code",
   "execution_count": 819,
   "id": "a6dccd0f-0711-4960-8442-3640f6e1dbb7",
   "metadata": {},
   "outputs": [
    {
     "name": "stdin",
     "output_type": "stream",
     "text": [
      "bi sayı gir:  54\n"
     ]
    }
   ],
   "source": [
    "x=str(input(\"bi sayı gir: \"))"
   ]
  },
  {
   "cell_type": "code",
   "execution_count": 825,
   "id": "e19f78e9-1ad0-48ff-8906-74cfb9cdfd19",
   "metadata": {},
   "outputs": [
    {
     "data": {
      "text/plain": [
       "str"
      ]
     },
     "execution_count": 825,
     "metadata": {},
     "output_type": "execute_result"
    }
   ],
   "source": [
    "type(x) #sayı string çıkıyormuş hehö"
   ]
  },
  {
   "cell_type": "code",
   "execution_count": 827,
   "id": "dd669dd6-2a3f-4523-ab77-2a142431071e",
   "metadata": {},
   "outputs": [],
   "source": [
    "#yorum yazma hashtagle bunu zaten biliyodum xd"
   ]
  },
  {
   "cell_type": "code",
   "execution_count": 833,
   "id": "aab7eb75-366c-4699-86b9-16bb9250c563",
   "metadata": {},
   "outputs": [
    {
     "data": {
      "text/plain": [
       "str"
      ]
     },
     "execution_count": 833,
     "metadata": {},
     "output_type": "execute_result"
    }
   ],
   "source": [
    "\"\"\" \n",
    "bi de böyle bişi varmış neden anlamadım\n",
    "pekii\n",
    "birden fazla uzun yorum eklemek içünmüşş\n",
    "\"\"\"\n",
    "\n",
    "type(y)"
   ]
  },
  {
   "cell_type": "markdown",
   "id": "619f67b9-9bdd-47ac-9b80-3ec85580b6e3",
   "metadata": {},
   "source": [
    "# Nümeriklerde karşılaştırma (boolean yani true false vercek hep)"
   ]
  },
  {
   "cell_type": "code",
   "execution_count": 836,
   "id": "05b64302-14b5-4464-91bb-a8fb60e01e6e",
   "metadata": {},
   "outputs": [
    {
     "data": {
      "text/plain": [
       "True"
      ]
     },
     "execution_count": 836,
     "metadata": {},
     "output_type": "execute_result"
    }
   ],
   "source": [
    "4 < 5"
   ]
  },
  {
   "cell_type": "code",
   "execution_count": 838,
   "id": "431a994e-ef09-464d-9a87-a7219a187ecb",
   "metadata": {},
   "outputs": [
    {
     "data": {
      "text/plain": [
       "False"
      ]
     },
     "execution_count": 838,
     "metadata": {},
     "output_type": "execute_result"
    }
   ],
   "source": [
    "55 > 70"
   ]
  },
  {
   "cell_type": "code",
   "execution_count": 840,
   "id": "fa4b5508-f15e-4c72-acca-992e1ad4ab07",
   "metadata": {},
   "outputs": [
    {
     "data": {
      "text/plain": [
       "True"
      ]
     },
     "execution_count": 840,
     "metadata": {},
     "output_type": "execute_result"
    }
   ],
   "source": [
    "4 != 5"
   ]
  },
  {
   "cell_type": "code",
   "execution_count": 842,
   "id": "3561fcff-7ce5-4cdf-94b9-6a95734ede31",
   "metadata": {},
   "outputs": [
    {
     "data": {
      "text/plain": [
       "False"
      ]
     },
     "execution_count": 842,
     "metadata": {},
     "output_type": "execute_result"
    }
   ],
   "source": [
    "5 != 1*5"
   ]
  },
  {
   "cell_type": "code",
   "execution_count": 844,
   "id": "fc5c1dad-e3da-48c0-93a2-e2cea5edaae0",
   "metadata": {},
   "outputs": [
    {
     "data": {
      "text/plain": [
       "True"
      ]
     },
     "execution_count": 844,
     "metadata": {},
     "output_type": "execute_result"
    }
   ],
   "source": [
    "2*3 >= 1*6"
   ]
  },
  {
   "cell_type": "code",
   "execution_count": 846,
   "id": "cb39474d-1de4-4704-aea8-ece585072002",
   "metadata": {},
   "outputs": [
    {
     "data": {
      "text/plain": [
       "False"
      ]
     },
     "execution_count": 846,
     "metadata": {},
     "output_type": "execute_result"
    }
   ],
   "source": [
    "4*3 <= 1-5"
   ]
  },
  {
   "cell_type": "code",
   "execution_count": 848,
   "id": "82841bba-db33-4a05-8c9c-1c6e1a112377",
   "metadata": {},
   "outputs": [
    {
     "data": {
      "text/plain": [
       "True"
      ]
     },
     "execution_count": 848,
     "metadata": {},
     "output_type": "execute_result"
    }
   ],
   "source": [
    "sakarya=54\n",
    "kocaeli=41\n",
    "\n",
    "sakarya > kocaeli"
   ]
  },
  {
   "cell_type": "code",
   "execution_count": 856,
   "id": "a27a8a3e-c783-4739-97c3-17f3800186fb",
   "metadata": {},
   "outputs": [
    {
     "data": {
      "text/plain": [
       "True"
      ]
     },
     "execution_count": 856,
     "metadata": {},
     "output_type": "execute_result"
    }
   ],
   "source": [
    "5.4 !=  4"
   ]
  },
  {
   "cell_type": "code",
   "execution_count": 858,
   "id": "3c3f89c5-8c52-4fe2-b063-6122fa9ed1fe",
   "metadata": {},
   "outputs": [
    {
     "data": {
      "text/plain": [
       "True"
      ]
     },
     "execution_count": 858,
     "metadata": {},
     "output_type": "execute_result"
    }
   ],
   "source": [
    "5.4 != 5.5"
   ]
  },
  {
   "cell_type": "code",
   "execution_count": 860,
   "id": "05a05a96-88ba-4501-910c-27f012a59512",
   "metadata": {},
   "outputs": [
    {
     "data": {
      "text/plain": [
       "True"
      ]
     },
     "execution_count": 860,
     "metadata": {},
     "output_type": "execute_result"
    }
   ],
   "source": [
    "12 == 3*4"
   ]
  },
  {
   "cell_type": "code",
   "execution_count": 864,
   "id": "0a2adf22-665d-4e14-bf78-7386366ae725",
   "metadata": {},
   "outputs": [
    {
     "data": {
      "text/plain": [
       "True"
      ]
     },
     "execution_count": 864,
     "metadata": {},
     "output_type": "execute_result"
    }
   ],
   "source": [
    "12 == 6.1 + 5.9"
   ]
  },
  {
   "cell_type": "code",
   "execution_count": 866,
   "id": "54c5ef5f-f927-4c16-b23a-d755c1e7aab1",
   "metadata": {},
   "outputs": [
    {
     "data": {
      "text/plain": [
       "False"
      ]
     },
     "execution_count": 866,
     "metadata": {},
     "output_type": "execute_result"
    }
   ],
   "source": [
    "x = (0.3 * 3) + 0.1\n",
    "y = 1.0\n",
    "x == y"
   ]
  },
  {
   "cell_type": "code",
   "execution_count": 870,
   "id": "a3e091d5-316f-4947-bc56-9427817394ba",
   "metadata": {},
   "outputs": [
    {
     "data": {
      "text/plain": [
       "0.9999999999999999"
      ]
     },
     "execution_count": 870,
     "metadata": {},
     "output_type": "execute_result"
    }
   ],
   "source": [
    "x"
   ]
  },
  {
   "cell_type": "code",
   "execution_count": 874,
   "id": "6aad896f-3c4b-47e7-adc4-f40301a0fbb8",
   "metadata": {},
   "outputs": [
    {
     "data": {
      "text/plain": [
       "True"
      ]
     },
     "execution_count": 874,
     "metadata": {},
     "output_type": "execute_result"
    }
   ],
   "source": [
    "x=int(float(\"3.9\"))\n",
    "\n",
    "y=3\n",
    "\n",
    "x==y"
   ]
  },
  {
   "cell_type": "code",
   "execution_count": 878,
   "id": "672ed2af-751e-479f-91d8-cf90a6e62443",
   "metadata": {},
   "outputs": [
    {
     "data": {
      "text/plain": [
       "3"
      ]
     },
     "execution_count": 878,
     "metadata": {},
     "output_type": "execute_result"
    }
   ],
   "source": [
    "x"
   ]
  },
  {
   "cell_type": "markdown",
   "id": "946cf41d-0a39-42dc-95ea-dd1a7ea236a8",
   "metadata": {},
   "source": [
    "# COHORT EĞİTİMDE OLMAYIP CANLI DERSTE OLANLAR"
   ]
  },
  {
   "cell_type": "markdown",
   "id": "910f1732-e40a-4963-893e-d9ac282b6fb7",
   "metadata": {},
   "source": [
    "* Capitalize (baş harf büyük), upper (hepsi büyük), lower (hepsi küçük), title (her kelimeyi büyüt)\n",
    "  "
   ]
  },
  {
   "cell_type": "code",
   "execution_count": 912,
   "id": "dbda4418-eb0a-47d6-9ea4-a120f13f9f84",
   "metadata": {},
   "outputs": [
    {
     "name": "stdout",
     "output_type": "stream",
     "text": [
      "Zulal\n"
     ]
    }
   ],
   "source": [
    "a=\"Zulal\"\n",
    "capitalize= a.capitalize()\n",
    "print(capitalize)"
   ]
  },
  {
   "cell_type": "code",
   "execution_count": 908,
   "id": "27361257-68d6-406f-97ee-62a69fef2f26",
   "metadata": {},
   "outputs": [
    {
     "data": {
      "text/plain": [
       "'ZULAL'"
      ]
     },
     "execution_count": 908,
     "metadata": {},
     "output_type": "execute_result"
    }
   ],
   "source": [
    "a.upper()"
   ]
  },
  {
   "cell_type": "code",
   "execution_count": 910,
   "id": "518197b1-085e-4a84-a8a5-31af58cd2683",
   "metadata": {},
   "outputs": [
    {
     "data": {
      "text/plain": [
       "'zulal'"
      ]
     },
     "execution_count": 910,
     "metadata": {},
     "output_type": "execute_result"
    }
   ],
   "source": [
    "a.lower()"
   ]
  },
  {
   "cell_type": "code",
   "execution_count": 920,
   "id": "12ca882e-64ee-4807-bd56-1aec8d0d2089",
   "metadata": {},
   "outputs": [
    {
     "data": {
      "text/plain": [
       "'Taylor swift'"
      ]
     },
     "execution_count": 920,
     "metadata": {},
     "output_type": "execute_result"
    }
   ],
   "source": [
    "b= \"taylor swift\"\n",
    "b.capitalize()"
   ]
  },
  {
   "cell_type": "code",
   "execution_count": 928,
   "id": "e08fc956-0bdf-4e4f-8e15-731585d902af",
   "metadata": {},
   "outputs": [
    {
     "data": {
      "text/plain": [
       "'zülall'"
      ]
     },
     "execution_count": 928,
     "metadata": {},
     "output_type": "execute_result"
    }
   ],
   "source": [
    "c=\"ZÜLALL\"\n",
    "c.lower()"
   ]
  },
  {
   "cell_type": "code",
   "execution_count": 930,
   "id": "2e77aba7-a1c0-4230-876e-9cafc3f2ae43",
   "metadata": {},
   "outputs": [
    {
     "data": {
      "text/plain": [
       "'Zülall'"
      ]
     },
     "execution_count": 930,
     "metadata": {},
     "output_type": "execute_result"
    }
   ],
   "source": [
    "c=\"ZÜLALL\"\n",
    "c.capitalize()"
   ]
  },
  {
   "cell_type": "code",
   "execution_count": 933,
   "id": "71bd1f9a-a121-4f6f-a232-4940fdb72339",
   "metadata": {},
   "outputs": [
    {
     "data": {
      "text/plain": [
       "'Taylor Swift'"
      ]
     },
     "execution_count": 933,
     "metadata": {},
     "output_type": "execute_result"
    }
   ],
   "source": [
    "b.title()"
   ]
  },
  {
   "cell_type": "code",
   "execution_count": 935,
   "id": "8292c373-4ab0-495a-b9eb-8422c8214535",
   "metadata": {},
   "outputs": [
    {
     "data": {
      "text/plain": [
       "'Taylor sWIFT'"
      ]
     },
     "execution_count": 935,
     "metadata": {},
     "output_type": "execute_result"
    }
   ],
   "source": [
    "\"tAYLOR Swift\".swapcase()"
   ]
  },
  {
   "cell_type": "markdown",
   "id": "019124dc-cb2d-4bf7-b4f4-250fec00f18f",
   "metadata": {},
   "source": [
    "* replace\n"
   ]
  },
  {
   "cell_type": "code",
   "execution_count": 943,
   "id": "769c59cf-d5b0-4629-8544-3a427d374c61",
   "metadata": {},
   "outputs": [
    {
     "data": {
      "text/plain": [
       "'aülal'"
      ]
     },
     "execution_count": 943,
     "metadata": {},
     "output_type": "execute_result"
    }
   ],
   "source": [
    "a=\"zülal\"\n",
    "a.replace (\"z\", \"a\")"
   ]
  },
  {
   "cell_type": "code",
   "execution_count": 949,
   "id": "617b2e6d-c481-4df3-8e5c-0c5091d10269",
   "metadata": {},
   "outputs": [
    {
     "name": "stdout",
     "output_type": "stream",
     "text": [
      "taylor swift\n"
     ]
    }
   ],
   "source": [
    "sep = \"*\"\n",
    "print (\"taylor\" , \"swift\")"
   ]
  },
  {
   "cell_type": "code",
   "execution_count": 955,
   "id": "0935963c-4ebc-40d2-b468-f8a1838e8050",
   "metadata": {},
   "outputs": [
    {
     "name": "stdout",
     "output_type": "stream",
     "text": [
      "taylor swift\n"
     ]
    }
   ],
   "source": [
    "taylor = \"taylor swift\"\n",
    "print(taylor)"
   ]
  },
  {
   "cell_type": "code",
   "execution_count": 963,
   "id": "8e125808-14be-43cb-9334-9a6b0925e891",
   "metadata": {},
   "outputs": [
    {
     "name": "stdout",
     "output_type": "stream",
     "text": [
      "2025/05/02\n"
     ]
    }
   ],
   "source": [
    "# separator\n",
    "\n",
    "print(\"2025\", \"05\", \"02\", sep=\"/\")\n"
   ]
  },
  {
   "cell_type": "code",
   "execution_count": 1001,
   "id": "46db658d-6dfe-449b-99e5-95aa9a2bc056",
   "metadata": {},
   "outputs": [
    {
     "name": "stdout",
     "output_type": "stream",
     "text": [
      "20/08/1997\n"
     ]
    }
   ],
   "source": [
    "print (20, \"08\", 1997, sep=\"/\")"
   ]
  },
  {
   "cell_type": "code",
   "execution_count": 981,
   "id": "6a7b08eb-1391-4fb0-aabc-ff658b5f56ac",
   "metadata": {},
   "outputs": [
    {
     "name": "stdout",
     "output_type": "stream",
     "text": [
      "taylorr* *swift\n"
     ]
    }
   ],
   "source": [
    "print (\"taylorr\" , \" \", \"swift\", sep=\"*\")"
   ]
  },
  {
   "cell_type": "markdown",
   "id": "c464a70b-324f-4a73-85d7-d35352548a93",
   "metadata": {},
   "source": [
    "# COHORT DEVAM - Stringlerde Karşılaştırma"
   ]
  },
  {
   "cell_type": "code",
   "execution_count": 9,
   "id": "cc01df46-7ba6-4830-be2c-b928b5326dcd",
   "metadata": {},
   "outputs": [
    {
     "data": {
      "text/plain": [
       "False"
      ]
     },
     "execution_count": 9,
     "metadata": {},
     "output_type": "execute_result"
    }
   ],
   "source": [
    "\"Elma\" > \"elma\""
   ]
  },
  {
   "cell_type": "code",
   "execution_count": 13,
   "id": "d00f665e-a3d1-445a-9ffe-866ffdd1301e",
   "metadata": {},
   "outputs": [
    {
     "data": {
      "text/plain": [
       "False"
      ]
     },
     "execution_count": 13,
     "metadata": {},
     "output_type": "execute_result"
    }
   ],
   "source": [
    "\"elma\" > \"elma\""
   ]
  },
  {
   "cell_type": "code",
   "execution_count": 17,
   "id": "24361c5a-2572-4086-b51d-929beb2e177c",
   "metadata": {},
   "outputs": [
    {
     "data": {
      "text/plain": [
       "False"
      ]
     },
     "execution_count": 17,
     "metadata": {},
     "output_type": "execute_result"
    }
   ],
   "source": [
    "\"abc\" < \"ab\""
   ]
  },
  {
   "cell_type": "code",
   "execution_count": 19,
   "id": "e51cd936-185b-4d75-ade7-738642cff155",
   "metadata": {},
   "outputs": [
    {
     "data": {
      "text/plain": [
       "False"
      ]
     },
     "execution_count": 19,
     "metadata": {},
     "output_type": "execute_result"
    }
   ],
   "source": [
    "\"abckfyhfkf\" > \"zcbdkfhj\""
   ]
  },
  {
   "cell_type": "code",
   "execution_count": 21,
   "id": "590b48a2-6f34-47ec-88de-bdd45747d27d",
   "metadata": {},
   "outputs": [
    {
     "data": {
      "text/plain": [
       "True"
      ]
     },
     "execution_count": 21,
     "metadata": {},
     "output_type": "execute_result"
    }
   ],
   "source": [
    "\"zülal\" > \"zeren\""
   ]
  },
  {
   "cell_type": "code",
   "execution_count": 25,
   "id": "d8160a71-d48a-405b-a528-8b50dd429066",
   "metadata": {},
   "outputs": [
    {
     "data": {
      "text/plain": [
       "False"
      ]
     },
     "execution_count": 25,
     "metadata": {},
     "output_type": "execute_result"
    }
   ],
   "source": [
    "\"ab\" < \"a\""
   ]
  },
  {
   "cell_type": "code",
   "execution_count": 29,
   "id": "20f8f9f6-4bf3-482f-a9fa-ee4900005927",
   "metadata": {},
   "outputs": [
    {
     "data": {
      "text/plain": [
       "True"
      ]
     },
     "execution_count": 29,
     "metadata": {},
     "output_type": "execute_result"
    }
   ],
   "source": [
    "\"Elma\" != \"elma\""
   ]
  },
  {
   "cell_type": "markdown",
   "id": "a2b4839c-93ac-477e-a6ff-a5ac18266a3c",
   "metadata": {},
   "source": [
    "# Mantıksal Operatörler (Logical Operators)"
   ]
  },
  {
   "cell_type": "code",
   "execution_count": 34,
   "id": "5cdae380-38c8-48d2-9152-2217010e1ace",
   "metadata": {},
   "outputs": [
    {
     "data": {
      "text/plain": [
       "False"
      ]
     },
     "execution_count": 34,
     "metadata": {},
     "output_type": "execute_result"
    }
   ],
   "source": [
    "not True"
   ]
  },
  {
   "cell_type": "code",
   "execution_count": 36,
   "id": "0748f208-3ec3-4131-9ea0-47f928b2ef61",
   "metadata": {},
   "outputs": [
    {
     "data": {
      "text/plain": [
       "True"
      ]
     },
     "execution_count": 36,
     "metadata": {},
     "output_type": "execute_result"
    }
   ],
   "source": [
    "not False"
   ]
  },
  {
   "cell_type": "code",
   "execution_count": 38,
   "id": "87e69b54-51c8-48ec-ae2a-9599c6259a37",
   "metadata": {},
   "outputs": [
    {
     "data": {
      "text/plain": [
       "True"
      ]
     },
     "execution_count": 38,
     "metadata": {},
     "output_type": "execute_result"
    }
   ],
   "source": [
    "not 5 > 6"
   ]
  },
  {
   "cell_type": "code",
   "execution_count": 40,
   "id": "2dbf7aba-6a98-4109-bfbd-c13a0b8bc6b6",
   "metadata": {},
   "outputs": [
    {
     "data": {
      "text/plain": [
       "True"
      ]
     },
     "execution_count": 40,
     "metadata": {},
     "output_type": "execute_result"
    }
   ],
   "source": [
    "True and True"
   ]
  },
  {
   "cell_type": "code",
   "execution_count": 42,
   "id": "ac724b75-d322-4195-ab7f-e44dfd914442",
   "metadata": {},
   "outputs": [
    {
     "data": {
      "text/plain": [
       "False"
      ]
     },
     "execution_count": 42,
     "metadata": {},
     "output_type": "execute_result"
    }
   ],
   "source": [
    "True and False"
   ]
  },
  {
   "cell_type": "code",
   "execution_count": 44,
   "id": "b716d097-3441-4849-9597-ab4453239e4b",
   "metadata": {},
   "outputs": [
    {
     "data": {
      "text/plain": [
       "True"
      ]
     },
     "execution_count": 44,
     "metadata": {},
     "output_type": "execute_result"
    }
   ],
   "source": [
    "True or False"
   ]
  },
  {
   "cell_type": "code",
   "execution_count": 52,
   "id": "93eac175-2ebb-4e51-9ae5-a127dfe6b868",
   "metadata": {},
   "outputs": [
    {
     "data": {
      "text/plain": [
       "False"
      ]
     },
     "execution_count": 52,
     "metadata": {},
     "output_type": "execute_result"
    }
   ],
   "source": [
    "3>5 and 9>8"
   ]
  },
  {
   "cell_type": "code",
   "execution_count": 50,
   "id": "85e3a209-e899-4c6d-bf63-4d4af714d723",
   "metadata": {},
   "outputs": [
    {
     "data": {
      "text/plain": [
       "True"
      ]
     },
     "execution_count": 50,
     "metadata": {},
     "output_type": "execute_result"
    }
   ],
   "source": [
    "3>5 or 9>8"
   ]
  },
  {
   "cell_type": "code",
   "execution_count": 56,
   "id": "6397af81-b66f-4865-9a53-3de952b38260",
   "metadata": {},
   "outputs": [
    {
     "data": {
      "text/plain": [
       "True"
      ]
     },
     "execution_count": 56,
     "metadata": {},
     "output_type": "execute_result"
    }
   ],
   "source": [
    "5>3 and 9>8"
   ]
  },
  {
   "cell_type": "markdown",
   "id": "4a16cd36-2e80-49d3-b9a9-0fcbc9df6bc5",
   "metadata": {},
   "source": [
    "# Short Circuit"
   ]
  },
  {
   "cell_type": "code",
   "execution_count": 59,
   "id": "6172962b-c871-4799-9828-030414643747",
   "metadata": {},
   "outputs": [
    {
     "data": {
      "text/plain": [
       "False"
      ]
     },
     "execution_count": 59,
     "metadata": {},
     "output_type": "execute_result"
    }
   ],
   "source": [
    "(5 < 3) and print(\"hey\")"
   ]
  },
  {
   "cell_type": "code",
   "execution_count": 61,
   "id": "3d06b4e2-0a87-4f6a-b04e-d44da10166c6",
   "metadata": {},
   "outputs": [
    {
     "data": {
      "text/plain": [
       "True"
      ]
     },
     "execution_count": 61,
     "metadata": {},
     "output_type": "execute_result"
    }
   ],
   "source": [
    "(5 > 3) or print(\"hey\")"
   ]
  },
  {
   "cell_type": "code",
   "execution_count": 63,
   "id": "42e5b1c7-e54b-4d2a-9fb1-661f9291ffd6",
   "metadata": {},
   "outputs": [
    {
     "name": "stdout",
     "output_type": "stream",
     "text": [
      "hey\n"
     ]
    }
   ],
   "source": [
    "(5 < 3) or print(\"hey\")"
   ]
  },
  {
   "cell_type": "code",
   "execution_count": 87,
   "id": "99e9cc3b-efcf-4c11-83f4-12ff5350d8cf",
   "metadata": {},
   "outputs": [
    {
     "name": "stdout",
     "output_type": "stream",
     "text": [
      "hey\n"
     ]
    }
   ],
   "source": [
    "(5 > 3) and print(\"hey\")"
   ]
  },
  {
   "cell_type": "code",
   "execution_count": 89,
   "id": "d3583bcd-0a0d-4911-9143-fa41a3dca5c1",
   "metadata": {},
   "outputs": [
    {
     "data": {
      "text/plain": [
       "True"
      ]
     },
     "execution_count": 89,
     "metadata": {},
     "output_type": "execute_result"
    }
   ],
   "source": [
    "(2 == 2) & (3 == 3) #and ile aynı ama short circuit'i engelliyo"
   ]
  },
  {
   "cell_type": "code",
   "execution_count": 91,
   "id": "1666ab61-7d54-474a-9fa2-05bc1a98b8b5",
   "metadata": {},
   "outputs": [
    {
     "name": "stdout",
     "output_type": "stream",
     "text": [
      "hey\n"
     ]
    },
    {
     "ename": "TypeError",
     "evalue": "unsupported operand type(s) for &: 'bool' and 'NoneType'",
     "output_type": "error",
     "traceback": [
      "\u001b[1;31m---------------------------------------------------------------------------\u001b[0m",
      "\u001b[1;31mTypeError\u001b[0m                                 Traceback (most recent call last)",
      "Cell \u001b[1;32mIn[91], line 1\u001b[0m\n\u001b[1;32m----> 1\u001b[0m (\u001b[38;5;241m5\u001b[39m \u001b[38;5;241m<\u001b[39m \u001b[38;5;241m3\u001b[39m) \u001b[38;5;241m&\u001b[39m \u001b[38;5;28mprint\u001b[39m(\u001b[38;5;124m\"\u001b[39m\u001b[38;5;124mhey\u001b[39m\u001b[38;5;124m\"\u001b[39m)\n",
      "\u001b[1;31mTypeError\u001b[0m: unsupported operand type(s) for &: 'bool' and 'NoneType'"
     ]
    }
   ],
   "source": [
    "(5 < 3) & print(\"hey\") #short circuit olsa direkt False yazacaktı, böyle hey'i yazdırıyor ama hata da veriyor"
   ]
  },
  {
   "cell_type": "code",
   "execution_count": 93,
   "id": "918b23da-dd03-46af-a8f7-d08cb3b9978c",
   "metadata": {},
   "outputs": [
    {
     "data": {
      "text/plain": [
       "True"
      ]
     },
     "execution_count": 93,
     "metadata": {},
     "output_type": "execute_result"
    }
   ],
   "source": [
    "(2 == 2) | (3 < 3) #bu da or'la aynı"
   ]
  },
  {
   "cell_type": "code",
   "execution_count": 95,
   "id": "11bf7fe2-6d67-405c-b3f2-3618f6463587",
   "metadata": {},
   "outputs": [
    {
     "name": "stdout",
     "output_type": "stream",
     "text": [
      "hey\n"
     ]
    },
    {
     "ename": "TypeError",
     "evalue": "unsupported operand type(s) for |: 'bool' and 'NoneType'",
     "output_type": "error",
     "traceback": [
      "\u001b[1;31m---------------------------------------------------------------------------\u001b[0m",
      "\u001b[1;31mTypeError\u001b[0m                                 Traceback (most recent call last)",
      "Cell \u001b[1;32mIn[95], line 1\u001b[0m\n\u001b[1;32m----> 1\u001b[0m (\u001b[38;5;241m5\u001b[39m \u001b[38;5;241m>\u001b[39m \u001b[38;5;241m3\u001b[39m) \u001b[38;5;241m|\u001b[39m \u001b[38;5;28mprint\u001b[39m(\u001b[38;5;124m\"\u001b[39m\u001b[38;5;124mhey\u001b[39m\u001b[38;5;124m\"\u001b[39m)\n",
      "\u001b[1;31mTypeError\u001b[0m: unsupported operand type(s) for |: 'bool' and 'NoneType'"
     ]
    }
   ],
   "source": [
    "(5 > 3) | print(\"hey\") #short circuit olsa direkt True yazacaktı, böyle hey'i yazdırıyor ama hata da veriyor"
   ]
  },
  {
   "cell_type": "code",
   "execution_count": 103,
   "id": "46e82105-e9c9-4b60-adf0-47513262c253",
   "metadata": {},
   "outputs": [
    {
     "name": "stdout",
     "output_type": "stream",
     "text": [
      "merhaba\n"
     ]
    },
    {
     "ename": "TypeError",
     "evalue": "unsupported operand type(s) for &: 'bool' and 'NoneType'",
     "output_type": "error",
     "traceback": [
      "\u001b[1;31m---------------------------------------------------------------------------\u001b[0m",
      "\u001b[1;31mTypeError\u001b[0m                                 Traceback (most recent call last)",
      "Cell \u001b[1;32mIn[103], line 1\u001b[0m\n\u001b[1;32m----> 1\u001b[0m (\u001b[38;5;241m2\u001b[39m\u001b[38;5;241m<\u001b[39m\u001b[38;5;241m2\u001b[39m) \u001b[38;5;241m&\u001b[39m \u001b[38;5;28mprint\u001b[39m(\u001b[38;5;124m\"\u001b[39m\u001b[38;5;124mmerhaba\u001b[39m\u001b[38;5;124m\"\u001b[39m)\n",
      "\u001b[1;31mTypeError\u001b[0m: unsupported operand type(s) for &: 'bool' and 'NoneType'"
     ]
    }
   ],
   "source": [
    "(2<2) & print(\"merhaba\") "
   ]
  },
  {
   "cell_type": "markdown",
   "id": "535116bf-6545-432b-a5d6-fb15723be69b",
   "metadata": {},
   "source": [
    "# ELSE IF ELIF (ELSE IF)"
   ]
  },
  {
   "cell_type": "code",
   "execution_count": 124,
   "id": "4e6e566f-5602-4b1d-9bd5-2b5795330e67",
   "metadata": {},
   "outputs": [
    {
     "name": "stdin",
     "output_type": "stream",
     "text": [
      "Bir sayı girin 4\n"
     ]
    },
    {
     "name": "stdout",
     "output_type": "stream",
     "text": [
      "x çift sayı\n",
      "the end.\n"
     ]
    }
   ],
   "source": [
    "x=int(input(\"Bir sayı girin\"))\n",
    "\n",
    "if x%2==0:\n",
    "    print (\"x çift sayı\")\n",
    "\n",
    "print (\"the end.\")"
   ]
  },
  {
   "cell_type": "code",
   "execution_count": 152,
   "id": "dd9c5e65-0efa-4f72-9cd1-7e10f1428460",
   "metadata": {},
   "outputs": [
    {
     "name": "stdin",
     "output_type": "stream",
     "text": [
      "Bir sayı seç 0\n"
     ]
    },
    {
     "name": "stdout",
     "output_type": "stream",
     "text": [
      "x sıfır\n",
      "EL FIN.\n"
     ]
    }
   ],
   "source": [
    "x= int(input(\"Bir sayı seç\"))\n",
    "\n",
    "if x%2!=0:\n",
    "    print (\"x tek sayı\")\n",
    "\n",
    "elif x==0:\n",
    "    print (\"x sıfır\")\n",
    "\n",
    "else:\n",
    "    print (\"x çift sayı\")\n",
    "\n",
    "print (\"EL FIN.\")"
   ]
  },
  {
   "cell_type": "code",
   "execution_count": 241,
   "id": "30353a4a-fe1f-40a6-878d-d2d4c70d1647",
   "metadata": {},
   "outputs": [
    {
     "name": "stdin",
     "output_type": "stream",
     "text": [
      "Bir sayı seç 20\n"
     ]
    },
    {
     "name": "stdout",
     "output_type": "stream",
     "text": [
      "sayı 10'a bölünüyor\n",
      "işlem sonu.\n"
     ]
    }
   ],
   "source": [
    "x= int(input(\"Bir sayı seç\"))\n",
    "\n",
    "if x%2==0:\n",
    "    if x%5==0:\n",
    "        print (\"sayı 10'a bölünüyor\")\n",
    "    elif x%3==0:\n",
    "        print (\"sayı 6'ya bölünüyor\")\n",
    "    else:\n",
    "        print (\"sayı 2'ye bölünüyor\")\n",
    "\n",
    "elif x%3==0:\n",
    "        print (\"sayı 3'e bölünüyor\")\n",
    "\n",
    "else:\n",
    "    print (\"2'ye de 3'e de 6'ya da 10'a da bölünmüyor\")\n",
    "\n",
    "print (\"işlem sonu.\")\n"
   ]
  },
  {
   "cell_type": "code",
   "execution_count": 376,
   "id": "a038b11a-b1e9-46a7-955b-d2e266235376",
   "metadata": {},
   "outputs": [
    {
     "name": "stdout",
     "output_type": "stream",
     "text": [
      "sayı 1'den küçük! tekrar girin.\n"
     ]
    },
    {
     "name": "stdin",
     "output_type": "stream",
     "text": [
      "Bir sayı seç 150\n"
     ]
    },
    {
     "name": "stdout",
     "output_type": "stream",
     "text": [
      "sayı 100'den büyük! tekrar girin.\n"
     ]
    },
    {
     "name": "stdin",
     "output_type": "stream",
     "text": [
      "Bir sayı seç 5\n"
     ]
    },
    {
     "name": "stdout",
     "output_type": "stream",
     "text": [
      "sayı 1'le 50 arasında.\n",
      "işlem sonu\n"
     ]
    }
   ],
   "source": [
    "x=0\n",
    "\n",
    "while x<=0\n",
    "    print (\"sayı 1'den küçük! tekrar girin.\") \n",
    "    x= int(input(\"Bir sayı seç\"))\n",
    "\n",
    "while x>=100:\n",
    "    print (\"sayı 100'den büyük! tekrar girin.\")\n",
    "    x= int(input(\"Bir sayı seç\"))\n",
    "    \n",
    "if x==100:\n",
    "    print (\"sayı 100.\")\n",
    "elif x<=50:\n",
    "    print (\"sayı 1'le 50 arasında.\")\n",
    "else:\n",
    "    print (\"sayı 50'yle 100 arasında.\")\n",
    "\n",
    "print (\"işlem sonu\")"
   ]
  },
  {
   "cell_type": "code",
   "execution_count": 404,
   "id": "8c2c060b-9fd9-4291-94d9-626feec45f20",
   "metadata": {},
   "outputs": [
    {
     "name": "stdin",
     "output_type": "stream",
     "text": [
      "Bir sayı seç:  101\n"
     ]
    },
    {
     "name": "stdout",
     "output_type": "stream",
     "text": [
      "Sayı 100'den büyük! Tekrar girin.\n"
     ]
    },
    {
     "name": "stdin",
     "output_type": "stream",
     "text": [
      "Bir sayı seç:  100\n"
     ]
    },
    {
     "name": "stdout",
     "output_type": "stream",
     "text": [
      "Sayı 100.\n",
      "İşlem sonu\n"
     ]
    }
   ],
   "source": [
    "x = int(input(\"Bir sayı seç: \"))\n",
    "\n",
    "while x <= 0 or x > 100:\n",
    "    if x <= 0:\n",
    "        print(\"Sayı 1'den küçük! Tekrar girin.\")\n",
    "    elif x > 100:\n",
    "        print(\"Sayı 100'den büyük! Tekrar girin.\")\n",
    "    x = int(input(\"Bir sayı seç: \"))\n",
    "\n",
    "if x == 100:\n",
    "    print(\"Sayı 100.\")\n",
    "elif x <= 50:\n",
    "    print(\"Sayı 1'le 50 arasında.\")\n",
    "else:\n",
    "    print(\"Sayı 50'yle 100 arasında.\")\n",
    "\n",
    "print(\"İşlem sonu\")"
   ]
  },
  {
   "cell_type": "code",
   "execution_count": 419,
   "id": "fc4d12f4-9350-47d1-afed-638fe2f0cc23",
   "metadata": {},
   "outputs": [
    {
     "name": "stdin",
     "output_type": "stream",
     "text": [
      "Bir sayı seç:  100\n"
     ]
    },
    {
     "name": "stdout",
     "output_type": "stream",
     "text": [
      "successful\n"
     ]
    }
   ],
   "source": [
    "x = int(input(\"Bir sayı seç: \"))\n",
    "\n",
    "while x <= 0:\n",
    "    print(\"Sayı 1'den küçük! Tekrar girin.\")\n",
    "    x = int(input(\"Bir sayı seç: \"))\n",
    "\n",
    "else:\n",
    "    print(\"successful\")"
   ]
  },
  {
   "cell_type": "code",
   "execution_count": 396,
   "id": "05dfb0d1-025b-4fd8-8b68-70134cbce8ef",
   "metadata": {},
   "outputs": [
    {
     "name": "stdin",
     "output_type": "stream",
     "text": [
      "Bir sayı seç:  100\n"
     ]
    },
    {
     "name": "stdout",
     "output_type": "stream",
     "text": [
      "Girdiğin sayı: 100\n"
     ]
    }
   ],
   "source": [
    "x = int(input(\"Bir sayı seç: \"))\n",
    "print(\"Girdiğin sayı:\", x)"
   ]
  },
  {
   "cell_type": "code",
   "execution_count": 212,
   "id": "71a4daa1-473a-42d7-a53f-799d1be3aa43",
   "metadata": {},
   "outputs": [
    {
     "name": "stdin",
     "output_type": "stream",
     "text": [
      "Bir sayı girin:  54\n"
     ]
    },
    {
     "name": "stdout",
     "output_type": "stream",
     "text": [
      "Sayı hem 2'ye hem de 3'e bölünüyor\n",
      "Programınız sona ulaştı\n"
     ]
    }
   ],
   "source": [
    "x = int(input(\"Bir sayı girin: \"))\n",
    "\n",
    "if (x % 3 == 0) and (x % 2) == 0:\n",
    "    print(\"Sayı hem 2'ye hem de 3'e bölünüyor\")\n",
    "    \n",
    "print(\"Programınız sona ulaştı\")"
   ]
  },
  {
   "cell_type": "code",
   "execution_count": 250,
   "id": "5790af37-ce1d-4606-a952-96da7a54d97a",
   "metadata": {},
   "outputs": [
    {
     "name": "stdin",
     "output_type": "stream",
     "text": [
      "Bir sayı girin:  5\n"
     ]
    },
    {
     "name": "stdout",
     "output_type": "stream",
     "text": [
      "Programınız sona ulaştı\n"
     ]
    }
   ],
   "source": [
    "x = int(input(\"Bir sayı girin: \"))\n",
    "\n",
    "if (x % 3 == 0) or (x % 2 == 0):\n",
    "    print(\"Sayı 2 veya 3'den en az birine bölünüyor\")\n",
    "\n",
    "print(\"Programınız sona ulaştı\")"
   ]
  },
  {
   "cell_type": "code",
   "execution_count": 252,
   "id": "4636d83c-bce5-47fe-a76c-c3cd8a410255",
   "metadata": {},
   "outputs": [],
   "source": [
    "# Ternary Conditionals"
   ]
  },
  {
   "cell_type": "code",
   "execution_count": 262,
   "id": "2e1f6728-307f-4841-8010-39ce14484989",
   "metadata": {},
   "outputs": [
    {
     "name": "stdin",
     "output_type": "stream",
     "text": [
      "x'in değeri 2 olsun mu? evet ya da hayır yaz:   hayır\n"
     ]
    },
    {
     "name": "stdout",
     "output_type": "stream",
     "text": [
      "0\n"
     ]
    }
   ],
   "source": [
    "cevap = input(\"x'in değeri 2 olsun mu? evet ya da hayır yaz:  \")\n",
    "\n",
    "x=2 if cevap == \"evet\" else 0\n",
    "print (x)"
   ]
  },
  {
   "cell_type": "code",
   "execution_count": 268,
   "id": "76fb52f3-c3ea-40e2-956e-cb7d61c631fe",
   "metadata": {},
   "outputs": [
    {
     "name": "stdin",
     "output_type": "stream",
     "text": [
      "x'in değeri 2 olsun mu? evet ya da hayır yaz:   hayır\n"
     ]
    },
    {
     "name": "stdout",
     "output_type": "stream",
     "text": [
      "0\n"
     ]
    }
   ],
   "source": [
    "cevap = input(\"x'in değeri 2 olsun mu? evet ya da hayır yaz:  \")\n",
    "\n",
    "condition = cevap == \"evet\"\n",
    "x=2 if condition else 0\n",
    "print (x)"
   ]
  },
  {
   "cell_type": "markdown",
   "id": "41d99987-365e-4a92-985a-f419e6636aa4",
   "metadata": {},
   "source": [
    "# Döngüler (loops)"
   ]
  },
  {
   "cell_type": "markdown",
   "id": "dcdc74bd-da34-4b66-b470-238bf2724cbf",
   "metadata": {},
   "source": [
    "# WHILE"
   ]
  },
  {
   "cell_type": "code",
   "execution_count": 290,
   "id": "f5e800b1-31ab-440f-867d-fcafa1a093d8",
   "metadata": {},
   "outputs": [
    {
     "name": "stdin",
     "output_type": "stream",
     "text": [
      "bi sayı giriniz:   -7\n"
     ]
    },
    {
     "name": "stdout",
     "output_type": "stream",
     "text": [
      "sayı negatif, pozitif sayı giriniz.\n"
     ]
    },
    {
     "name": "stdin",
     "output_type": "stream",
     "text": [
      "bi sayı giriniz:   43\n"
     ]
    },
    {
     "name": "stdout",
     "output_type": "stream",
     "text": [
      "sayınız pozitif ve 43\n"
     ]
    }
   ],
   "source": [
    "x=int(input (\"bi sayı giriniz:  \"))\n",
    "\n",
    "while x < 0:\n",
    "    print (\"sayı negatif, pozitif sayı giriniz.\")\n",
    "    x=int(input (\"bi sayı giriniz:  \"))\n",
    "\n",
    "print (\"sayınız pozitif ve\", x)"
   ]
  },
  {
   "cell_type": "code",
   "execution_count": 421,
   "id": "b904b069-cbeb-4ca6-9d49-3ee146862000",
   "metadata": {},
   "outputs": [
    {
     "name": "stdin",
     "output_type": "stream",
     "text": [
      "Bir sayı seç:  54\n"
     ]
    },
    {
     "name": "stdout",
     "output_type": "stream",
     "text": [
      "successful\n"
     ]
    }
   ],
   "source": [
    "x = int(input(\"Bir sayı seç: \"))\n",
    "\n",
    "while x <= 0:\n",
    "    print(\"Sayı 1'den küçük! Tekrar girin.\")\n",
    "    x = int(input(\"Bir sayı seç: \"))\n",
    "\n",
    "else:\n",
    "    print(\"successful\")"
   ]
  },
  {
   "cell_type": "code",
   "execution_count": 294,
   "id": "e4bf81fe-9e69-44a6-8384-e66bb20c85e5",
   "metadata": {},
   "outputs": [
    {
     "name": "stdout",
     "output_type": "stream",
     "text": [
      "0\n",
      "1\n",
      "2\n"
     ]
    }
   ],
   "source": [
    "x=0\n",
    "\n",
    "while x<3:\n",
    "    print (x)\n",
    "    x=x+1"
   ]
  },
  {
   "cell_type": "code",
   "execution_count": 301,
   "id": "4d58b204-eca9-401f-a9bf-bf5c23061c9a",
   "metadata": {},
   "outputs": [
    {
     "name": "stdout",
     "output_type": "stream",
     "text": [
      "5050\n"
     ]
    }
   ],
   "source": [
    "toplam=0\n",
    "x=0\n",
    "\n",
    "while x<=100:\n",
    "    toplam+= x #toplamı x arttır\n",
    "    x+=1 #x'i 1 arttır\n",
    "print (toplam)"
   ]
  },
  {
   "cell_type": "markdown",
   "id": "d4dbf880-e836-41c1-b992-851c91d911d5",
   "metadata": {},
   "source": [
    " #  FOR"
   ]
  },
  {
   "cell_type": "code",
   "execution_count": 318,
   "id": "d672452f-933d-4e46-aa63-347d654efb30",
   "metadata": {},
   "outputs": [
    {
     "name": "stdout",
     "output_type": "stream",
     "text": [
      "0\n",
      "1\n",
      "2\n",
      "3\n",
      "4\n",
      "5\n",
      "6\n",
      "7\n",
      "8\n",
      "9\n"
     ]
    }
   ],
   "source": [
    "for  c  in range(10):\n",
    "    print (c)"
   ]
  },
  {
   "cell_type": "code",
   "execution_count": 324,
   "id": "45548578-fb2e-436b-a240-71adb28be7d8",
   "metadata": {},
   "outputs": [
    {
     "name": "stdout",
     "output_type": "stream",
     "text": [
      "0\n",
      "1\n",
      "2\n",
      "3\n",
      "4\n"
     ]
    }
   ],
   "source": [
    "for x in range(5):\n",
    "    print(x)"
   ]
  },
  {
   "cell_type": "code",
   "execution_count": 314,
   "id": "3f3ce549-8baa-45e5-9e41-f5f949474a74",
   "metadata": {},
   "outputs": [
    {
     "name": "stdout",
     "output_type": "stream",
     "text": [
      "z\n",
      "ü\n",
      "l\n",
      "a\n",
      "l\n"
     ]
    }
   ],
   "source": [
    "for c in \"zülal\":\n",
    "    print (c)"
   ]
  },
  {
   "cell_type": "code",
   "execution_count": 440,
   "id": "dd8daea6-4dbb-45d1-8a22-7c97fabec996",
   "metadata": {},
   "outputs": [
    {
     "name": "stdout",
     "output_type": "stream",
     "text": [
      "100\n",
      "5050\n"
     ]
    }
   ],
   "source": [
    "toplam=0 #toplamı hangi sayıdan başlatırsan, o sayı da toplamın içine dahil olur. toplama formülü: n*(n+1)//2\n",
    "\n",
    "for c in range (101): #0 ile 100 arası 100 dahil\n",
    "    toplam += c #toplamı c arttır 1+2+3+4+5...+100\n",
    "print (c)\n",
    "print (toplam)\n",
    "\n",
    "    "
   ]
  },
  {
   "cell_type": "code",
   "execution_count": 442,
   "id": "1e43cad8-6f9a-40d7-8398-b4ae9ba82f61",
   "metadata": {},
   "outputs": [
    {
     "name": "stdout",
     "output_type": "stream",
     "text": [
      "3125\n"
     ]
    }
   ],
   "source": [
    "sonuç = 1 #0'la başlatsam 0 da sonuca eşit olacağı için sonucu direkt 0 yapar o yüzden 1'den başlamak lazım\n",
    "for i in range(5): #i yerine _ de yapılıyor\n",
    "    sonuç *=5 #sonuç=sonuç*5 demek, sonucu 5'le çarp yani i'nin karşılığı olmadığı için onun değerine göre değişen bişi yok,\n",
    "    #5x5x5x5x5 işlemini 5 kere range(5) yaptırıyo\n",
    "    \n",
    "print(sonuç)"
   ]
  },
  {
   "cell_type": "code",
   "execution_count": 346,
   "id": "df85c0b1-aa99-4072-be58-e3fd8d69ee58",
   "metadata": {},
   "outputs": [],
   "source": [
    "#WHILE'DA DÖNGÜ NE KADAR DEVAM EDECEK BELİRSİZ, FOR'DA ELEMAN VEYA RANGE SAYISI KADAR DÖNGÜ OLUYOR. FOR WHILE'LA YARATILIR WHILE FOR'LA YARATILMAZ ÇÜNKÜ \n",
    "#FOR'DA TEST MANTIĞI YOK"
   ]
  },
  {
   "cell_type": "code",
   "execution_count": 354,
   "id": "c3df2cd0-9f76-405e-aaa1-fccc6c2f2f77",
   "metadata": {},
   "outputs": [],
   "source": [
    "a= \"hey\""
   ]
  },
  {
   "cell_type": "code",
   "execution_count": 356,
   "id": "3fde2fbe-1d72-4384-a516-44e7ddb84356",
   "metadata": {},
   "outputs": [
    {
     "name": "stdout",
     "output_type": "stream",
     "text": [
      "h\n",
      "e\n",
      "y\n"
     ]
    }
   ],
   "source": [
    "for c in a:\n",
    "    print (c)"
   ]
  },
  {
   "cell_type": "code",
   "execution_count": 360,
   "id": "84f71a51-c9e5-4017-a862-3b919a1b9b3d",
   "metadata": {},
   "outputs": [
    {
     "name": "stdout",
     "output_type": "stream",
     "text": [
      "h\n",
      "e\n",
      "y\n"
     ]
    }
   ],
   "source": [
    "n= len(a)\n",
    "index=0 #hep bi 0'dan başlama olayı var\n",
    "\n",
    "while index < n:\n",
    "    print (a[index])\n",
    "    index +=1 #indexi 1 arttır\n"
   ]
  },
  {
   "cell_type": "code",
   "execution_count": 428,
   "id": "a7b578cf-24c5-42c6-8274-3395bd2aae9c",
   "metadata": {},
   "outputs": [
    {
     "name": "stdout",
     "output_type": "stream",
     "text": [
      "81\n"
     ]
    }
   ],
   "source": [
    "sonuc=1\n",
    "\n",
    "for i in range(4):\n",
    "\n",
    "    sonuc*=3 #sonuc=sonuc*3 demek 0'la başlarsa sonuç 0 olur ondan 1'le başlamalı\n",
    "\n",
    "print(sonuc)"
   ]
  },
  {
   "cell_type": "code",
   "execution_count": 452,
   "id": "c5d0ce7a-b21a-44fe-b483-79f47aecbb84",
   "metadata": {},
   "outputs": [
    {
     "name": "stdout",
     "output_type": "stream",
     "text": [
      "51\n",
      "1275\n"
     ]
    }
   ],
   "source": [
    "#while'la yaparken hem x=0 hem toplam=0 demek gerek\n",
    "\n",
    "x=0\n",
    "toplam=0\n",
    "\n",
    "while x<=50:\n",
    "    toplam+=x\n",
    "    x+=1\n",
    "print (x)\n",
    "print(toplam)"
   ]
  },
  {
   "cell_type": "code",
   "execution_count": 456,
   "id": "c7100327-d8d3-43d7-95c9-4618324b6e95",
   "metadata": {},
   "outputs": [
    {
     "name": "stdout",
     "output_type": "stream",
     "text": [
      "10\n"
     ]
    }
   ],
   "source": [
    "#for'la yaparken sadece toplam=0 diyoruz çünkü range var ve sonsuz döngü gerektiren bişi değil\n",
    "\n",
    "toplam=0\n",
    "\n",
    "for i in range(5):\n",
    "    toplam+=i\n",
    "\n",
    "print(toplam)"
   ]
  },
  {
   "cell_type": "markdown",
   "id": "e8eb3854-a67d-4aaa-a9f4-416082d788c5",
   "metadata": {},
   "source": [
    "# BREAK"
   ]
  },
  {
   "cell_type": "code",
   "execution_count": 1,
   "id": "dc7aa190-19a8-429e-bbfc-7048d55b2cc5",
   "metadata": {},
   "outputs": [
    {
     "name": "stdout",
     "output_type": "stream",
     "text": [
      "0\n",
      "1\n",
      "2\n",
      "3\n",
      "4\n",
      "5\n"
     ]
    }
   ],
   "source": [
    "for i in range(6):\n",
    "\n",
    "    print(i)"
   ]
  },
  {
   "cell_type": "code",
   "execution_count": 15,
   "id": "c8e6d887-1844-4b08-a990-3a05c831d66d",
   "metadata": {},
   "outputs": [
    {
     "name": "stdout",
     "output_type": "stream",
     "text": [
      "0\n",
      "1\n",
      "2\n",
      "3\n"
     ]
    }
   ],
   "source": [
    "for i in range(6):\n",
    "    if i==4:\n",
    "        break\n",
    "    print(i)"
   ]
  },
  {
   "cell_type": "code",
   "execution_count": 17,
   "id": "9a93672d-b307-44a9-ada0-aee954300cf2",
   "metadata": {},
   "outputs": [
    {
     "name": "stdout",
     "output_type": "stream",
     "text": [
      "0\n",
      "1\n",
      "2\n",
      "3\n",
      "4\n",
      "5\n"
     ]
    }
   ],
   "source": [
    "x=0\n",
    "\n",
    "while x<6: #burda bi range olmadığı için range'in artarak ilerleyeceğini belirtmezsem yani x+=1 yazmazsam sonsuz 0 döngüsüne giriyo.\n",
    "    print(x) #print'i buraya yazmazsam 0'ı basmaz\n",
    "    x+=1\n",
    "    "
   ]
  },
  {
   "cell_type": "code",
   "execution_count": 25,
   "id": "bdf70077-ecc3-4d4a-9c40-d2def1780178",
   "metadata": {},
   "outputs": [
    {
     "name": "stdout",
     "output_type": "stream",
     "text": [
      "0\n",
      "1\n",
      "2\n",
      "3\n"
     ]
    }
   ],
   "source": [
    "x=0\n",
    "\n",
    "while x<6:\n",
    "    print(x)\n",
    "    x+=1\n",
    "    if x==4:\n",
    "        break\n",
    "    \n"
   ]
  },
  {
   "cell_type": "markdown",
   "id": "bca5b16e-ea65-4ba2-baca-d8fd3658a647",
   "metadata": {},
   "source": [
    "# CONTINUE"
   ]
  },
  {
   "cell_type": "code",
   "execution_count": 29,
   "id": "086ea81e-537e-46fd-aa0f-fd85b2d0e150",
   "metadata": {},
   "outputs": [],
   "source": [
    "#o iterasyonu atla, devamına devam et"
   ]
  },
  {
   "cell_type": "code",
   "execution_count": 35,
   "id": "e0ed6f26-6bfa-4404-9750-8cd5306fc128",
   "metadata": {},
   "outputs": [
    {
     "name": "stdout",
     "output_type": "stream",
     "text": [
      "0\n",
      "1\n",
      "2\n",
      "3\n",
      "4\n",
      "5\n",
      "6\n",
      "7\n",
      "8\n",
      "9\n"
     ]
    }
   ],
   "source": [
    "for i in range (10):\n",
    "\n",
    "    print(i)\n"
   ]
  },
  {
   "cell_type": "code",
   "execution_count": 59,
   "id": "a62ced2f-e396-42a2-b9bb-f18c960a4bd4",
   "metadata": {},
   "outputs": [
    {
     "name": "stdout",
     "output_type": "stream",
     "text": [
      "0\n",
      "1\n",
      "2\n",
      "hey\n",
      "4\n",
      "5\n",
      "6\n",
      "7\n",
      "8\n",
      "9\n"
     ]
    }
   ],
   "source": [
    "for i in range (10):\n",
    "    \n",
    "    if i==3:\n",
    "        print(\"hey\")\n",
    "        continue\n",
    "        \n",
    "    print(i)\n",
    "        "
   ]
  },
  {
   "cell_type": "code",
   "execution_count": 69,
   "id": "8ce5ff90-9fd2-4f26-8589-040c37abba9d",
   "metadata": {},
   "outputs": [
    {
     "name": "stdout",
     "output_type": "stream",
     "text": [
      "1\n",
      "2\n",
      "4\n",
      "5\n",
      "6\n",
      "7\n",
      "8\n",
      "9\n",
      "10\n"
     ]
    }
   ],
   "source": [
    "x=0\n",
    "\n",
    "while x<10:\n",
    "    \n",
    "    x+=1\n",
    "    \n",
    "    if x==3:\n",
    "        continue\n",
    "\n",
    "    print(x)"
   ]
  },
  {
   "cell_type": "code",
   "execution_count": 75,
   "id": "38321294-60ed-49bc-a3d7-3021c2532d88",
   "metadata": {},
   "outputs": [
    {
     "name": "stdout",
     "output_type": "stream",
     "text": [
      "i:  0\n",
      "i:  1\n",
      "i:  2\n"
     ]
    },
    {
     "ename": "KeyboardInterrupt",
     "evalue": "",
     "output_type": "error",
     "traceback": [
      "\u001b[1;31m---------------------------------------------------------------------------\u001b[0m",
      "\u001b[1;31mKeyboardInterrupt\u001b[0m                         Traceback (most recent call last)",
      "Cell \u001b[1;32mIn[75], line 4\u001b[0m\n\u001b[0;32m      2\u001b[0m \u001b[38;5;28;01mwhile\u001b[39;00m(i\u001b[38;5;241m<\u001b[39m\u001b[38;5;241m10\u001b[39m):\n\u001b[0;32m      3\u001b[0m     \u001b[38;5;28;01mif\u001b[39;00m(i\u001b[38;5;241m==\u001b[39m\u001b[38;5;241m3\u001b[39m \u001b[38;5;129;01mor\u001b[39;00m i\u001b[38;5;241m==\u001b[39m\u001b[38;5;241m5\u001b[39m):\n\u001b[1;32m----> 4\u001b[0m       \u001b[38;5;28;01mcontinue\u001b[39;00m\n\u001b[0;32m      5\u001b[0m     \u001b[38;5;28mprint\u001b[39m(\u001b[38;5;124m\"\u001b[39m\u001b[38;5;124mi: \u001b[39m\u001b[38;5;124m\"\u001b[39m,i)\n\u001b[0;32m      6\u001b[0m     i\u001b[38;5;241m=\u001b[39mi\u001b[38;5;241m+\u001b[39m\u001b[38;5;241m1\u001b[39m\n",
      "\u001b[1;31mKeyboardInterrupt\u001b[0m: "
     ]
    }
   ],
   "source": [
    "i=0\n",
    "while(i<10):\n",
    "    if(i==3 or i==5):\n",
    "      continue\n",
    "    print(\"i: \",i)\n",
    "    i=i+1 #eğer bu continue'nun üstünde olsaydı 3le birlikte sonsuz döngüye girmezdi"
   ]
  },
  {
   "cell_type": "markdown",
   "id": "1b37791f-42f5-4ab5-9d13-fb2b33369d45",
   "metadata": {},
   "source": [
    "# LIST"
   ]
  },
  {
   "cell_type": "code",
   "execution_count": 221,
   "id": "64d44fea-1069-4ccf-8404-e291edf6bce8",
   "metadata": {},
   "outputs": [],
   "source": [
    "liste = [1, 2, 3, 5, 8, 11, \"zülal\", 5.4, [1,2,3, \"let's go bitch\"]]"
   ]
  },
  {
   "cell_type": "code",
   "execution_count": 187,
   "id": "29235a21-dfd5-454e-81eb-de94c55e3172",
   "metadata": {},
   "outputs": [
    {
     "data": {
      "text/plain": [
       "1"
      ]
     },
     "execution_count": 187,
     "metadata": {},
     "output_type": "execute_result"
    }
   ],
   "source": [
    "liste[0]"
   ]
  },
  {
   "cell_type": "code",
   "execution_count": 189,
   "id": "8f3e9ecd-e011-4e2e-a605-4e1f5340785c",
   "metadata": {
    "scrolled": true
   },
   "outputs": [
    {
     "data": {
      "text/plain": [
       "[1, 2, 3, \"let's go bitch\"]"
      ]
     },
     "execution_count": 189,
     "metadata": {},
     "output_type": "execute_result"
    }
   ],
   "source": [
    "liste[-1]"
   ]
  },
  {
   "cell_type": "code",
   "execution_count": 191,
   "id": "5e219bf2-9543-4fe1-b6b3-60dcf1bdd0e5",
   "metadata": {},
   "outputs": [
    {
     "data": {
      "text/plain": [
       "[2, 3, 5, 8, 11, 'zülal', 5.4, [1, 2, 3, \"let's go bitch\"]]"
      ]
     },
     "execution_count": 191,
     "metadata": {},
     "output_type": "execute_result"
    }
   ],
   "source": [
    "liste [1:]"
   ]
  },
  {
   "cell_type": "code",
   "execution_count": 193,
   "id": "8b99483c-125a-4903-bfb7-f7f2ba37c5f0",
   "metadata": {},
   "outputs": [
    {
     "data": {
      "text/plain": [
       "[2, 3]"
      ]
     },
     "execution_count": 193,
     "metadata": {},
     "output_type": "execute_result"
    }
   ],
   "source": [
    "liste [1:3] #son index dahil değil "
   ]
  },
  {
   "cell_type": "code",
   "execution_count": 161,
   "id": "39a15990-a648-4c67-9ca9-e20a113b296e",
   "metadata": {},
   "outputs": [
    {
     "data": {
      "text/plain": [
       "[1, 2, 3, 5, 8]"
      ]
     },
     "execution_count": 161,
     "metadata": {},
     "output_type": "execute_result"
    }
   ],
   "source": [
    "liste [:5] #son idex dahil değil ondan 0,1,2,3,4 geldi"
   ]
  },
  {
   "cell_type": "code",
   "execution_count": 89,
   "id": "5af6dbac-f176-4194-ae06-4876de29ddbf",
   "metadata": {},
   "outputs": [
    {
     "data": {
      "text/plain": [
       "'r'"
      ]
     },
     "execution_count": 89,
     "metadata": {},
     "output_type": "execute_result"
    }
   ],
   "source": [
    "a= \"taylor\"\n",
    "\n",
    "a[-1]"
   ]
  },
  {
   "cell_type": "code",
   "execution_count": 129,
   "id": "192eb560-b370-4805-aa0d-8e0b6bd5bab9",
   "metadata": {
    "scrolled": true
   },
   "outputs": [
    {
     "data": {
      "text/plain": [
       "'baylor'"
      ]
     },
     "execution_count": 129,
     "metadata": {},
     "output_type": "execute_result"
    }
   ],
   "source": [
    "a.replace (\"t\", \"b\") #stringlerde şu ana kadar öğrendiğim kadarıyla bu şekil index değeri değiştirilebiliyor sadece = le olmuyor çünkü stringler non-mutable\n",
    "#ama listeler mutable "
   ]
  },
  {
   "cell_type": "code",
   "execution_count": 223,
   "id": "5eb11387-5b02-4b67-a7e2-63f3b7407921",
   "metadata": {},
   "outputs": [
    {
     "name": "stdout",
     "output_type": "stream",
     "text": [
      "[3, 2, 3, 5, 8, 11, 'zülal', 5.4, [1, 2, 3, \"let's go bitch\"]]\n"
     ]
    }
   ],
   "source": [
    "liste[0] = 3\n",
    "print(liste)"
   ]
  },
  {
   "cell_type": "code",
   "execution_count": 225,
   "id": "3d87c727-beea-412e-9ab9-7e699371a54d",
   "metadata": {
    "scrolled": true
   },
   "outputs": [
    {
     "name": "stdout",
     "output_type": "stream",
     "text": [
      "[9, 6, 3, 5, 8, 11, 'zülal', 5.4, [1, 2, 3, \"let's go bitch\"]]\n"
     ]
    }
   ],
   "source": [
    "liste [0:2] = [3*3, 3*2]\n",
    "print(liste)"
   ]
  },
  {
   "cell_type": "code",
   "execution_count": 227,
   "id": "1bf0114f-f277-4418-aafe-5d80224b0af3",
   "metadata": {},
   "outputs": [
    {
     "name": "stdout",
     "output_type": "stream",
     "text": [
      "[9, 6, 8, 5, 8, 11, 'zülal', 5.4, [1, 2, 3, \"let's go bitch\"]]\n"
     ]
    }
   ],
   "source": [
    "liste[2]= liste[2]+5\n",
    "print(liste)"
   ]
  },
  {
   "cell_type": "code",
   "execution_count": 229,
   "id": "efa570c3-7c27-4b0c-a748-9603b092c147",
   "metadata": {},
   "outputs": [
    {
     "name": "stdout",
     "output_type": "stream",
     "text": [
      "[9, 6, 8, 10, 8, 11, 'zülal', 5.4, [1, 2, 3, \"let's go bitch\"]]\n"
     ]
    }
   ],
   "source": [
    "liste[3]+=5\n",
    "print(liste)"
   ]
  },
  {
   "cell_type": "code",
   "execution_count": 271,
   "id": "5aa1d586-dd57-43a1-a740-b04054e5a959",
   "metadata": {},
   "outputs": [
    {
     "name": "stdout",
     "output_type": "stream",
     "text": [
      "[30, 40, 90, 100]\n"
     ]
    }
   ],
   "source": [
    "notlar= [60, 70, 80, 90, 100]\n",
    "\n",
    "notlar [0:3] = 30, 40\n",
    "print(notlar)"
   ]
  },
  {
   "cell_type": "code",
   "execution_count": 259,
   "id": "1b2d2b09-1a5f-440f-be7b-f145ad6e3f54",
   "metadata": {},
   "outputs": [
    {
     "name": "stdout",
     "output_type": "stream",
     "text": [
      "[30, 30]\n"
     ]
    }
   ],
   "source": [
    "notlar [1:3] = [30]\n",
    "print (notlar)"
   ]
  },
  {
   "cell_type": "code",
   "execution_count": 261,
   "id": "b7d89260-b293-4910-9aab-02cb5aaa8281",
   "metadata": {},
   "outputs": [
    {
     "data": {
      "text/plain": [
       "2"
      ]
     },
     "execution_count": 261,
     "metadata": {},
     "output_type": "execute_result"
    }
   ],
   "source": [
    "len(notlar)"
   ]
  },
  {
   "cell_type": "code",
   "execution_count": 263,
   "id": "3560def5-71a5-406f-8249-509149272efb",
   "metadata": {},
   "outputs": [
    {
     "data": {
      "text/plain": [
       "13"
      ]
     },
     "execution_count": 263,
     "metadata": {},
     "output_type": "execute_result"
    }
   ],
   "source": [
    "len(liste)"
   ]
  },
  {
   "cell_type": "code",
   "execution_count": 273,
   "id": "1ea5c6ca-75bd-4b57-8b3d-6082b1b41eec",
   "metadata": {},
   "outputs": [
    {
     "name": "stdout",
     "output_type": "stream",
     "text": [
      "[1, 2, 3, 100]\n"
     ]
    }
   ],
   "source": [
    "l= [1,2,3]\n",
    "l.append(100)\n",
    "print(l)\n"
   ]
  },
  {
   "cell_type": "code",
   "execution_count": 281,
   "id": "a70a661e-6916-4d26-9c57-e79a7992ff01",
   "metadata": {},
   "outputs": [
    {
     "name": "stdout",
     "output_type": "stream",
     "text": [
      "[1, 2, 3, 100, 100, 200, 300]\n"
     ]
    }
   ],
   "source": [
    "l.extend([100, 200, 300])\n",
    "print(l)"
   ]
  },
  {
   "cell_type": "code",
   "execution_count": 309,
   "id": "0c2dbef3-078b-476c-b7f7-ce134768f4b5",
   "metadata": {},
   "outputs": [
    {
     "name": "stdout",
     "output_type": "stream",
     "text": [
      "[100, 1, 2, 3, 4, 5]\n"
     ]
    }
   ],
   "source": [
    "m= [1,2,3,4,5]\n",
    "m.insert(0,100)\n",
    "print(m)"
   ]
  },
  {
   "cell_type": "code",
   "execution_count": 311,
   "id": "4b1f858d-c87a-48e5-96b9-e5bc307247cd",
   "metadata": {},
   "outputs": [],
   "source": [
    "m.insert(3,44)"
   ]
  },
  {
   "cell_type": "code",
   "execution_count": 313,
   "id": "a9e1e617-ffe8-4190-ac7a-e349cf357b70",
   "metadata": {
    "scrolled": true
   },
   "outputs": [
    {
     "data": {
      "text/plain": [
       "[100, 1, 2, 44, 3, 4, 5]"
      ]
     },
     "execution_count": 313,
     "metadata": {},
     "output_type": "execute_result"
    }
   ],
   "source": [
    "m"
   ]
  },
  {
   "cell_type": "code",
   "execution_count": 317,
   "id": "5ce047e4-4ccf-4166-8c3c-096a4c2d6545",
   "metadata": {},
   "outputs": [
    {
     "data": {
      "text/plain": [
       "[1, 2, 3, 30, 40]"
      ]
     },
     "execution_count": 317,
     "metadata": {},
     "output_type": "execute_result"
    }
   ],
   "source": [
    "l = [1,2,3,40,30,40]\n",
    "\n",
    "l.remove(40) #2 tane varsa ilk gördüğünü kaldırır\n",
    "l"
   ]
  },
  {
   "cell_type": "code",
   "execution_count": 323,
   "id": "5d86756f-ea76-4f27-911f-bae516e4aa13",
   "metadata": {},
   "outputs": [],
   "source": [
    "l = [1,2,3,4,5,6]"
   ]
  },
  {
   "cell_type": "code",
   "execution_count": 325,
   "id": "74360744-93d3-4498-9d90-a868b84904d2",
   "metadata": {},
   "outputs": [
    {
     "data": {
      "text/plain": [
       "2"
      ]
     },
     "execution_count": 325,
     "metadata": {},
     "output_type": "execute_result"
    }
   ],
   "source": [
    "l.pop(1) # It deletes and return the value, remove() just removes it"
   ]
  },
  {
   "cell_type": "code",
   "execution_count": 327,
   "id": "059b9f39-6dfc-46a5-adb4-d5718e611d04",
   "metadata": {},
   "outputs": [
    {
     "data": {
      "text/plain": [
       "[1, 3, 4, 5, 6]"
      ]
     },
     "execution_count": 327,
     "metadata": {},
     "output_type": "execute_result"
    }
   ],
   "source": [
    "l"
   ]
  },
  {
   "cell_type": "code",
   "execution_count": 329,
   "id": "be0ddded-25df-4d4c-a877-636037772d98",
   "metadata": {},
   "outputs": [
    {
     "data": {
      "text/plain": [
       "8"
      ]
     },
     "execution_count": 329,
     "metadata": {},
     "output_type": "execute_result"
    }
   ],
   "source": [
    "l.pop(1)+5"
   ]
  },
  {
   "cell_type": "code",
   "execution_count": 331,
   "id": "b1c929ad-2925-4faf-b73b-5a9c54e6b178",
   "metadata": {},
   "outputs": [
    {
     "ename": "IndexError",
     "evalue": "pop index out of range",
     "output_type": "error",
     "traceback": [
      "\u001b[1;31m---------------------------------------------------------------------------\u001b[0m",
      "\u001b[1;31mIndexError\u001b[0m                                Traceback (most recent call last)",
      "Cell \u001b[1;32mIn[331], line 2\u001b[0m\n\u001b[0;32m      1\u001b[0m \u001b[38;5;66;03m# out of range error\u001b[39;00m\n\u001b[1;32m----> 2\u001b[0m l\u001b[38;5;241m.\u001b[39mpop(\u001b[38;5;241m100\u001b[39m)\n",
      "\u001b[1;31mIndexError\u001b[0m: pop index out of range"
     ]
    }
   ],
   "source": [
    "# out of range error\n",
    "l.pop(100)"
   ]
  },
  {
   "cell_type": "code",
   "execution_count": 333,
   "id": "2ab608f0-f882-4172-93e5-04ba9f62310b",
   "metadata": {},
   "outputs": [],
   "source": [
    "l = [1, 2, 44, 4, 5, 1]"
   ]
  },
  {
   "cell_type": "code",
   "execution_count": 335,
   "id": "959f7b1a-c576-4dc7-9394-3a60e66b8859",
   "metadata": {},
   "outputs": [
    {
     "data": {
      "text/plain": [
       "2"
      ]
     },
     "execution_count": 335,
     "metadata": {},
     "output_type": "execute_result"
    }
   ],
   "source": [
    "l.count(1)"
   ]
  },
  {
   "cell_type": "code",
   "execution_count": 337,
   "id": "e784c507-8d09-4ea6-b6f0-60a990896d39",
   "metadata": {},
   "outputs": [
    {
     "data": {
      "text/plain": [
       "1"
      ]
     },
     "execution_count": 337,
     "metadata": {},
     "output_type": "execute_result"
    }
   ],
   "source": [
    "l.count(44)"
   ]
  },
  {
   "cell_type": "code",
   "execution_count": 339,
   "id": "c32bc850-64e2-44a0-a17a-b217ba739421",
   "metadata": {},
   "outputs": [
    {
     "data": {
      "text/plain": [
       "0"
      ]
     },
     "execution_count": 339,
     "metadata": {},
     "output_type": "execute_result"
    }
   ],
   "source": [
    "l.count(1000)"
   ]
  },
  {
   "cell_type": "code",
   "execution_count": 499,
   "id": "3b940c52-1bf6-405c-85c1-0dce84dd12b4",
   "metadata": {},
   "outputs": [],
   "source": [
    "l = [1,2,3]"
   ]
  },
  {
   "cell_type": "code",
   "execution_count": 347,
   "id": "3fd2cf76-1139-451c-9e7f-efa9c0e6fc3d",
   "metadata": {},
   "outputs": [],
   "source": [
    "a = 3\n",
    "\n",
    "b = a"
   ]
  },
  {
   "cell_type": "code",
   "execution_count": 349,
   "id": "5195a000-c5e2-42c7-9335-d9d34f4358ef",
   "metadata": {},
   "outputs": [
    {
     "data": {
      "text/plain": [
       "3"
      ]
     },
     "execution_count": 349,
     "metadata": {},
     "output_type": "execute_result"
    }
   ],
   "source": [
    "b"
   ]
  },
  {
   "cell_type": "code",
   "execution_count": 351,
   "id": "bc548bdd-9c8c-4446-9e4f-6dbd264c2056",
   "metadata": {},
   "outputs": [
    {
     "data": {
      "text/plain": [
       "6"
      ]
     },
     "execution_count": 351,
     "metadata": {},
     "output_type": "execute_result"
    }
   ],
   "source": [
    "a=a+3\n",
    "\n",
    "a"
   ]
  },
  {
   "cell_type": "code",
   "execution_count": 353,
   "id": "ed4c59f7-473b-433b-a7f8-b519c9120532",
   "metadata": {},
   "outputs": [
    {
     "data": {
      "text/plain": [
       "3"
      ]
     },
     "execution_count": 353,
     "metadata": {},
     "output_type": "execute_result"
    }
   ],
   "source": [
    "b"
   ]
  },
  {
   "cell_type": "code",
   "execution_count": 501,
   "id": "44b72e46-bae3-4001-b763-7597b165dcd4",
   "metadata": {},
   "outputs": [
    {
     "data": {
      "text/plain": [
       "[1, 2, 3]"
      ]
     },
     "execution_count": 501,
     "metadata": {},
     "output_type": "execute_result"
    }
   ],
   "source": [
    "l = [1,2,3]\n",
    "l3 = l\n",
    "l3"
   ]
  },
  {
   "cell_type": "code",
   "execution_count": 359,
   "id": "a502ea25-f967-47a3-949d-56635c18c4ab",
   "metadata": {},
   "outputs": [
    {
     "data": {
      "text/plain": [
       "[1, 2, 3]"
      ]
     },
     "execution_count": 359,
     "metadata": {},
     "output_type": "execute_result"
    }
   ],
   "source": [
    "l"
   ]
  },
  {
   "cell_type": "code",
   "execution_count": 515,
   "id": "4167c6ae-afcb-4ba4-b3ed-b8d8ed67e1be",
   "metadata": {},
   "outputs": [
    {
     "data": {
      "text/plain": [
       "[200, 2, 3]"
      ]
     },
     "execution_count": 515,
     "metadata": {},
     "output_type": "execute_result"
    }
   ],
   "source": [
    "l[0] = 200\n",
    "l"
   ]
  },
  {
   "cell_type": "code",
   "execution_count": 399,
   "id": "b6c9c945-ac4d-4277-8ef1-b283179e1a95",
   "metadata": {},
   "outputs": [
    {
     "data": {
      "text/plain": [
       "[200, 2, 3]"
      ]
     },
     "execution_count": 399,
     "metadata": {},
     "output_type": "execute_result"
    }
   ],
   "source": [
    "l3 #l2 de güncellendi, önceki a b sayılarında güncelleme olmamıştı \n",
    "#Çünkü l2 = l dediğimizde l2, l etiketinin değerine eşit oldu, iki etikette aynı kutuyu, veri objesini gösteriyor, o yüzden listeyi güncellemem ikisine de yansıyor.\n"
   ]
  },
  {
   "cell_type": "code",
   "execution_count": 517,
   "id": "2c1ced31-469a-45cc-8015-187898aedc28",
   "metadata": {},
   "outputs": [],
   "source": [
    "l2 = l.copy() #Git aynı değerle başka bir kutucuk yarat ve oraya etiket ol diyerek güncellenmemesini sağlayabilirim."
   ]
  },
  {
   "cell_type": "code",
   "execution_count": 403,
   "id": "dae8741a-adf7-419d-b181-ed44c7df6f41",
   "metadata": {},
   "outputs": [
    {
     "data": {
      "text/plain": [
       "[200, 2, 3]"
      ]
     },
     "execution_count": 403,
     "metadata": {},
     "output_type": "execute_result"
    }
   ],
   "source": [
    "l"
   ]
  },
  {
   "cell_type": "code",
   "execution_count": 513,
   "id": "206c6462-dc51-42a5-8100-92b2828b34f7",
   "metadata": {},
   "outputs": [
    {
     "data": {
      "text/plain": [
       "[200, 2, 3]"
      ]
     },
     "execution_count": 513,
     "metadata": {},
     "output_type": "execute_result"
    }
   ],
   "source": [
    "l2"
   ]
  },
  {
   "cell_type": "code",
   "execution_count": 519,
   "id": "e0d7af9d-1cb2-49d3-9a93-0f2cc43c6797",
   "metadata": {},
   "outputs": [],
   "source": [
    "l2[0]=100"
   ]
  },
  {
   "cell_type": "code",
   "execution_count": 409,
   "id": "e9568db2-d460-4517-ab61-e737768d0066",
   "metadata": {},
   "outputs": [
    {
     "data": {
      "text/plain": [
       "[100, 2, 3]"
      ]
     },
     "execution_count": 409,
     "metadata": {},
     "output_type": "execute_result"
    }
   ],
   "source": [
    "l2"
   ]
  },
  {
   "cell_type": "code",
   "execution_count": 411,
   "id": "6adc498e-768e-496a-86c0-b9215a2a88c0",
   "metadata": {},
   "outputs": [
    {
     "data": {
      "text/plain": [
       "[200, 2, 3]"
      ]
     },
     "execution_count": 411,
     "metadata": {},
     "output_type": "execute_result"
    }
   ],
   "source": [
    "l"
   ]
  },
  {
   "cell_type": "code",
   "execution_count": 521,
   "id": "4cec61d9-57ad-4258-8993-0dea135f3e91",
   "metadata": {},
   "outputs": [
    {
     "data": {
      "text/plain": [
       "[200, 2, 3, 100, 2, 3]"
      ]
     },
     "execution_count": 521,
     "metadata": {},
     "output_type": "execute_result"
    }
   ],
   "source": [
    "l+l2"
   ]
  },
  {
   "cell_type": "code",
   "execution_count": 509,
   "id": "d15afad8-6486-4818-af23-33b435cabc21",
   "metadata": {},
   "outputs": [
    {
     "data": {
      "text/plain": [
       "[200, 2, 3]"
      ]
     },
     "execution_count": 509,
     "metadata": {},
     "output_type": "execute_result"
    }
   ],
   "source": [
    "l"
   ]
  },
  {
   "cell_type": "code",
   "execution_count": 523,
   "id": "621f01a8-b357-457d-bcfd-fd56422cfb1b",
   "metadata": {},
   "outputs": [
    {
     "data": {
      "text/plain": [
       "[200, 2, 3, 100, 2, 3]"
      ]
     },
     "execution_count": 523,
     "metadata": {},
     "output_type": "execute_result"
    }
   ],
   "source": [
    "lson=l+l2\n",
    "lson"
   ]
  },
  {
   "cell_type": "code",
   "execution_count": 417,
   "id": "0ee2b882-d16b-44b1-8c4b-b41dde8c9127",
   "metadata": {},
   "outputs": [
    {
     "data": {
      "text/plain": [
       "1"
      ]
     },
     "execution_count": 417,
     "metadata": {},
     "output_type": "execute_result"
    }
   ],
   "source": [
    "l.index(2) #birden fazla aynısı varsa ilk gördüğünün indexini verir"
   ]
  },
  {
   "cell_type": "code",
   "execution_count": 419,
   "id": "5307d8b6-35f7-447a-a444-2ca858888033",
   "metadata": {},
   "outputs": [
    {
     "ename": "ValueError",
     "evalue": "100 is not in list",
     "output_type": "error",
     "traceback": [
      "\u001b[1;31m---------------------------------------------------------------------------\u001b[0m",
      "\u001b[1;31mValueError\u001b[0m                                Traceback (most recent call last)",
      "Cell \u001b[1;32mIn[419], line 1\u001b[0m\n\u001b[1;32m----> 1\u001b[0m l\u001b[38;5;241m.\u001b[39mindex(\u001b[38;5;241m100\u001b[39m)\n",
      "\u001b[1;31mValueError\u001b[0m: 100 is not in list"
     ]
    }
   ],
   "source": [
    "l.index(100)"
   ]
  },
  {
   "cell_type": "code",
   "execution_count": 184,
   "id": "7c1758b6-787d-4f16-aff7-6c03806b264d",
   "metadata": {},
   "outputs": [
    {
     "data": {
      "text/plain": [
       "[4, 3, 2, 1]"
      ]
     },
     "execution_count": 184,
     "metadata": {},
     "output_type": "execute_result"
    }
   ],
   "source": [
    "l.reverse() # inplace: yani l'yi günceller. - tersten döndürme\n",
    "l"
   ]
  },
  {
   "cell_type": "code",
   "execution_count": 527,
   "id": "478a245d-333e-4249-9b58-42d33f87a273",
   "metadata": {},
   "outputs": [
    {
     "data": {
      "text/plain": [
       "[200, 2, 3]"
      ]
     },
     "execution_count": 527,
     "metadata": {},
     "output_type": "execute_result"
    }
   ],
   "source": [
    "l[::-1] #slicing mantığıyla yaparsak sadece gösterir listeyi güncellemez"
   ]
  },
  {
   "cell_type": "code",
   "execution_count": 529,
   "id": "7a46eba1-21d1-4993-b59d-e34759ea0a79",
   "metadata": {},
   "outputs": [
    {
     "data": {
      "text/plain": [
       "[3, 2, 200]"
      ]
     },
     "execution_count": 529,
     "metadata": {},
     "output_type": "execute_result"
    }
   ],
   "source": [
    "l"
   ]
  },
  {
   "cell_type": "code",
   "execution_count": 531,
   "id": "47042fc2-21c8-4d4f-87ce-f3fdcab4b277",
   "metadata": {},
   "outputs": [
    {
     "data": {
      "text/plain": [
       "[200, 2, 3]"
      ]
     },
     "execution_count": 531,
     "metadata": {},
     "output_type": "execute_result"
    }
   ],
   "source": [
    "lters=l[::-1]\n",
    "lters"
   ]
  },
  {
   "cell_type": "code",
   "execution_count": 533,
   "id": "5e85c23d-cf95-4195-b8ac-f9dda0978859",
   "metadata": {},
   "outputs": [
    {
     "data": {
      "text/plain": [
       "[3, 2, 200]"
      ]
     },
     "execution_count": 533,
     "metadata": {},
     "output_type": "execute_result"
    }
   ],
   "source": [
    "l"
   ]
  },
  {
   "cell_type": "code",
   "execution_count": 535,
   "id": "3a290828-ce03-4fab-8b44-2cac43943a34",
   "metadata": {},
   "outputs": [
    {
     "data": {
      "text/plain": [
       "[2, 3, 200]"
      ]
     },
     "execution_count": 535,
     "metadata": {},
     "output_type": "execute_result"
    }
   ],
   "source": [
    "sorted(l) #küçükten büyüğe ya da a'dan z'ye"
   ]
  },
  {
   "cell_type": "code",
   "execution_count": 537,
   "id": "7f790dd7-df59-4e8f-9899-12d258585104",
   "metadata": {},
   "outputs": [
    {
     "data": {
      "text/plain": [
       "[3, 2, 200]"
      ]
     },
     "execution_count": 537,
     "metadata": {},
     "output_type": "execute_result"
    }
   ],
   "source": [
    "l"
   ]
  },
  {
   "cell_type": "code",
   "execution_count": 539,
   "id": "7479a240-828d-4648-ae40-040c9bf10afb",
   "metadata": {},
   "outputs": [
    {
     "data": {
      "text/plain": [
       "[2, 3, 200]"
      ]
     },
     "execution_count": 539,
     "metadata": {},
     "output_type": "execute_result"
    }
   ],
   "source": [
    "l.sort() # inplace\n",
    "l"
   ]
  },
  {
   "cell_type": "code",
   "execution_count": 587,
   "id": "0fdcdb86-b236-45cb-a442-2529a9d8e8cd",
   "metadata": {},
   "outputs": [
    {
     "data": {
      "text/plain": [
       "[-1, 0.4, 1, 2, 3, 10]"
      ]
     },
     "execution_count": 587,
     "metadata": {},
     "output_type": "execute_result"
    }
   ],
   "source": [
    "z=[0.4,1,2,10,3,-1]\n",
    "z.sort()\n",
    "z"
   ]
  },
  {
   "cell_type": "code",
   "execution_count": 589,
   "id": "df4a18f4-16dd-4a67-bbd8-bc99e726eaad",
   "metadata": {},
   "outputs": [
    {
     "data": {
      "text/plain": [
       "[-1, 0.4, 1, 2, 3, 10]"
      ]
     },
     "execution_count": 589,
     "metadata": {},
     "output_type": "execute_result"
    }
   ],
   "source": [
    "sorted(z)"
   ]
  },
  {
   "cell_type": "code",
   "execution_count": 591,
   "id": "8d1849c2-2f3a-4cb3-b0e8-f4515d184ce4",
   "metadata": {},
   "outputs": [
    {
     "data": {
      "text/plain": [
       "[-1, 0.4, 1, 2, 3, 10]"
      ]
     },
     "execution_count": 591,
     "metadata": {},
     "output_type": "execute_result"
    }
   ],
   "source": [
    "z"
   ]
  },
  {
   "cell_type": "code",
   "execution_count": 595,
   "id": "f6e2830a-feec-4411-ae22-813d4ffc02b6",
   "metadata": {},
   "outputs": [
    {
     "ename": "TypeError",
     "evalue": "'<' not supported between instances of 'int' and 'str'",
     "output_type": "error",
     "traceback": [
      "\u001b[1;31m---------------------------------------------------------------------------\u001b[0m",
      "\u001b[1;31mTypeError\u001b[0m                                 Traceback (most recent call last)",
      "Cell \u001b[1;32mIn[595], line 3\u001b[0m\n\u001b[0;32m      1\u001b[0m f\u001b[38;5;241m=\u001b[39m [\u001b[38;5;124m\"\u001b[39m\u001b[38;5;124mb\u001b[39m\u001b[38;5;124m\"\u001b[39m,\u001b[38;5;124m\"\u001b[39m\u001b[38;5;124ma\u001b[39m\u001b[38;5;124m\"\u001b[39m,\u001b[38;5;124m\"\u001b[39m\u001b[38;5;124mc\u001b[39m\u001b[38;5;124m\"\u001b[39m,\u001b[38;5;241m1\u001b[39m,\u001b[38;5;241m2\u001b[39m]\n\u001b[1;32m----> 3\u001b[0m \u001b[38;5;28msorted\u001b[39m(f)\n",
      "\u001b[1;31mTypeError\u001b[0m: '<' not supported between instances of 'int' and 'str'"
     ]
    }
   ],
   "source": [
    "f= [\"b\",\"a\",\"c\",1,2]\n",
    "\n",
    "sorted(f)"
   ]
  },
  {
   "cell_type": "code",
   "execution_count": 603,
   "id": "71bcacbc-ae7e-4b71-bc82-c437e57d463e",
   "metadata": {},
   "outputs": [
    {
     "data": {
      "text/plain": [
       "['0.6', '1', '3.5', '4', '5.6', 'a', 'b', 'c']"
      ]
     },
     "execution_count": 603,
     "metadata": {},
     "output_type": "execute_result"
    }
   ],
   "source": [
    "y= [\"b\",\"a\",\"c\",\"1\",\"3.5\",\"4\",\"5.6\", \"0.6\"]\n",
    "\n",
    "y.sort() #önce sayılar sonra harfler\n",
    "y"
   ]
  },
  {
   "cell_type": "code",
   "execution_count": 605,
   "id": "b92bc98c-f5fb-4412-8bc1-87b086ef54a1",
   "metadata": {},
   "outputs": [
    {
     "data": {
      "text/plain": [
       "['0.6', '1', '3.5', '4', '5.6', 'a', 'b', 'c']"
      ]
     },
     "execution_count": 605,
     "metadata": {},
     "output_type": "execute_result"
    }
   ],
   "source": [
    "sorted(y)"
   ]
  },
  {
   "cell_type": "code",
   "execution_count": 607,
   "id": "2f2427a8-5f90-44d5-ab72-9dcd72a909b7",
   "metadata": {},
   "outputs": [
    {
     "data": {
      "text/plain": [
       "[[1, -20, 3], [2, -200, -3]]"
      ]
     },
     "execution_count": 607,
     "metadata": {},
     "output_type": "execute_result"
    }
   ],
   "source": [
    "l = [[1,-20,3], [2,-200,-3]]\n",
    "l.sort()\n",
    "l"
   ]
  },
  {
   "cell_type": "code",
   "execution_count": 609,
   "id": "f3c754ab-0012-46f3-9fb3-36101f8a3f93",
   "metadata": {},
   "outputs": [
    {
     "data": {
      "text/plain": [
       "[[2, -2, 3], [10, -20, -3]]"
      ]
     },
     "execution_count": 609,
     "metadata": {},
     "output_type": "execute_result"
    }
   ],
   "source": [
    "g = [[10,-20,-3], [2,-2,3]]\n",
    "sorted(g)"
   ]
  },
  {
   "cell_type": "code",
   "execution_count": 611,
   "id": "ac1a88d2-5d2d-4ae9-a047-38d474715100",
   "metadata": {},
   "outputs": [
    {
     "ename": "TypeError",
     "evalue": "'<' not supported between instances of 'int' and 'str'",
     "output_type": "error",
     "traceback": [
      "\u001b[1;31m---------------------------------------------------------------------------\u001b[0m",
      "\u001b[1;31mTypeError\u001b[0m                                 Traceback (most recent call last)",
      "Cell \u001b[1;32mIn[611], line 2\u001b[0m\n\u001b[0;32m      1\u001b[0m h \u001b[38;5;241m=\u001b[39m [[\u001b[38;5;124m\"\u001b[39m\u001b[38;5;124ma\u001b[39m\u001b[38;5;124m\"\u001b[39m, \u001b[38;5;124m\"\u001b[39m\u001b[38;5;124mb\u001b[39m\u001b[38;5;124m\"\u001b[39m, \u001b[38;5;124m\"\u001b[39m\u001b[38;5;124mc\u001b[39m\u001b[38;5;124m\"\u001b[39m], [\u001b[38;5;241m2\u001b[39m,\u001b[38;5;241m-\u001b[39m\u001b[38;5;241m200\u001b[39m,\u001b[38;5;241m-\u001b[39m\u001b[38;5;241m3\u001b[39m]]\n\u001b[1;32m----> 2\u001b[0m h\u001b[38;5;241m.\u001b[39msort()\n",
      "\u001b[1;31mTypeError\u001b[0m: '<' not supported between instances of 'int' and 'str'"
     ]
    }
   ],
   "source": [
    "h = [[\"a\", \"b\", \"c\"], [2,-200,-3]]\n",
    "h.sort()"
   ]
  },
  {
   "cell_type": "code",
   "execution_count": 613,
   "id": "835bfd7d-7895-4c8a-8ff4-48357e66e077",
   "metadata": {},
   "outputs": [
    {
     "data": {
      "text/plain": [
       "[[2, -200, -3, 10], [200, 'b', 'c']]"
      ]
     },
     "execution_count": 613,
     "metadata": {},
     "output_type": "execute_result"
    }
   ],
   "source": [
    "m = [[200, \"b\", \"c\"], [2,-200,-3,10]]\n",
    "sorted(m)"
   ]
  },
  {
   "cell_type": "code",
   "execution_count": 617,
   "id": "e06e7725-50c2-4526-bb8e-d3bb241e04a4",
   "metadata": {},
   "outputs": [
    {
     "data": {
      "text/plain": [
       "25"
      ]
     },
     "execution_count": 617,
     "metadata": {},
     "output_type": "execute_result"
    }
   ],
   "source": [
    "a=20\n",
    "\n",
    "b=a\n",
    "\n",
    "a=a+5\n",
    "\n",
    "l=[20,30,40]\n",
    "\n",
    "l2=l\n",
    "\n",
    "l[0]=l[0]+5\n",
    "b\n",
    "l[0]"
   ]
  },
  {
   "cell_type": "markdown",
   "id": "7c606276-a2d1-4c78-904d-c57339ddbb55",
   "metadata": {},
   "source": [
    "# TUPLE"
   ]
  },
  {
   "cell_type": "code",
   "execution_count": 621,
   "id": "a4f4cae8-8d2e-41a6-9992-ca665c736c3d",
   "metadata": {},
   "outputs": [],
   "source": [
    "#LİST'in aksine immutable ve normal parantezle ya da sadece virgülle gösteriliyor ama liste çok benziyor"
   ]
  },
  {
   "cell_type": "code",
   "execution_count": 641,
   "id": "ec7fb19d-0671-4375-81c2-7d9a10523736",
   "metadata": {},
   "outputs": [
    {
     "data": {
      "text/plain": [
       "(('kuzey enlem', 36, 42), ('doğu boylam', 26, 45))"
      ]
     },
     "execution_count": 641,
     "metadata": {},
     "output_type": "execute_result"
    }
   ],
   "source": [
    "Tr=((\"kuzey enlem\", 36, 42), (\"doğu boylam\", 26, 45))\n",
    "Tr"
   ]
  },
  {
   "cell_type": "code",
   "execution_count": 643,
   "id": "55883855-032e-4a2c-83bc-b8911dc89375",
   "metadata": {},
   "outputs": [
    {
     "data": {
      "text/plain": [
       "tuple"
      ]
     },
     "execution_count": 643,
     "metadata": {},
     "output_type": "execute_result"
    }
   ],
   "source": [
    "type(Tr)"
   ]
  },
  {
   "cell_type": "code",
   "execution_count": 647,
   "id": "30e48ead-8d7c-4ac8-bf80-e56f08dd0618",
   "metadata": {},
   "outputs": [
    {
     "data": {
      "text/plain": [
       "('kuzey enlem', 36, 42)"
      ]
     },
     "execution_count": 647,
     "metadata": {},
     "output_type": "execute_result"
    }
   ],
   "source": [
    "Tr[0]"
   ]
  },
  {
   "cell_type": "code",
   "execution_count": 651,
   "id": "eab89b8f-8605-4aab-a0d8-af27bb12526f",
   "metadata": {},
   "outputs": [
    {
     "data": {
      "text/plain": [
       "36"
      ]
     },
     "execution_count": 651,
     "metadata": {},
     "output_type": "execute_result"
    }
   ],
   "source": [
    "Tr[0][1]"
   ]
  },
  {
   "cell_type": "code",
   "execution_count": 653,
   "id": "cc75a5fa-3627-47eb-a284-b639e7e46aa3",
   "metadata": {},
   "outputs": [
    {
     "ename": "TypeError",
     "evalue": "'tuple' object does not support item assignment",
     "output_type": "error",
     "traceback": [
      "\u001b[1;31m---------------------------------------------------------------------------\u001b[0m",
      "\u001b[1;31mTypeError\u001b[0m                                 Traceback (most recent call last)",
      "Cell \u001b[1;32mIn[653], line 1\u001b[0m\n\u001b[1;32m----> 1\u001b[0m Tr[\u001b[38;5;241m0\u001b[39m]\u001b[38;5;241m=\u001b[39m\u001b[38;5;124m\"\u001b[39m\u001b[38;5;124mgüney enlem\u001b[39m\u001b[38;5;124m\"\u001b[39m\n",
      "\u001b[1;31mTypeError\u001b[0m: 'tuple' object does not support item assignment"
     ]
    }
   ],
   "source": [
    "Tr[0]=\"güney enlem\""
   ]
  },
  {
   "cell_type": "code",
   "execution_count": 655,
   "id": "6ee85e29-d822-4560-b2d7-b4635c0e83b1",
   "metadata": {},
   "outputs": [],
   "source": [
    "x = 2\n",
    "y = 3"
   ]
  },
  {
   "cell_type": "code",
   "execution_count": 657,
   "id": "3c51f8c1-baa9-4166-9bd9-28e414b086be",
   "metadata": {},
   "outputs": [],
   "source": [
    "temp=x\n",
    "x=y\n",
    "y=temp"
   ]
  },
  {
   "cell_type": "code",
   "execution_count": 659,
   "id": "a25d75fd-69ce-462c-856c-6c3afb308a53",
   "metadata": {},
   "outputs": [
    {
     "data": {
      "text/plain": [
       "3"
      ]
     },
     "execution_count": 659,
     "metadata": {},
     "output_type": "execute_result"
    }
   ],
   "source": [
    "x"
   ]
  },
  {
   "cell_type": "code",
   "execution_count": 661,
   "id": "36b46a03-a3c2-486a-b73a-996411a79d7a",
   "metadata": {},
   "outputs": [
    {
     "data": {
      "text/plain": [
       "2"
      ]
     },
     "execution_count": 661,
     "metadata": {},
     "output_type": "execute_result"
    }
   ],
   "source": [
    "y"
   ]
  },
  {
   "cell_type": "code",
   "execution_count": 673,
   "id": "307fdf9d-631e-496f-998e-5fbbe0a5a17e",
   "metadata": {},
   "outputs": [],
   "source": [
    "z=4"
   ]
  },
  {
   "cell_type": "code",
   "execution_count": 675,
   "id": "a9cd1ba0-0bfb-4b98-999a-b28634420362",
   "metadata": {},
   "outputs": [
    {
     "data": {
      "text/plain": [
       "(4, 3)"
      ]
     },
     "execution_count": 675,
     "metadata": {},
     "output_type": "execute_result"
    }
   ],
   "source": [
    "(x, z) = (z,x)\n",
    "x, z"
   ]
  },
  {
   "cell_type": "code",
   "execution_count": 677,
   "id": "2a1a7e95-59ef-4f50-b409-18638a895ca6",
   "metadata": {},
   "outputs": [
    {
     "data": {
      "text/plain": [
       "(1, 2, 3, 4)"
      ]
     },
     "execution_count": 677,
     "metadata": {},
     "output_type": "execute_result"
    }
   ],
   "source": [
    "1,2,3,4"
   ]
  },
  {
   "cell_type": "code",
   "execution_count": 679,
   "id": "b00737c9-ce63-490b-a65a-276f9b65e87a",
   "metadata": {
    "scrolled": true
   },
   "outputs": [
    {
     "data": {
      "text/plain": [
       "(5, 5)"
      ]
     },
     "execution_count": 679,
     "metadata": {},
     "output_type": "execute_result"
    }
   ],
   "source": [
    "x=5\n",
    "\n",
    "y=7\n",
    "\n",
    "temp=x\n",
    "\n",
    "y=temp\n",
    "\n",
    "(x,y)"
   ]
  },
  {
   "cell_type": "code",
   "execution_count": 683,
   "id": "95e33abc-365c-42dc-a78c-868208864d51",
   "metadata": {},
   "outputs": [
    {
     "data": {
      "text/plain": [
       "[1, 2, 3, 4]"
      ]
     },
     "execution_count": 683,
     "metadata": {},
     "output_type": "execute_result"
    }
   ],
   "source": [
    "hh= [1,2,3,4]\n",
    "hh"
   ]
  },
  {
   "cell_type": "code",
   "execution_count": 685,
   "id": "0920136c-93ae-4a31-b2a8-07221f248056",
   "metadata": {},
   "outputs": [
    {
     "data": {
      "text/plain": [
       "True"
      ]
     },
     "execution_count": 685,
     "metadata": {},
     "output_type": "execute_result"
    }
   ],
   "source": [
    "4 in hh"
   ]
  },
  {
   "cell_type": "code",
   "execution_count": 687,
   "id": "9d0c6203-991c-4be4-9c65-affc8b8484d3",
   "metadata": {},
   "outputs": [
    {
     "data": {
      "text/plain": [
       "False"
      ]
     },
     "execution_count": 687,
     "metadata": {},
     "output_type": "execute_result"
    }
   ],
   "source": [
    "5 in hh"
   ]
  },
  {
   "cell_type": "code",
   "execution_count": 689,
   "id": "7490d88c-97dd-4dc2-a344-439941cf3c96",
   "metadata": {},
   "outputs": [
    {
     "data": {
      "text/plain": [
       "(1, 2, 3, 4)"
      ]
     },
     "execution_count": 689,
     "metadata": {},
     "output_type": "execute_result"
    }
   ],
   "source": [
    "t = (1,2,3,4)\n",
    "t"
   ]
  },
  {
   "cell_type": "code",
   "execution_count": 691,
   "id": "cfcde7df-ae7a-4f73-9bbb-cbe7b8dd4989",
   "metadata": {},
   "outputs": [
    {
     "data": {
      "text/plain": [
       "True"
      ]
     },
     "execution_count": 691,
     "metadata": {},
     "output_type": "execute_result"
    }
   ],
   "source": [
    "3 in t"
   ]
  },
  {
   "cell_type": "code",
   "execution_count": 725,
   "id": "0ac3866f-71b0-4524-90c0-138418ed3a72",
   "metadata": {},
   "outputs": [
    {
     "name": "stdin",
     "output_type": "stream",
     "text": [
      "bi sayı gir:   3\n"
     ]
    },
    {
     "name": "stdout",
     "output_type": "stream",
     "text": [
      "yehu\n"
     ]
    }
   ],
   "source": [
    "t = input(\"bi sayı gir:  \")\n",
    "if \"3\" in t:\n",
    "        print (\"yehu\")\n",
    "else:\n",
    "        print (\"nöoo\")"
   ]
  },
  {
   "cell_type": "markdown",
   "id": "0217d030-0c91-494b-82ec-2decaf9abe3b",
   "metadata": {},
   "source": [
    "# DICTIONARIES"
   ]
  },
  {
   "cell_type": "code",
   "execution_count": 764,
   "id": "6b3b78b2-0a8a-47a5-ab83-3f781da028f5",
   "metadata": {},
   "outputs": [
    {
     "data": {
      "text/plain": [
       "{'Deniz': 80, 'Ege': 72, 'Gizem': 95}"
      ]
     },
     "execution_count": 764,
     "metadata": {},
     "output_type": "execute_result"
    }
   ],
   "source": [
    "notlar = {\"Deniz\": 80, \"Ege\":72, \"Gizem\": 95}\n",
    "notlar"
   ]
  },
  {
   "cell_type": "code",
   "execution_count": 734,
   "id": "b91c2a2e-7504-438f-af91-b760f881b79f",
   "metadata": {},
   "outputs": [
    {
     "data": {
      "text/plain": [
       "dict"
      ]
     },
     "execution_count": 734,
     "metadata": {},
     "output_type": "execute_result"
    }
   ],
   "source": [
    "type(notlar)"
   ]
  },
  {
   "cell_type": "code",
   "execution_count": 766,
   "id": "84a486b9-7bd4-4222-a81d-9b82c5fbdbfe",
   "metadata": {},
   "outputs": [
    {
     "data": {
      "text/plain": [
       "80"
      ]
     },
     "execution_count": 766,
     "metadata": {},
     "output_type": "execute_result"
    }
   ],
   "source": [
    "notlar[\"Deniz\"]"
   ]
  },
  {
   "cell_type": "code",
   "execution_count": 740,
   "id": "7792a7b4-1549-4659-9d7a-55c542f4d823",
   "metadata": {},
   "outputs": [
    {
     "data": {
      "text/plain": [
       "72"
      ]
     },
     "execution_count": 740,
     "metadata": {},
     "output_type": "execute_result"
    }
   ],
   "source": [
    "notlar [\"Ege\"]"
   ]
  },
  {
   "cell_type": "code",
   "execution_count": 742,
   "id": "1a89d240-a875-49c5-adcd-e506d6ed64c8",
   "metadata": {},
   "outputs": [],
   "source": [
    "ogrenciler = {\"Zülal\": {\"not\":90, \"ogrenci_no\":900}, \"Zeren\":{\"not\":92, \"ogrenci_no\":2037}, \"Fatma\": {\"not\":95, \"ogrenci_no\":54}}"
   ]
  },
  {
   "cell_type": "code",
   "execution_count": 746,
   "id": "782a9788-972a-4224-be5d-e84fb259fdcf",
   "metadata": {},
   "outputs": [
    {
     "data": {
      "text/plain": [
       "{'not': 95, 'ogrenci_no': 54}"
      ]
     },
     "execution_count": 746,
     "metadata": {},
     "output_type": "execute_result"
    }
   ],
   "source": [
    "ogrenciler[\"Fatma\"]"
   ]
  },
  {
   "cell_type": "code",
   "execution_count": 748,
   "id": "7bc14890-1ba8-4aeb-a87d-2214cc9cdbd1",
   "metadata": {},
   "outputs": [
    {
     "data": {
      "text/plain": [
       "95"
      ]
     },
     "execution_count": 748,
     "metadata": {},
     "output_type": "execute_result"
    }
   ],
   "source": [
    "ogrenciler[\"Fatma\"][\"not\"]"
   ]
  },
  {
   "cell_type": "code",
   "execution_count": 750,
   "id": "fac49e6b-e16f-4977-aabf-c6465b552a9b",
   "metadata": {},
   "outputs": [
    {
     "data": {
      "text/plain": [
       "2037"
      ]
     },
     "execution_count": 750,
     "metadata": {},
     "output_type": "execute_result"
    }
   ],
   "source": [
    "ogrenciler[\"Zeren\"][\"ogrenci_no\"]"
   ]
  },
  {
   "cell_type": "code",
   "execution_count": 768,
   "id": "9cdaefb5-8677-4a0f-bcbf-6df50eda34cb",
   "metadata": {},
   "outputs": [
    {
     "data": {
      "text/plain": [
       "85"
      ]
     },
     "execution_count": 768,
     "metadata": {},
     "output_type": "execute_result"
    }
   ],
   "source": [
    "notlar[\"Deniz\"]=notlar[\"Deniz\"]+5\n",
    "notlar[\"Deniz\"]"
   ]
  },
  {
   "cell_type": "code",
   "execution_count": 770,
   "id": "eeb9bc84-ed54-49cc-8d3f-d559fe79f737",
   "metadata": {},
   "outputs": [
    {
     "data": {
      "text/plain": [
       "{'Deniz': 85, 'Ege': 72, 'Gizem': 95}"
      ]
     },
     "execution_count": 770,
     "metadata": {},
     "output_type": "execute_result"
    }
   ],
   "source": [
    "notlar"
   ]
  },
  {
   "cell_type": "code",
   "execution_count": 778,
   "id": "b6740e8d-0c6c-4b65-bc1d-e8777476ba6a",
   "metadata": {},
   "outputs": [
    {
     "name": "stdout",
     "output_type": "stream",
     "text": [
      "['Deniz', 'Ege', 'Gizem']\n"
     ]
    }
   ],
   "source": [
    "sorted_notlar=sorted(notlar)\n",
    "print(sorted_notlar)  #sorted() can be applied to a dictionary’s keys, values, or items. sorted() always returns a list."
   ]
  },
  {
   "cell_type": "code",
   "execution_count": 780,
   "id": "87968155-c620-4aed-a755-719a78c30af5",
   "metadata": {},
   "outputs": [
    {
     "data": {
      "text/plain": [
       "3"
      ]
     },
     "execution_count": 780,
     "metadata": {},
     "output_type": "execute_result"
    }
   ],
   "source": [
    "len(ogrenciler)"
   ]
  },
  {
   "cell_type": "code",
   "execution_count": 794,
   "id": "022a9242-6974-4666-bda4-a373010a8d07",
   "metadata": {},
   "outputs": [
    {
     "data": {
      "text/plain": [
       "{'Deniz': 85, 'Ege': 72, 'Gizem': 95, 'Zülal': 85}"
      ]
     },
     "execution_count": 794,
     "metadata": {},
     "output_type": "execute_result"
    }
   ],
   "source": [
    "notlar [\"Zülal\"] = 85\n",
    "notlar"
   ]
  },
  {
   "cell_type": "code",
   "execution_count": null,
   "id": "c89f8d08-3c42-4b6b-aebc-15a86df13c84",
   "metadata": {},
   "outputs": [],
   "source": []
  },
  {
   "cell_type": "code",
   "execution_count": 798,
   "id": "d17b7e14-58cd-4f6d-8cad-42e9fd94105f",
   "metadata": {},
   "outputs": [
    {
     "data": {
      "text/plain": [
       "{'Zülal': {'not': 90, 'ogrenci_no': 900},\n",
       " 'Zeren': {'not': 92, 'ogrenci_no': 2037},\n",
       " 'Fatma': {'not': 95, 'ogrenci_no': 54},\n",
       " 'Ahla': {'not': 100, 'ogrenci_no': 55}}"
      ]
     },
     "execution_count": 798,
     "metadata": {},
     "output_type": "execute_result"
    }
   ],
   "source": [
    "ogrenciler[\"Ahla\"] ={\"not\": 100, \"ogrenci_no\": 55} #key arıyormuş gibi yapıp value değeri neyse (int veya dict vs.) literally onu yaz\n",
    "ogrenciler"
   ]
  },
  {
   "cell_type": "code",
   "execution_count": 802,
   "id": "fbb53e74-0b6f-454b-b53d-1baf7043ed28",
   "metadata": {},
   "outputs": [],
   "source": [
    "del notlar[\"Gizem\"]"
   ]
  },
  {
   "cell_type": "code",
   "execution_count": 804,
   "id": "1ab81afe-0ee4-4581-af9d-23c7cef5ec51",
   "metadata": {},
   "outputs": [
    {
     "data": {
      "text/plain": [
       "{'Deniz': 85, 'Ege': 72, 'Zülal': 85}"
      ]
     },
     "execution_count": 804,
     "metadata": {},
     "output_type": "execute_result"
    }
   ],
   "source": [
    "notlar"
   ]
  },
  {
   "cell_type": "code",
   "execution_count": 812,
   "id": "b3c5b237-1afc-44a3-8a2f-709cf0f02534",
   "metadata": {},
   "outputs": [
    {
     "ename": "TypeError",
     "evalue": "unhashable type: 'list'",
     "output_type": "error",
     "traceback": [
      "\u001b[1;31m---------------------------------------------------------------------------\u001b[0m",
      "\u001b[1;31mTypeError\u001b[0m                                 Traceback (most recent call last)",
      "Cell \u001b[1;32mIn[812], line 1\u001b[0m\n\u001b[1;32m----> 1\u001b[0m d3 \u001b[38;5;241m=\u001b[39m {[\u001b[38;5;241m1\u001b[39m,\u001b[38;5;241m2\u001b[39m]:\u001b[38;5;241m4\u001b[39m}\n",
      "\u001b[1;31mTypeError\u001b[0m: unhashable type: 'list'"
     ]
    }
   ],
   "source": [
    "d3 = {[1,2]:4} #Sadece Immutable Tipindeki Veriler key olabilir yani listler ve tırnaklı dictionary (set)ler olmaz\n"
   ]
  },
  {
   "cell_type": "code",
   "execution_count": 814,
   "id": "06194a4e-22f9-42b5-936e-bb079787a9b0",
   "metadata": {},
   "outputs": [],
   "source": [
    "d = {}"
   ]
  },
  {
   "cell_type": "code",
   "execution_count": 820,
   "id": "164d3c49-4d90-4b59-8bc1-18a4f572573b",
   "metadata": {},
   "outputs": [],
   "source": [
    "d[1] = \"a\""
   ]
  },
  {
   "cell_type": "code",
   "execution_count": 822,
   "id": "8f0e64d3-2375-4a2b-ba54-7c13c79d9834",
   "metadata": {},
   "outputs": [
    {
     "data": {
      "text/plain": [
       "{1: 'a'}"
      ]
     },
     "execution_count": 822,
     "metadata": {},
     "output_type": "execute_result"
    }
   ],
   "source": [
    "d"
   ]
  },
  {
   "cell_type": "code",
   "execution_count": 824,
   "id": "668a3152-7561-4416-9b25-efd60551326f",
   "metadata": {},
   "outputs": [
    {
     "data": {
      "text/plain": [
       "False"
      ]
     },
     "execution_count": 824,
     "metadata": {},
     "output_type": "execute_result"
    }
   ],
   "source": [
    "\"Mert\" in notlar"
   ]
  },
  {
   "cell_type": "code",
   "execution_count": 826,
   "id": "a41b17de-8aa0-4370-9887-b377f97123c5",
   "metadata": {},
   "outputs": [
    {
     "data": {
      "text/plain": [
       "True"
      ]
     },
     "execution_count": 826,
     "metadata": {},
     "output_type": "execute_result"
    }
   ],
   "source": [
    "\"Deniz\" in notlar"
   ]
  },
  {
   "cell_type": "code",
   "execution_count": 828,
   "id": "d35ab942-c1bb-409f-bc75-6c1a5e300dc7",
   "metadata": {},
   "outputs": [
    {
     "data": {
      "text/plain": [
       "True"
      ]
     },
     "execution_count": 828,
     "metadata": {},
     "output_type": "execute_result"
    }
   ],
   "source": [
    "\"Fatma\" in ogrenciler"
   ]
  },
  {
   "cell_type": "code",
   "execution_count": 832,
   "id": "6b2b5671-1abe-4cac-b034-682916944b95",
   "metadata": {},
   "outputs": [
    {
     "data": {
      "text/plain": [
       "{'i': {2}}"
      ]
     },
     "execution_count": 832,
     "metadata": {},
     "output_type": "execute_result"
    }
   ],
   "source": [
    "d={\"i\":{2}}\n",
    "d"
   ]
  },
  {
   "cell_type": "code",
   "execution_count": 834,
   "id": "0bc4e1e5-4bfa-405c-824e-9deea63a118d",
   "metadata": {},
   "outputs": [
    {
     "ename": "TypeError",
     "evalue": "unhashable type: 'set'",
     "output_type": "error",
     "traceback": [
      "\u001b[1;31m---------------------------------------------------------------------------\u001b[0m",
      "\u001b[1;31mTypeError\u001b[0m                                 Traceback (most recent call last)",
      "Cell \u001b[1;32mIn[834], line 1\u001b[0m\n\u001b[1;32m----> 1\u001b[0m d\u001b[38;5;241m=\u001b[39m{{\u001b[38;5;124m\"\u001b[39m\u001b[38;5;124mi\u001b[39m\u001b[38;5;124m\"\u001b[39m}:\u001b[38;5;241m2\u001b[39m}\n",
      "\u001b[1;31mTypeError\u001b[0m: unhashable type: 'set'"
     ]
    }
   ],
   "source": [
    "d={{\"i\"}:2}"
   ]
  },
  {
   "cell_type": "code",
   "execution_count": 836,
   "id": "023a1498-b2a8-44d1-9f4d-da87c818d4c2",
   "metadata": {},
   "outputs": [
    {
     "ename": "TypeError",
     "evalue": "unhashable type: 'list'",
     "output_type": "error",
     "traceback": [
      "\u001b[1;31m---------------------------------------------------------------------------\u001b[0m",
      "\u001b[1;31mTypeError\u001b[0m                                 Traceback (most recent call last)",
      "Cell \u001b[1;32mIn[836], line 1\u001b[0m\n\u001b[1;32m----> 1\u001b[0m d\u001b[38;5;241m=\u001b[39m{[\u001b[38;5;124m\"\u001b[39m\u001b[38;5;124mi\u001b[39m\u001b[38;5;124m\"\u001b[39m]:\u001b[38;5;241m2\u001b[39m}\n",
      "\u001b[1;31mTypeError\u001b[0m: unhashable type: 'list'"
     ]
    }
   ],
   "source": [
    "d={[\"i\"]:2}"
   ]
  },
  {
   "cell_type": "markdown",
   "id": "5ee68ebc-dfa4-4b8f-8d12-8f0eb76f61ac",
   "metadata": {},
   "source": [
    "# SETLER (KÜMELER)"
   ]
  },
  {
   "cell_type": "code",
   "execution_count": 486,
   "id": "71d2958f-272d-46e7-a563-5e2f18236dbc",
   "metadata": {},
   "outputs": [],
   "source": [
    "#Dict gibi {} içinde ama key ve value yok tek değer var ve de bu değerler unique olmalı"
   ]
  },
  {
   "cell_type": "code",
   "execution_count": 488,
   "id": "2ba149c5-7e4e-44a4-87d0-93139982194a",
   "metadata": {},
   "outputs": [],
   "source": [
    "s= {1,2,3,4,5,1}"
   ]
  },
  {
   "cell_type": "code",
   "execution_count": 490,
   "id": "0c1c5496-7816-4315-8343-d9a40f23b89c",
   "metadata": {},
   "outputs": [
    {
     "data": {
      "text/plain": [
       "{1, 2, 3, 4, 5}"
      ]
     },
     "execution_count": 490,
     "metadata": {},
     "output_type": "execute_result"
    }
   ],
   "source": [
    "s"
   ]
  },
  {
   "cell_type": "code",
   "execution_count": 492,
   "id": "86055245-fda4-4a0c-a21f-d84dd1df3ee2",
   "metadata": {},
   "outputs": [
    {
     "data": {
      "text/plain": [
       "set"
      ]
     },
     "execution_count": 492,
     "metadata": {},
     "output_type": "execute_result"
    }
   ],
   "source": [
    "type(s)"
   ]
  },
  {
   "cell_type": "code",
   "execution_count": 494,
   "id": "fd02b73b-9db2-4695-aa70-59d4856fff34",
   "metadata": {},
   "outputs": [
    {
     "data": {
      "text/plain": [
       "5"
      ]
     },
     "execution_count": 494,
     "metadata": {},
     "output_type": "execute_result"
    }
   ],
   "source": [
    "len(s)"
   ]
  },
  {
   "cell_type": "code",
   "execution_count": 496,
   "id": "168c0b8f-0e83-4bf8-b163-b057a0a47cbb",
   "metadata": {},
   "outputs": [],
   "source": [
    "a={}"
   ]
  },
  {
   "cell_type": "code",
   "execution_count": 498,
   "id": "44d8a0b4-9021-4153-ad51-16262605f442",
   "metadata": {},
   "outputs": [
    {
     "data": {
      "text/plain": [
       "{}"
      ]
     },
     "execution_count": 498,
     "metadata": {},
     "output_type": "execute_result"
    }
   ],
   "source": [
    "a"
   ]
  },
  {
   "cell_type": "code",
   "execution_count": 500,
   "id": "8a6cec47-60cb-4e43-8ea7-bc77dd193714",
   "metadata": {},
   "outputs": [
    {
     "data": {
      "text/plain": [
       "dict"
      ]
     },
     "execution_count": 500,
     "metadata": {},
     "output_type": "execute_result"
    }
   ],
   "source": [
    "type(a)"
   ]
  },
  {
   "cell_type": "code",
   "execution_count": 506,
   "id": "a37c408c-fcb9-4f22-869d-4e5501c35dda",
   "metadata": {},
   "outputs": [],
   "source": [
    "b= set() #set oluşturma"
   ]
  },
  {
   "cell_type": "code",
   "execution_count": 504,
   "id": "e63dfe94-bb2a-4a41-8d60-61347dc12516",
   "metadata": {},
   "outputs": [
    {
     "data": {
      "text/plain": [
       "set()"
      ]
     },
     "execution_count": 504,
     "metadata": {},
     "output_type": "execute_result"
    }
   ],
   "source": [
    "b"
   ]
  },
  {
   "cell_type": "code",
   "execution_count": 508,
   "id": "f403e077-c751-4144-9cb5-d047585d0bb5",
   "metadata": {},
   "outputs": [],
   "source": [
    "l = [1,2,3,4]"
   ]
  },
  {
   "cell_type": "code",
   "execution_count": 510,
   "id": "ed701867-ecfc-4e67-ab82-d85810db43ba",
   "metadata": {},
   "outputs": [
    {
     "data": {
      "text/plain": [
       "list"
      ]
     },
     "execution_count": 510,
     "metadata": {},
     "output_type": "execute_result"
    }
   ],
   "source": [
    "type(l)"
   ]
  },
  {
   "cell_type": "code",
   "execution_count": 512,
   "id": "e410ac96-0c3f-49eb-b086-2062b877499e",
   "metadata": {},
   "outputs": [],
   "source": [
    "s = set(l)"
   ]
  },
  {
   "cell_type": "code",
   "execution_count": 514,
   "id": "ce78fa2a-ab61-4a73-a59d-e742ff3419f2",
   "metadata": {},
   "outputs": [
    {
     "data": {
      "text/plain": [
       "{1, 2, 3, 4}"
      ]
     },
     "execution_count": 514,
     "metadata": {},
     "output_type": "execute_result"
    }
   ],
   "source": [
    "s"
   ]
  },
  {
   "cell_type": "code",
   "execution_count": 516,
   "id": "ed5b877e-0abf-4bf8-a7df-664e045b88a6",
   "metadata": {},
   "outputs": [],
   "source": [
    "l = [1,2,3,4,1,2]"
   ]
  },
  {
   "cell_type": "code",
   "execution_count": 518,
   "id": "d21c7eba-5d6f-47b0-bcbc-90be42f58a88",
   "metadata": {},
   "outputs": [
    {
     "data": {
      "text/plain": [
       "{1, 2, 3, 4}"
      ]
     },
     "execution_count": 518,
     "metadata": {},
     "output_type": "execute_result"
    }
   ],
   "source": [
    "set(l)"
   ]
  },
  {
   "cell_type": "code",
   "execution_count": 520,
   "id": "93fdd4fa-f3a8-42b9-b440-44b55efeddf6",
   "metadata": {},
   "outputs": [],
   "source": [
    "message = \"Merhaba, orda mısın?\""
   ]
  },
  {
   "cell_type": "code",
   "execution_count": 526,
   "id": "f9fdce47-8428-4e59-acec-a48685ffa51d",
   "metadata": {},
   "outputs": [
    {
     "data": {
      "text/plain": [
       "{' ', ',', '?', 'M', 'a', 'b', 'd', 'e', 'h', 'm', 'n', 'o', 'r', 's', 'ı'}"
      ]
     },
     "execution_count": 526,
     "metadata": {},
     "output_type": "execute_result"
    }
   ],
   "source": [
    "set(message) # setler sıralı değildir."
   ]
  },
  {
   "cell_type": "code",
   "execution_count": 524,
   "id": "9dd48c99-c019-45b3-aac7-6a6244cc2606",
   "metadata": {},
   "outputs": [
    {
     "data": {
      "text/plain": [
       "20"
      ]
     },
     "execution_count": 524,
     "metadata": {},
     "output_type": "execute_result"
    }
   ],
   "source": [
    "len(message)"
   ]
  },
  {
   "cell_type": "code",
   "execution_count": 536,
   "id": "720b6a5e-fee4-4505-b3d4-44698d51ba33",
   "metadata": {},
   "outputs": [],
   "source": [
    "t = (1,2,3,3,2)"
   ]
  },
  {
   "cell_type": "code",
   "execution_count": 538,
   "id": "e21b770b-56d7-464d-b12e-517eebe64324",
   "metadata": {},
   "outputs": [
    {
     "data": {
      "text/plain": [
       "tuple"
      ]
     },
     "execution_count": 538,
     "metadata": {},
     "output_type": "execute_result"
    }
   ],
   "source": [
    "type(t)"
   ]
  },
  {
   "cell_type": "code",
   "execution_count": 530,
   "id": "58205b84-ca67-4a10-9cab-ff2a2a30954b",
   "metadata": {},
   "outputs": [
    {
     "data": {
      "text/plain": [
       "{1, 2, 3}"
      ]
     },
     "execution_count": 530,
     "metadata": {},
     "output_type": "execute_result"
    }
   ],
   "source": [
    "set(t)"
   ]
  },
  {
   "cell_type": "code",
   "execution_count": 540,
   "id": "028fc199-c633-4729-8554-e6cd6e5ea3f1",
   "metadata": {},
   "outputs": [
    {
     "data": {
      "text/plain": [
       "5"
      ]
     },
     "execution_count": 540,
     "metadata": {},
     "output_type": "execute_result"
    }
   ],
   "source": [
    "len(t)"
   ]
  },
  {
   "cell_type": "code",
   "execution_count": 542,
   "id": "884832d6-1cb5-4d5f-95b2-37bd087c0ccf",
   "metadata": {},
   "outputs": [
    {
     "data": {
      "text/plain": [
       "3"
      ]
     },
     "execution_count": 542,
     "metadata": {},
     "output_type": "execute_result"
    }
   ],
   "source": [
    "len(set(t))"
   ]
  },
  {
   "cell_type": "code",
   "execution_count": 544,
   "id": "1926e701-3d13-4637-a1dd-b821de0d76be",
   "metadata": {},
   "outputs": [],
   "source": [
    "#Setler Indexlenemez"
   ]
  },
  {
   "cell_type": "code",
   "execution_count": 546,
   "id": "0b831cd4-373e-4383-b5db-c2eda382e56f",
   "metadata": {},
   "outputs": [
    {
     "ename": "TypeError",
     "evalue": "'set' object is not subscriptable",
     "output_type": "error",
     "traceback": [
      "\u001b[1;31m---------------------------------------------------------------------------\u001b[0m",
      "\u001b[1;31mTypeError\u001b[0m                                 Traceback (most recent call last)",
      "Cell \u001b[1;32mIn[546], line 1\u001b[0m\n\u001b[1;32m----> 1\u001b[0m s[\u001b[38;5;241m0\u001b[39m]\n",
      "\u001b[1;31mTypeError\u001b[0m: 'set' object is not subscriptable"
     ]
    }
   ],
   "source": [
    "s[0]"
   ]
  },
  {
   "cell_type": "code",
   "execution_count": 548,
   "id": "00a3d3e0-1a14-43a1-9118-d2c7e71a1945",
   "metadata": {},
   "outputs": [],
   "source": [
    "#Set'e Eleman Ekleme"
   ]
  },
  {
   "cell_type": "code",
   "execution_count": 550,
   "id": "356f54c2-43c1-4c36-9ef2-d4c13c2acf20",
   "metadata": {},
   "outputs": [],
   "source": [
    "s = {1, 2, 3, 4, 5}"
   ]
  },
  {
   "cell_type": "code",
   "execution_count": 552,
   "id": "cdbb1d41-04de-45c0-9900-319e8faa628f",
   "metadata": {},
   "outputs": [],
   "source": [
    "s.add(6)"
   ]
  },
  {
   "cell_type": "code",
   "execution_count": 554,
   "id": "72a737e2-a5a4-47ee-ac8a-49d8d90449df",
   "metadata": {},
   "outputs": [
    {
     "data": {
      "text/plain": [
       "{1, 2, 3, 4, 5, 6}"
      ]
     },
     "execution_count": 554,
     "metadata": {},
     "output_type": "execute_result"
    }
   ],
   "source": [
    "s"
   ]
  },
  {
   "cell_type": "code",
   "execution_count": 556,
   "id": "685f6997-add6-4a0f-8b25-fa6ec00a4db6",
   "metadata": {},
   "outputs": [],
   "source": [
    "# Bu kod bir error vermeyecek, ama 5 zaten sette olduğu için eklemeyecek de\n",
    "s.add(5)"
   ]
  },
  {
   "cell_type": "code",
   "execution_count": 558,
   "id": "3661496a-87ea-4637-a7ab-f77717850efd",
   "metadata": {},
   "outputs": [
    {
     "data": {
      "text/plain": [
       "{1, 2, 3, 4, 5, 6}"
      ]
     },
     "execution_count": 558,
     "metadata": {},
     "output_type": "execute_result"
    }
   ],
   "source": [
    "s"
   ]
  },
  {
   "cell_type": "code",
   "execution_count": 560,
   "id": "166b4a46-9b59-432c-bb16-699e77b426b4",
   "metadata": {},
   "outputs": [],
   "source": [
    "#Set'ten Eleman Silmek"
   ]
  },
  {
   "cell_type": "code",
   "execution_count": 562,
   "id": "59a262d5-162f-482f-87e4-665f1d3f7d1c",
   "metadata": {},
   "outputs": [],
   "source": [
    "s.remove(2)"
   ]
  },
  {
   "cell_type": "code",
   "execution_count": 564,
   "id": "deb358ef-0ccd-4613-9191-0c9f8cd40752",
   "metadata": {},
   "outputs": [
    {
     "data": {
      "text/plain": [
       "{1, 3, 4, 5, 6}"
      ]
     },
     "execution_count": 564,
     "metadata": {},
     "output_type": "execute_result"
    }
   ],
   "source": [
    "s"
   ]
  },
  {
   "cell_type": "code",
   "execution_count": 566,
   "id": "934f38c9-0fff-4b45-805c-4458e8ae277b",
   "metadata": {},
   "outputs": [
    {
     "ename": "KeyError",
     "evalue": "9",
     "output_type": "error",
     "traceback": [
      "\u001b[1;31m---------------------------------------------------------------------------\u001b[0m",
      "\u001b[1;31mKeyError\u001b[0m                                  Traceback (most recent call last)",
      "Cell \u001b[1;32mIn[566], line 2\u001b[0m\n\u001b[0;32m      1\u001b[0m \u001b[38;5;66;03m# add()'in aksine, remove() o eleman kümede yoksa hata veriyor.\u001b[39;00m\n\u001b[1;32m----> 2\u001b[0m s\u001b[38;5;241m.\u001b[39mremove(\u001b[38;5;241m9\u001b[39m)\n",
      "\u001b[1;31mKeyError\u001b[0m: 9"
     ]
    }
   ],
   "source": [
    "# add()'in aksine, remove() o eleman kümede yoksa hata veriyor.\n",
    "s.remove(9)"
   ]
  },
  {
   "cell_type": "code",
   "execution_count": 568,
   "id": "de939b11-a39c-4cac-afa8-a491444f95e7",
   "metadata": {},
   "outputs": [],
   "source": [
    "# Eğer silmek istediğimiz eleman yoksa hata almak istemiyorsak, discard()'ı kullanabiliriz.\n",
    "s.discard(10)"
   ]
  },
  {
   "cell_type": "code",
   "execution_count": 570,
   "id": "a1b03f55-03c1-490f-a608-42bee1fba657",
   "metadata": {},
   "outputs": [
    {
     "data": {
      "text/plain": [
       "{1, 3, 4, 5, 6}"
      ]
     },
     "execution_count": 570,
     "metadata": {},
     "output_type": "execute_result"
    }
   ],
   "source": [
    "s"
   ]
  },
  {
   "cell_type": "code",
   "execution_count": 572,
   "id": "e58b12a8-a8f2-44e2-b1fe-7761b4c7d850",
   "metadata": {},
   "outputs": [],
   "source": [
    "s.discard(4)"
   ]
  },
  {
   "cell_type": "code",
   "execution_count": 574,
   "id": "251a9744-c5a7-44f4-8558-b9e592c499ce",
   "metadata": {},
   "outputs": [
    {
     "data": {
      "text/plain": [
       "{1, 3, 5, 6}"
      ]
     },
     "execution_count": 574,
     "metadata": {},
     "output_type": "execute_result"
    }
   ],
   "source": [
    "s"
   ]
  },
  {
   "cell_type": "code",
   "execution_count": 576,
   "id": "2c1ec545-1dd8-4773-a020-791459e84c88",
   "metadata": {},
   "outputs": [],
   "source": [
    "#Difference (fark)"
   ]
  },
  {
   "cell_type": "code",
   "execution_count": 580,
   "id": "a094a586-8640-4e4e-829d-ee1b7826c9e0",
   "metadata": {},
   "outputs": [
    {
     "data": {
      "text/plain": [
       "{1, 10}"
      ]
     },
     "execution_count": 580,
     "metadata": {},
     "output_type": "execute_result"
    }
   ],
   "source": [
    "s1 = set([1,5,10])\n",
    "\n",
    "\n",
    "s2 = set([2,5,3])\n",
    "\n",
    "\n",
    "# s1 in hangi elemanları s2 den farklı onu vercek\n",
    "s1.difference(s2)"
   ]
  },
  {
   "cell_type": "code",
   "execution_count": 582,
   "id": "90005f44-fd54-427e-beb5-9fbaac24f65e",
   "metadata": {},
   "outputs": [
    {
     "data": {
      "text/plain": [
       "{2, 3}"
      ]
     },
     "execution_count": 582,
     "metadata": {},
     "output_type": "execute_result"
    }
   ],
   "source": [
    "s2.difference(s1)"
   ]
  },
  {
   "cell_type": "code",
   "execution_count": 584,
   "id": "effe428e-105c-4bb4-9c65-f912d6fcad35",
   "metadata": {},
   "outputs": [
    {
     "data": {
      "text/plain": [
       "{1, 10}"
      ]
     },
     "execution_count": 584,
     "metadata": {},
     "output_type": "execute_result"
    }
   ],
   "source": [
    "s1 - s2 #kümeler gibi ayoll"
   ]
  },
  {
   "cell_type": "code",
   "execution_count": 586,
   "id": "9d8e1c11-3f7a-4278-9a22-765f9ce5d807",
   "metadata": {},
   "outputs": [
    {
     "data": {
      "text/plain": [
       "{2, 3}"
      ]
     },
     "execution_count": 586,
     "metadata": {},
     "output_type": "execute_result"
    }
   ],
   "source": [
    "s2 - s1"
   ]
  },
  {
   "cell_type": "code",
   "execution_count": 588,
   "id": "cf573341-35d7-4cd7-826a-753ff28becae",
   "metadata": {},
   "outputs": [],
   "source": [
    "#Symmetric Difference"
   ]
  },
  {
   "cell_type": "code",
   "execution_count": 594,
   "id": "febae2bb-40d3-4562-977a-7a04b4593fc3",
   "metadata": {},
   "outputs": [],
   "source": [
    "# s1'in s2 den farkı ile s2'nin s1 den farkının birleşimi. (s1 \\ s2) U (s2 \\ s1) - > s1 U s2 - (s1 n s2)"
   ]
  },
  {
   "cell_type": "code",
   "execution_count": 596,
   "id": "594afbeb-d247-4404-a41d-2f7d637f2260",
   "metadata": {},
   "outputs": [
    {
     "data": {
      "text/plain": [
       "{1, 2, 3, 10}"
      ]
     },
     "execution_count": 596,
     "metadata": {},
     "output_type": "execute_result"
    }
   ],
   "source": [
    "s1.symmetric_difference(s2)"
   ]
  },
  {
   "cell_type": "code",
   "execution_count": 598,
   "id": "14b0f1a4-aebd-4f71-85fe-6989ca709db7",
   "metadata": {},
   "outputs": [
    {
     "data": {
      "text/plain": [
       "{1, 2, 3, 10}"
      ]
     },
     "execution_count": 598,
     "metadata": {},
     "output_type": "execute_result"
    }
   ],
   "source": [
    "s2.symmetric_difference(s1)"
   ]
  },
  {
   "cell_type": "code",
   "execution_count": 600,
   "id": "051bcfba-c770-41c1-bfd3-3f664d7e42b2",
   "metadata": {},
   "outputs": [],
   "source": [
    "#Intersection (kesişim)"
   ]
  },
  {
   "cell_type": "code",
   "execution_count": 602,
   "id": "65b081e0-5922-4d48-8f96-b72604748546",
   "metadata": {},
   "outputs": [
    {
     "data": {
      "text/plain": [
       "{5}"
      ]
     },
     "execution_count": 602,
     "metadata": {},
     "output_type": "execute_result"
    }
   ],
   "source": [
    "s1.intersection(s2)"
   ]
  },
  {
   "cell_type": "code",
   "execution_count": 604,
   "id": "cf111ba1-c469-4e46-b165-89380e59b8a7",
   "metadata": {},
   "outputs": [
    {
     "data": {
      "text/plain": [
       "{5}"
      ]
     },
     "execution_count": 604,
     "metadata": {},
     "output_type": "execute_result"
    }
   ],
   "source": [
    "s2.intersection(s1)"
   ]
  },
  {
   "cell_type": "code",
   "execution_count": 606,
   "id": "ba2b8ccd-68c5-4364-8b42-d750acd4483c",
   "metadata": {},
   "outputs": [
    {
     "data": {
      "text/plain": [
       "{5}"
      ]
     },
     "execution_count": 606,
     "metadata": {},
     "output_type": "execute_result"
    }
   ],
   "source": [
    "# `&` operatörü setlere uygulanınca kesişim olur\n",
    "s1 & s2"
   ]
  },
  {
   "cell_type": "code",
   "execution_count": 608,
   "id": "0ce70ea7-c818-47ac-8da9-502092083654",
   "metadata": {},
   "outputs": [
    {
     "data": {
      "text/plain": [
       "{5}"
      ]
     },
     "execution_count": 608,
     "metadata": {},
     "output_type": "execute_result"
    }
   ],
   "source": [
    "# Bu işlem kesişim ile aynı sonucu verecek\n",
    "s1 - (s1-s2)"
   ]
  },
  {
   "cell_type": "code",
   "execution_count": 610,
   "id": "daf2bdd9-6674-4dab-82f0-8f478cf76a90",
   "metadata": {},
   "outputs": [],
   "source": [
    "s1.intersection_update(s2) # s1 = s1.intersection(s2) # Kesişim yapıp s1 in değerini buna günceller"
   ]
  },
  {
   "cell_type": "code",
   "execution_count": 612,
   "id": "35eb077c-5b72-4769-81a2-6f48c5e0977a",
   "metadata": {},
   "outputs": [
    {
     "data": {
      "text/plain": [
       "{5}"
      ]
     },
     "execution_count": 612,
     "metadata": {},
     "output_type": "execute_result"
    }
   ],
   "source": [
    "s1"
   ]
  },
  {
   "cell_type": "code",
   "execution_count": 614,
   "id": "280b5704-3f8c-4727-a538-4932f0f0f778",
   "metadata": {},
   "outputs": [],
   "source": [
    "#Union (Birleşim)"
   ]
  },
  {
   "cell_type": "code",
   "execution_count": 616,
   "id": "5cee5fa6-7556-4522-b51c-1ab3aaad69a0",
   "metadata": {},
   "outputs": [],
   "source": [
    "s1 = set([1, 5, 10])"
   ]
  },
  {
   "cell_type": "code",
   "execution_count": 618,
   "id": "ae06aefe-ba0b-4e30-b6aa-8563e22083a7",
   "metadata": {},
   "outputs": [
    {
     "data": {
      "text/plain": [
       "{2, 3, 5}"
      ]
     },
     "execution_count": 618,
     "metadata": {},
     "output_type": "execute_result"
    }
   ],
   "source": [
    "s2"
   ]
  },
  {
   "cell_type": "code",
   "execution_count": 620,
   "id": "71f7fa57-12af-401a-a213-6ba7258698fa",
   "metadata": {},
   "outputs": [
    {
     "data": {
      "text/plain": [
       "{1, 2, 3, 5, 10}"
      ]
     },
     "execution_count": 620,
     "metadata": {},
     "output_type": "execute_result"
    }
   ],
   "source": [
    "s1.union(s2)"
   ]
  },
  {
   "cell_type": "code",
   "execution_count": 622,
   "id": "d5cfebd1-6659-4d99-bbad-4bd5ee6914c4",
   "metadata": {},
   "outputs": [
    {
     "data": {
      "text/plain": [
       "{1, 2, 3, 5, 10}"
      ]
     },
     "execution_count": 622,
     "metadata": {},
     "output_type": "execute_result"
    }
   ],
   "source": [
    "s2.union(s1)"
   ]
  },
  {
   "cell_type": "code",
   "execution_count": 624,
   "id": "19c9f972-067c-43a4-a401-418c80fea48c",
   "metadata": {},
   "outputs": [
    {
     "data": {
      "text/plain": [
       "{2, 3, 5}"
      ]
     },
     "execution_count": 624,
     "metadata": {},
     "output_type": "execute_result"
    }
   ],
   "source": [
    "s2"
   ]
  },
  {
   "cell_type": "code",
   "execution_count": 626,
   "id": "4049e383-f345-4d69-ba5f-47f7c450bd50",
   "metadata": {},
   "outputs": [
    {
     "data": {
      "text/plain": [
       "{1, 5, 10}"
      ]
     },
     "execution_count": 626,
     "metadata": {},
     "output_type": "execute_result"
    }
   ],
   "source": [
    "s1.union(s1)"
   ]
  },
  {
   "cell_type": "code",
   "execution_count": 630,
   "id": "31606e4a-5cab-4e54-b558-51d85041e9d8",
   "metadata": {},
   "outputs": [],
   "source": [
    "#Disjoint Sets (Ayrık Kümeler)"
   ]
  },
  {
   "cell_type": "code",
   "execution_count": 636,
   "id": "2e002e28-cbc9-4516-bd42-83d025c5c999",
   "metadata": {},
   "outputs": [],
   "source": [
    "s3 = {11, 12}"
   ]
  },
  {
   "cell_type": "code",
   "execution_count": 638,
   "id": "e7a4db9c-5c69-4e97-9166-23e9e5563071",
   "metadata": {},
   "outputs": [
    {
     "data": {
      "text/plain": [
       "{11, 12}"
      ]
     },
     "execution_count": 638,
     "metadata": {},
     "output_type": "execute_result"
    }
   ],
   "source": [
    "s3"
   ]
  },
  {
   "cell_type": "code",
   "execution_count": 640,
   "id": "dde9343f-8ad7-4339-a02d-e6bb7457c488",
   "metadata": {},
   "outputs": [
    {
     "data": {
      "text/plain": [
       "set"
      ]
     },
     "execution_count": 640,
     "metadata": {},
     "output_type": "execute_result"
    }
   ],
   "source": [
    "type(s3)"
   ]
  },
  {
   "cell_type": "code",
   "execution_count": 644,
   "id": "b318e0d0-3292-41ff-a0e8-49fadb212ee8",
   "metadata": {},
   "outputs": [
    {
     "data": {
      "text/plain": [
       "False"
      ]
     },
     "execution_count": 644,
     "metadata": {},
     "output_type": "execute_result"
    }
   ],
   "source": [
    "s1.isdisjoint(s2)"
   ]
  },
  {
   "cell_type": "code",
   "execution_count": 648,
   "id": "203a9b01-4383-4fd8-bdff-611c2d65046f",
   "metadata": {},
   "outputs": [
    {
     "data": {
      "text/plain": [
       "False"
      ]
     },
     "execution_count": 648,
     "metadata": {},
     "output_type": "execute_result"
    }
   ],
   "source": [
    "s2.isdisjoint(s1)"
   ]
  },
  {
   "cell_type": "code",
   "execution_count": 650,
   "id": "4e9990df-4205-4275-9882-469f51d0f948",
   "metadata": {},
   "outputs": [
    {
     "data": {
      "text/plain": [
       "True"
      ]
     },
     "execution_count": 650,
     "metadata": {},
     "output_type": "execute_result"
    }
   ],
   "source": [
    "s1.isdisjoint(s3)"
   ]
  },
  {
   "cell_type": "code",
   "execution_count": 654,
   "id": "484b582d-f092-464e-ad36-44cf8523c2c8",
   "metadata": {},
   "outputs": [
    {
     "data": {
      "text/plain": [
       "False"
      ]
     },
     "execution_count": 654,
     "metadata": {},
     "output_type": "execute_result"
    }
   ],
   "source": [
    "len(s1.intersection(s2)) == 0 #bu da ayrık küme demek kesişim uzunluğu sıfır mı diye soruyor"
   ]
  },
  {
   "cell_type": "code",
   "execution_count": 658,
   "id": "1d86d514-a875-4600-8214-c701ea7a2b14",
   "metadata": {},
   "outputs": [],
   "source": [
    "#Subset (Alt küme)"
   ]
  },
  {
   "cell_type": "code",
   "execution_count": 660,
   "id": "fc5d126c-d976-40ab-8585-14b45f7b5b41",
   "metadata": {},
   "outputs": [
    {
     "data": {
      "text/plain": [
       "False"
      ]
     },
     "execution_count": 660,
     "metadata": {},
     "output_type": "execute_result"
    }
   ],
   "source": [
    "s1.issubset(s2)"
   ]
  },
  {
   "cell_type": "code",
   "execution_count": 664,
   "id": "fdbe102d-a591-487f-9add-a1daf995dda7",
   "metadata": {},
   "outputs": [],
   "source": [
    "s4= {1}"
   ]
  },
  {
   "cell_type": "code",
   "execution_count": 666,
   "id": "e16273cc-8f6f-4ee6-8f7f-1bdcfca97751",
   "metadata": {},
   "outputs": [
    {
     "data": {
      "text/plain": [
       "True"
      ]
     },
     "execution_count": 666,
     "metadata": {},
     "output_type": "execute_result"
    }
   ],
   "source": [
    "s4.issubset(s1)"
   ]
  },
  {
   "cell_type": "code",
   "execution_count": 668,
   "id": "73464a55-3bd7-44d8-a1e0-3a2fbb30b101",
   "metadata": {},
   "outputs": [],
   "source": [
    "#Superset (üst küme)"
   ]
  },
  {
   "cell_type": "code",
   "execution_count": 670,
   "id": "391016b6-1a45-4096-8d1b-65974f62ed17",
   "metadata": {},
   "outputs": [
    {
     "data": {
      "text/plain": [
       "True"
      ]
     },
     "execution_count": 670,
     "metadata": {},
     "output_type": "execute_result"
    }
   ],
   "source": [
    "s1.issuperset(s4)"
   ]
  },
  {
   "cell_type": "code",
   "execution_count": 672,
   "id": "faaafe09-b9c0-44bf-a287-0ccfac1c299d",
   "metadata": {},
   "outputs": [
    {
     "ename": "TypeError",
     "evalue": "'set' object is not subscriptable",
     "output_type": "error",
     "traceback": [
      "\u001b[1;31m---------------------------------------------------------------------------\u001b[0m",
      "\u001b[1;31mTypeError\u001b[0m                                 Traceback (most recent call last)",
      "Cell \u001b[1;32mIn[672], line 1\u001b[0m\n\u001b[1;32m----> 1\u001b[0m s1[\u001b[38;5;241m0\u001b[39m]\n",
      "\u001b[1;31mTypeError\u001b[0m: 'set' object is not subscriptable"
     ]
    }
   ],
   "source": [
    "s1[0]"
   ]
  },
  {
   "cell_type": "markdown",
   "id": "6fdd6636-968f-4156-8a76-3e05f99be501",
   "metadata": {},
   "source": [
    "# Non-scalar Veri Tiplerinde For (list, tuple, dictionary)\n"
   ]
  },
  {
   "cell_type": "markdown",
   "id": "3304a640-e58d-4ce3-85a9-c0b8857f9bac",
   "metadata": {},
   "source": [
    "### Listelerde İterasyon"
   ]
  },
  {
   "cell_type": "code",
   "execution_count": 3,
   "id": "f367fa9d-c4dd-4c97-8c5b-009a8b4bd338",
   "metadata": {},
   "outputs": [],
   "source": [
    "notlar = [90,72,81,77]"
   ]
  },
  {
   "cell_type": "code",
   "execution_count": 698,
   "id": "cbf1efdc-bf87-4b8a-9e0e-07f847aa663a",
   "metadata": {},
   "outputs": [
    {
     "data": {
      "text/plain": [
       "list"
      ]
     },
     "execution_count": 698,
     "metadata": {},
     "output_type": "execute_result"
    }
   ],
   "source": [
    "type(notlar)"
   ]
  },
  {
   "cell_type": "code",
   "execution_count": 11,
   "id": "61a9628e-bdab-4cd8-9601-831a63308b06",
   "metadata": {},
   "outputs": [
    {
     "name": "stdout",
     "output_type": "stream",
     "text": [
      "90\n",
      "72\n",
      "81\n",
      "77\n"
     ]
    }
   ],
   "source": [
    "for a in notlar:\n",
    "    print (a)"
   ]
  },
  {
   "cell_type": "code",
   "execution_count": 25,
   "id": "d5e69862-eaf7-4a56-93d7-0b58f6c0d830",
   "metadata": {},
   "outputs": [
    {
     "name": "stdout",
     "output_type": "stream",
     "text": [
      "ortalama:  80\n"
     ]
    }
   ],
   "source": [
    "notlar = [90,72,81,77]  #benim bakmadan yaptığım\n",
    "\n",
    "toplam=0\n",
    "\n",
    "for b in notlar:\n",
    "    toplam+=b\n",
    "\n",
    "ortalama= toplam//len(notlar)\n",
    "print (\"ortalama: \" , ortalama)"
   ]
  },
  {
   "cell_type": "code",
   "execution_count": 29,
   "id": "07979eb8-2ed8-4b29-ba28-09ae48253ce1",
   "metadata": {},
   "outputs": [
    {
     "name": "stdout",
     "output_type": "stream",
     "text": [
      "80.0\n"
     ]
    }
   ],
   "source": [
    "t = 0               #dersteki\n",
    "\n",
    "for e in notlar:\n",
    "    t += e\n",
    "    \n",
    "ortalama = t / len(notlar)\n",
    "\n",
    "print(ortalama)"
   ]
  },
  {
   "cell_type": "code",
   "execution_count": 35,
   "id": "490c261b-3092-4c82-8c2e-21b51211df31",
   "metadata": {},
   "outputs": [],
   "source": [
    "# range() ile indexlerde iterasyon yapıp indexing ile değerlerine de ulaşabilirdim. \n",
    "# (Range belirli bir listenin indexlerinde iterasyon yapmamı sağlamıyor, range(len(notlar)) diyince bize 0,1,2.. len(notlar)-1 sayılarını verecek, \n",
    "# bunlar da listenin indexleriyle örtüşüyor, yoksa range() index verir diye bir şey yok. \"\"\""
   ]
  },
  {
   "cell_type": "code",
   "execution_count": 37,
   "id": "2a3c196d-c3de-480e-9194-3a82883149ff",
   "metadata": {},
   "outputs": [
    {
     "name": "stdout",
     "output_type": "stream",
     "text": [
      "Iteration:  0\n",
      "Iteration:  1\n",
      "Iteration:  2\n",
      "Iteration:  3\n"
     ]
    }
   ],
   "source": [
    "for i in range(4):\n",
    "    print(\"Iteration: \", i)"
   ]
  },
  {
   "cell_type": "code",
   "execution_count": 41,
   "id": "89fb0640-f35c-4531-a338-b4fcbe330b01",
   "metadata": {},
   "outputs": [
    {
     "name": "stdout",
     "output_type": "stream",
     "text": [
      "Ortalama: 80.0\n"
     ]
    }
   ],
   "source": [
    "t = 0\n",
    "\n",
    "for i in range(len(notlar)):\n",
    "    t += notlar[i]\n",
    "    \n",
    "ortalama = t / len(notlar)\n",
    "\n",
    "print(\"Ortalama:\",ortalama)"
   ]
  },
  {
   "cell_type": "code",
   "execution_count": 39,
   "id": "c1f5deb9-6174-4697-9f64-154f487b9886",
   "metadata": {},
   "outputs": [
    {
     "data": {
      "text/plain": [
       "range(0, 4)"
      ]
     },
     "execution_count": 39,
     "metadata": {},
     "output_type": "execute_result"
    }
   ],
   "source": [
    "range(len(notlar))"
   ]
  },
  {
   "cell_type": "code",
   "execution_count": 43,
   "id": "c808ce31-7021-4bac-922f-d174cad26ec4",
   "metadata": {},
   "outputs": [],
   "source": [
    "#Örneğin notların 5'er puan arttırılması gerekiyor, bunu  direkt listenin elemanlarında iterasyon yaparak yapamam. \n",
    "#Listenin indexlerine erişip o değeri güncellemem lazım."
   ]
  },
  {
   "cell_type": "code",
   "execution_count": 45,
   "id": "9fb5758d-6dba-44a5-85a7-9850d0f24649",
   "metadata": {},
   "outputs": [
    {
     "name": "stdout",
     "output_type": "stream",
     "text": [
      "90\n",
      "72\n",
      "81\n",
      "77\n"
     ]
    }
   ],
   "source": [
    "[90, 72, 81, 77]\n",
    "for e in notlar:\n",
    "    print(e)"
   ]
  },
  {
   "cell_type": "code",
   "execution_count": 53,
   "id": "37004b62-1875-4e0c-a767-b56f3997903e",
   "metadata": {},
   "outputs": [],
   "source": [
    "#Buradaki e sadece notların içindeki değerleri gösteriyor, nota [] index gibi ulaşmıyor, e'yi değiştirmek listenin elemanlarını değiştirmez!\n"
   ]
  },
  {
   "cell_type": "code",
   "execution_count": 51,
   "id": "cb2aa9f2-9fed-4450-8919-3db89d4891bf",
   "metadata": {},
   "outputs": [
    {
     "name": "stdout",
     "output_type": "stream",
     "text": [
      "90\n",
      "100\n",
      "[90, 72, 81, 77]\n",
      "--------------\n",
      "72\n",
      "82\n",
      "[90, 72, 81, 77]\n",
      "--------------\n",
      "81\n",
      "91\n",
      "[90, 72, 81, 77]\n",
      "--------------\n",
      "77\n",
      "87\n",
      "[90, 72, 81, 77]\n",
      "--------------\n",
      "[90, 72, 81, 77]\n"
     ]
    }
   ],
   "source": [
    "for e in notlar:\n",
    "    print(e)\n",
    "    e = e + 10\n",
    "    print(e)\n",
    "    print(notlar)\n",
    "    print(\"--------------\")\n",
    "\n",
    "print(notlar)"
   ]
  },
  {
   "cell_type": "code",
   "execution_count": 55,
   "id": "8072d68c-19c5-4250-8954-fc3f2cafbbd1",
   "metadata": {},
   "outputs": [],
   "source": [
    "#Güncelleme mantığını range() ile indexlerinde [] iterasyon yaparak yapacağım."
   ]
  },
  {
   "cell_type": "code",
   "execution_count": 5,
   "id": "94051353-2a42-4d70-bd75-c6ca83c16393",
   "metadata": {},
   "outputs": [
    {
     "name": "stdout",
     "output_type": "stream",
     "text": [
      "[95, 77, 86, 82]\n"
     ]
    }
   ],
   "source": [
    "for i in range(len(notlar)):\n",
    "    notlar[i]+=5\n",
    "\n",
    "print(notlar)\n"
   ]
  },
  {
   "cell_type": "code",
   "execution_count": 61,
   "id": "8b7c70a4-0a04-4afa-bb2c-29edebd55e0b",
   "metadata": {},
   "outputs": [],
   "source": [
    "#Hadi biraz da continue mantığının alıştırmasını yapmış olalım. Diyelim ki öğretmen 2. öğrencinin kağıdını doğru okumuş,\n",
    "#2. öğrenci (index 1'deki) hariç hepsinin değerini 5 arttıracak:\n"
   ]
  },
  {
   "cell_type": "code",
   "execution_count": 3,
   "id": "4c778a76-6b54-4489-898b-99c19e3d6237",
   "metadata": {},
   "outputs": [
    {
     "name": "stdout",
     "output_type": "stream",
     "text": [
      "[95, 72, 86, 82]\n"
     ]
    }
   ],
   "source": [
    "notlar = [90,72,81,77]\n",
    "\n",
    "for i in range(len(notlar)):\n",
    "\n",
    "    if i==1: #2. öğrenci 1. index oluyor 0-1   #if'i notlar[i]+=5'dan önce yazmam lazım ki işlesin\n",
    "        continue\n",
    "    \n",
    "    notlar[i]+=5\n",
    "    \n",
    "print(notlar)"
   ]
  },
  {
   "cell_type": "markdown",
   "id": "c5a35189-ddd3-404c-bde5-9db91d8161d7",
   "metadata": {},
   "source": [
    "Şimdi de break egzersizi yapalım.\n",
    "\n",
    "\n",
    "Diyelim ki bir listenin içinde belirli bir eleman var mı diye kontrol etmek istiyoruz. Bulunca aramaya devam etmeyeceğim. Devam etme mantığını break ile sağlayacağım.\n",
    "\n",
    "\n",
    "İlk kullanıcıya hangi sayıyı aradığını soracağız, sonra bu sayı var mı kontrol edeceğiz."
   ]
  },
  {
   "cell_type": "code",
   "execution_count": 27,
   "id": "8a456925-6de0-4026-add4-15647d9c5692",
   "metadata": {},
   "outputs": [
    {
     "name": "stdin",
     "output_type": "stream",
     "text": [
      "Hangi sayı var mı diye kontrol edeyim? 5\n"
     ]
    },
    {
     "name": "stdout",
     "output_type": "stream",
     "text": [
      "0\n",
      "1\n",
      "2\n",
      "3\n",
      "4\n",
      "5\n"
     ]
    }
   ],
   "source": [
    "x= int(input(\"Hangi sayı var mı diye kontrol edeyim?\"))   #benim yaptığım\n",
    "\n",
    "l = [2,3,40,100,10,1]\n",
    "\n",
    "for i in range(len(l)): #range diye yaptığım için index sayısını yazdırıyor listedeki diğer elemanları değül\n",
    "    print(i)\n",
    "    if x in l:\n",
    "        print(\"buldumm!\" , x)\n",
    "        \n",
    "        break\n",
    "        print(x)"
   ]
  },
  {
   "cell_type": "code",
   "execution_count": 53,
   "id": "c18b2231-8694-4e65-9117-c3ff51f306c8",
   "metadata": {},
   "outputs": [
    {
     "name": "stdin",
     "output_type": "stream",
     "text": [
      "Hangi sayı var mı diye kontrol edeyim? 40\n"
     ]
    },
    {
     "name": "stdout",
     "output_type": "stream",
     "text": [
      "2\n",
      "3\n",
      "40\n",
      "buldumm! 40\n"
     ]
    }
   ],
   "source": [
    "x= int(input(\"Hangi sayı var mı diye kontrol edeyim?\"))   #düzeltilmiş\n",
    "\n",
    "l = [2,3,40,100,10,1]\n",
    "\n",
    "for e in l:\n",
    "    print(e)\n",
    "    if e==x:\n",
    "        print(\"buldumm!\" , x)\n",
    "        \n",
    "        break\n",
    "        print(x)"
   ]
  },
  {
   "cell_type": "code",
   "execution_count": 21,
   "id": "a53b1caf-a2d2-49e1-882a-3ea5e3995f7f",
   "metadata": {},
   "outputs": [
    {
     "name": "stdin",
     "output_type": "stream",
     "text": [
      "Hangi sayıyı kontrol edeyim?: 10\n"
     ]
    },
    {
     "name": "stdout",
     "output_type": "stream",
     "text": [
      "2\n",
      "3\n",
      "40\n",
      "100\n",
      "10\n",
      "Buldum!!\n"
     ]
    }
   ],
   "source": [
    "x = int(input(\"Hangi sayıyı kontrol edeyim?:\"))  #dersteki\n",
    "\n",
    "l = [2,3,40,100,10,1]\n",
    "\n",
    "for e in l:\n",
    "    print(e) # iterasyon break ile çıkmış mı görelim mi diye\n",
    "    if e == x:\n",
    "        print(\"Buldum!!\")\n",
    "        break"
   ]
  },
  {
   "cell_type": "markdown",
   "id": "24e1b9a8-0d0d-46ec-9665-e7ebceec1cd9",
   "metadata": {},
   "source": [
    "### Tuple'lerda İterasyon"
   ]
  },
  {
   "cell_type": "code",
   "execution_count": 57,
   "id": "29598e0c-b92e-4d61-b738-6bf7c393278c",
   "metadata": {},
   "outputs": [],
   "source": [
    "#Listelerde iterasyondan hiç bir farkı yok. Evet kısa bir açıklama oldu ama durum bu :) \n",
    "#Değerlerini güncelleyemiyoruz ama bu zaten döngüden bağımsız bir durum oluyor."
   ]
  },
  {
   "cell_type": "code",
   "execution_count": 59,
   "id": "09438847-08eb-47c9-879b-6b8003761180",
   "metadata": {},
   "outputs": [
    {
     "name": "stdout",
     "output_type": "stream",
     "text": [
      "1\n",
      "2\n",
      "3\n",
      "4\n"
     ]
    }
   ],
   "source": [
    "t = (1,2,3,4)\n",
    "\n",
    "\n",
    "for e in t:\n",
    "    print(e)"
   ]
  },
  {
   "cell_type": "code",
   "execution_count": 61,
   "id": "1a788da0-87b6-4ade-88a1-3b2b71f1eda5",
   "metadata": {},
   "outputs": [
    {
     "name": "stdout",
     "output_type": "stream",
     "text": [
      "10\n"
     ]
    }
   ],
   "source": [
    "toplam = 0\n",
    "\n",
    "for e in t:\n",
    "    toplam += e\n",
    "    \n",
    "print(toplam)"
   ]
  },
  {
   "cell_type": "code",
   "execution_count": 73,
   "id": "4e7d6b76-3f36-4dfd-927d-78e6536be53e",
   "metadata": {},
   "outputs": [
    {
     "name": "stdout",
     "output_type": "stream",
     "text": [
      "1\n",
      "2\n",
      "3\n",
      "4\n"
     ]
    }
   ],
   "source": [
    "for i in range(len(t)):\n",
    "    \n",
    "    print(t[i])"
   ]
  },
  {
   "cell_type": "code",
   "execution_count": 71,
   "id": "4b872e56-b34d-4e0d-954a-08d92f74d8bc",
   "metadata": {},
   "outputs": [
    {
     "data": {
      "text/plain": [
       "range(0, 4)"
      ]
     },
     "execution_count": 71,
     "metadata": {},
     "output_type": "execute_result"
    }
   ],
   "source": [
    "range(len(t))"
   ]
  },
  {
   "cell_type": "code",
   "execution_count": 77,
   "id": "570914b6-a3a3-4d26-a5d4-9888f2272af9",
   "metadata": {},
   "outputs": [
    {
     "ename": "TypeError",
     "evalue": "'tuple' object does not support item assignment",
     "output_type": "error",
     "traceback": [
      "\u001b[1;31m---------------------------------------------------------------------------\u001b[0m",
      "\u001b[1;31mTypeError\u001b[0m                                 Traceback (most recent call last)",
      "Cell \u001b[1;32mIn[77], line 2\u001b[0m\n\u001b[0;32m      1\u001b[0m \u001b[38;5;28;01mfor\u001b[39;00m i \u001b[38;5;129;01min\u001b[39;00m \u001b[38;5;28mrange\u001b[39m(\u001b[38;5;28mlen\u001b[39m(t)):   \u001b[38;5;66;03m#her key'i +2 yapma k,    listelerde oluyordu ama burda olmadı\u001b[39;00m\n\u001b[1;32m----> 2\u001b[0m     t[i] \u001b[38;5;241m+\u001b[39m\u001b[38;5;241m=\u001b[39m \u001b[38;5;241m2\u001b[39m\n",
      "\u001b[1;31mTypeError\u001b[0m: 'tuple' object does not support item assignment"
     ]
    }
   ],
   "source": [
    "for i in range(len(t)):   #her key'i +2 yapma k,    listelerde oluyordu ama burda olmadı\n",
    "    t[i] += 2"
   ]
  },
  {
   "cell_type": "code",
   "execution_count": 79,
   "id": "cf8d7bb8-d7c0-47f6-b053-f40fc2458c9a",
   "metadata": {},
   "outputs": [
    {
     "data": {
      "text/plain": [
       "tuple"
      ]
     },
     "execution_count": 79,
     "metadata": {},
     "output_type": "execute_result"
    }
   ],
   "source": [
    "type(t)"
   ]
  },
  {
   "cell_type": "code",
   "execution_count": 105,
   "id": "527b10f9-6af9-472b-8cb5-a3a27deb1523",
   "metadata": {},
   "outputs": [],
   "source": [
    "l=list(t)"
   ]
  },
  {
   "cell_type": "code",
   "execution_count": 107,
   "id": "22a7a3f5-5391-4c91-b851-011fd85d07d4",
   "metadata": {},
   "outputs": [
    {
     "data": {
      "text/plain": [
       "[1, 2, 3, 4]"
      ]
     },
     "execution_count": 107,
     "metadata": {},
     "output_type": "execute_result"
    }
   ],
   "source": [
    "l"
   ]
  },
  {
   "cell_type": "code",
   "execution_count": 111,
   "id": "7dfc7655-ab16-4803-908e-7aee072c0777",
   "metadata": {},
   "outputs": [
    {
     "name": "stdout",
     "output_type": "stream",
     "text": [
      "[5, 6, 7, 8]\n"
     ]
    }
   ],
   "source": [
    "for i in range(len(l)): \n",
    "    l[i] += 2\n",
    "print(l)\n",
    "\n"
   ]
  },
  {
   "cell_type": "markdown",
   "id": "ab30264e-081f-4a07-b550-fd3987b51a08",
   "metadata": {},
   "source": [
    "### Dictionary'lerde İterasyon"
   ]
  },
  {
   "cell_type": "markdown",
   "id": "2144bb8c-8103-4f0b-9f07-5d0394b3e3ab",
   "metadata": {},
   "source": [
    "#Default olarak elemanlarında dolaş diyince key 'lerde iterasyon yapıyor. Zaten index mantığı olmadığı için range() ile yapmak çoğu zaman karşımıza çıkmaz."
   ]
  },
  {
   "cell_type": "code",
   "execution_count": 125,
   "id": "229195fa-ec67-46d9-b55d-b330424ba0a6",
   "metadata": {},
   "outputs": [
    {
     "name": "stdout",
     "output_type": "stream",
     "text": [
      "student_1\n",
      "student_2\n",
      "student_3\n"
     ]
    }
   ],
   "source": [
    "d = {\"student_1\": [90,89], \"student_2\": [80,83], \"student_3\": [72,71]}\n",
    "\n",
    "\n",
    "for k in d:\n",
    "    print(k)"
   ]
  },
  {
   "cell_type": "code",
   "execution_count": 131,
   "id": "141fb427-ae34-449b-9dec-838c2ba741bc",
   "metadata": {},
   "outputs": [
    {
     "name": "stdout",
     "output_type": "stream",
     "text": [
      "[90, 89]\n",
      "[80, 83]\n",
      "[72, 71]\n"
     ]
    }
   ],
   "source": [
    "#Değerlerine ulaşmak istiyorsam şöyle yapabilirdim:\n",
    "\n",
    "for k in d:\n",
    "    v=d[k]\n",
    "    print(v)"
   ]
  },
  {
   "cell_type": "code",
   "execution_count": 135,
   "id": "09453177-1904-4c3d-8ea8-d18c7f0ce774",
   "metadata": {},
   "outputs": [
    {
     "name": "stdout",
     "output_type": "stream",
     "text": [
      "[90, 89]\n",
      "[80, 83]\n",
      "[72, 71]\n"
     ]
    }
   ],
   "source": [
    "#Ya da böyle\n",
    "\n",
    "for v in d.values():\n",
    "    print(v)"
   ]
  },
  {
   "cell_type": "code",
   "execution_count": 137,
   "id": "72a9a159-4d00-452d-a299-8dd75aba456d",
   "metadata": {},
   "outputs": [],
   "source": [
    "e = {\"student_1\": 90, \"student_2\": 80, \"student_3\": 72}"
   ]
  },
  {
   "cell_type": "code",
   "execution_count": 141,
   "id": "448c9f64-d785-4a09-8a74-83c46f5ca028",
   "metadata": {},
   "outputs": [
    {
     "name": "stdout",
     "output_type": "stream",
     "text": [
      "90\n",
      "80\n",
      "72\n"
     ]
    }
   ],
   "source": [
    "for a in e.values():\n",
    "    print(a)"
   ]
  },
  {
   "cell_type": "code",
   "execution_count": 151,
   "id": "390e1c4a-a12c-451d-9e79-6d4d22baab71",
   "metadata": {},
   "outputs": [
    {
     "name": "stdout",
     "output_type": "stream",
     "text": [
      "student_1\n"
     ]
    }
   ],
   "source": [
    "#85ten yüksek alanı bulmak için\n",
    "\n",
    "for k in e:\n",
    "    v=e[k]\n",
    "    if v>85:\n",
    "        print(k)"
   ]
  },
  {
   "cell_type": "code",
   "execution_count": 155,
   "id": "430f2fc4-44a4-46a1-945b-2af560d2a1aa",
   "metadata": {},
   "outputs": [],
   "source": [
    "#Aynı anda hem key hem de value'larda iterasyon yapmak için:\n"
   ]
  },
  {
   "cell_type": "code",
   "execution_count": 165,
   "id": "4503b4f3-2009-4ff8-99b5-1a0ed607f393",
   "metadata": {},
   "outputs": [
    {
     "name": "stdout",
     "output_type": "stream",
     "text": [
      "key değeri: student_2 value değeri: [80, 83]\n"
     ]
    }
   ],
   "source": [
    "for k,v in d.items():\n",
    "    if k==\"student_2\":\n",
    "        print(\"key değeri:\", k, \"value değeri:\", v)"
   ]
  },
  {
   "cell_type": "code",
   "execution_count": 173,
   "id": "cd850422-18a9-4ea9-8db2-e5ac5692f4e6",
   "metadata": {},
   "outputs": [
    {
     "data": {
      "text/plain": [
       "dict_items([('student_1', [90, 89]), ('student_2', [80, 83]), ('student_3', [72, 71])])"
      ]
     },
     "execution_count": 173,
     "metadata": {},
     "output_type": "execute_result"
    }
   ],
   "source": [
    "d.items()  #dict'teki hem key'i hem value'yu veriyor"
   ]
  },
  {
   "cell_type": "code",
   "execution_count": 171,
   "id": "684c7526-4cdd-4630-b794-dd0fd5c764ce",
   "metadata": {},
   "outputs": [
    {
     "data": {
      "text/plain": [
       "dict_items([('student_1', 90), ('student_2', 80), ('student_3', 72)])"
      ]
     },
     "execution_count": 171,
     "metadata": {},
     "output_type": "execute_result"
    }
   ],
   "source": [
    "e.items()"
   ]
  },
  {
   "cell_type": "code",
   "execution_count": 175,
   "id": "bb15ad85-ff9b-48fa-8cd3-6264a18486cf",
   "metadata": {},
   "outputs": [
    {
     "data": {
      "text/plain": [
       "dict_values([[90, 89], [80, 83], [72, 71]])"
      ]
     },
     "execution_count": 175,
     "metadata": {},
     "output_type": "execute_result"
    }
   ],
   "source": [
    "d.values()"
   ]
  },
  {
   "cell_type": "code",
   "execution_count": 177,
   "id": "2f8076a8-622b-43f8-8705-517a46f485a4",
   "metadata": {},
   "outputs": [
    {
     "data": {
      "text/plain": [
       "dict_keys(['student_1', 'student_2', 'student_3'])"
      ]
     },
     "execution_count": 177,
     "metadata": {},
     "output_type": "execute_result"
    }
   ],
   "source": [
    "d.keys()"
   ]
  },
  {
   "cell_type": "code",
   "execution_count": 183,
   "id": "7a2a1a15-57e9-4361-a346-76e9efab7b8c",
   "metadata": {},
   "outputs": [
    {
     "name": "stdout",
     "output_type": "stream",
     "text": [
      "student_1\n",
      "student_2\n",
      "student_3\n"
     ]
    }
   ],
   "source": [
    "for v in d:  #Default olarak elemanlarında dolaş diyince key 'lerde iterasyon yapıyor for v ya da k yazmak fark etmeksizin\n",
    "    print(v)"
   ]
  },
  {
   "cell_type": "code",
   "execution_count": 187,
   "id": "aecb3674-c8fc-47fe-9b28-cda87dddd0fe",
   "metadata": {},
   "outputs": [
    {
     "name": "stdout",
     "output_type": "stream",
     "text": [
      "2\n"
     ]
    }
   ],
   "source": [
    "for i in range(2,5,3):\n",
    "\n",
    "    print(i)"
   ]
  },
  {
   "cell_type": "markdown",
   "id": "bdca2308-b3c9-4aaf-80a0-56a8df39fec3",
   "metadata": {},
   "source": [
    "### Split-Join\n"
   ]
  },
  {
   "cell_type": "code",
   "execution_count": 196,
   "id": "27a9ee23-60bc-4543-99aa-047088c98dad",
   "metadata": {},
   "outputs": [
    {
     "data": {
      "text/plain": [
       "['merhaba', 'nasılsın', '?']"
      ]
     },
     "execution_count": 196,
     "metadata": {},
     "output_type": "execute_result"
    }
   ],
   "source": [
    "s = \"merhaba nasılsın ?\"\n",
    "\n",
    "s.split() #araya hiçbişi yazmazsan direkt boşluğa göre splitliyor"
   ]
  },
  {
   "cell_type": "code",
   "execution_count": 208,
   "id": "b9892bb3-d101-486f-9f81-60e1fda8722e",
   "metadata": {},
   "outputs": [
    {
     "data": {
      "text/plain": [
       "['merhaba', 'nasılsın?']"
      ]
     },
     "execution_count": 208,
     "metadata": {},
     "output_type": "execute_result"
    }
   ],
   "source": [
    "m = \"merhaba nasılsın?\"\n",
    "\n",
    "s.split(\" \") "
   ]
  },
  {
   "cell_type": "code",
   "execution_count": 220,
   "id": "7bf61521-6b12-40f5-9059-e6d8e42373b6",
   "metadata": {},
   "outputs": [
    {
     "data": {
      "text/plain": [
       "['limon', 'portakal', 'elma']"
      ]
     },
     "execution_count": 220,
     "metadata": {},
     "output_type": "execute_result"
    }
   ],
   "source": [
    "s2 = \"limon-portakal-elma\"  #one göre bölmek istediğim item içinde yoksa bölemez\n",
    "\n",
    "s2.split(\"-\")"
   ]
  },
  {
   "cell_type": "code",
   "execution_count": 224,
   "id": "304744a5-a5b8-4073-9372-ff4b808b36c7",
   "metadata": {},
   "outputs": [],
   "source": [
    "#join()\n",
    "\n",
    "\n",
    "#listenin elemanları arasına belirtilen yapıyı koyup string'e dönüştürür."
   ]
  },
  {
   "cell_type": "code",
   "execution_count": 226,
   "id": "879bb2fc-e585-4717-a6df-037d4d25730a",
   "metadata": {},
   "outputs": [],
   "source": [
    "l = ['limon', 'portakal', 'elma']"
   ]
  },
  {
   "cell_type": "code",
   "execution_count": 228,
   "id": "8277dd1d-81a4-4cd0-aca3-da3cebe597a6",
   "metadata": {},
   "outputs": [
    {
     "data": {
      "text/plain": [
       "'limon portakal elma'"
      ]
     },
     "execution_count": 228,
     "metadata": {},
     "output_type": "execute_result"
    }
   ],
   "source": [
    "\" \".join(l)"
   ]
  },
  {
   "cell_type": "code",
   "execution_count": 230,
   "id": "4ca06eb0-0702-46b9-a9af-8f5b57bfd6cd",
   "metadata": {},
   "outputs": [
    {
     "data": {
      "text/plain": [
       "'limon-portakal-elma'"
      ]
     },
     "execution_count": 230,
     "metadata": {},
     "output_type": "execute_result"
    }
   ],
   "source": [
    "\"-\".join(l)"
   ]
  },
  {
   "cell_type": "code",
   "execution_count": 232,
   "id": "26971b47-3a09-4b95-a93e-02e1e7c2ea5e",
   "metadata": {},
   "outputs": [
    {
     "data": {
      "text/plain": [
       "'limon, portakal, elma'"
      ]
     },
     "execution_count": 232,
     "metadata": {},
     "output_type": "execute_result"
    }
   ],
   "source": [
    "\", \".join(l)"
   ]
  },
  {
   "cell_type": "code",
   "execution_count": 253,
   "id": "4803f74a-a50c-463f-a746-a95feacd2f65",
   "metadata": {},
   "outputs": [
    {
     "name": "stdout",
     "output_type": "stream",
     "text": [
      "['ad1.soyad1@gmail.com', 'ad2.soyad2@gmail.com', 'ad3.soyad3@gmail.com']\n"
     ]
    }
   ],
   "source": [
    "mailler={\"kisi1\":\"ad1.soyad1@gmail.com\",\"kisi2\":\"ad2.soyad2@gmail.com\",\"kisi3\":\"ad3.soyad3@gmail.com\"} \n",
    "l=[]\n",
    "for v in mailler.values():\n",
    "        l.append(v)\n",
    "print(l)"
   ]
  },
  {
   "cell_type": "code",
   "execution_count": 255,
   "id": "b57e5c7e-f729-4bfb-9945-f87db8930db2",
   "metadata": {},
   "outputs": [
    {
     "data": {
      "text/plain": [
       "'ad1.soyad1@gmail.com,ad2.soyad2@gmail.com,ad3.soyad3@gmail.com'"
      ]
     },
     "execution_count": 255,
     "metadata": {},
     "output_type": "execute_result"
    }
   ],
   "source": [
    "\",\".join(l)"
   ]
  },
  {
   "cell_type": "markdown",
   "id": "9e333af2-1235-4680-9dcb-23bc7a899c3b",
   "metadata": {},
   "source": [
    "### List Comprehension\n"
   ]
  },
  {
   "cell_type": "code",
   "execution_count": 262,
   "id": "783abfb7-81fa-4368-8508-bd9a2ada3412",
   "metadata": {},
   "outputs": [
    {
     "name": "stdout",
     "output_type": "stream",
     "text": [
      "[1, 4, 9, 16, 25, 36, 49, 64, 81, 100]\n"
     ]
    }
   ],
   "source": [
    "#normalde: \n",
    "\n",
    "squares = []\n",
    "\n",
    "for i in range(1,11):\n",
    "    squares.append(i*i)\n",
    "print(squares)"
   ]
  },
  {
   "cell_type": "code",
   "execution_count": 274,
   "id": "51417032-e9d6-4275-a18f-113a4b34e72d",
   "metadata": {},
   "outputs": [
    {
     "name": "stdout",
     "output_type": "stream",
     "text": [
      "[1, 4, 9, 16, 25, 36, 49, 64, 81, 100]\n"
     ]
    }
   ],
   "source": [
    "#list comprehension'La\n",
    "\n",
    "squares = [i*i for i in range (1,11)]  #aynı şeyi appendsiz düz yazıyorum gibi ama [] içinde olmalı\n",
    "print(squares)"
   ]
  },
  {
   "cell_type": "code",
   "execution_count": 276,
   "id": "d8c0f1e0-ee4d-468b-b695-6a2643941681",
   "metadata": {},
   "outputs": [
    {
     "data": {
      "text/plain": [
       "[1, 8, 27, 64, 125, 216, 343, 512, 729, 1000]"
      ]
     },
     "execution_count": 276,
     "metadata": {},
     "output_type": "execute_result"
    }
   ],
   "source": [
    "# list comprehension ve fonksiyon mantığını birleştirme\n",
    "\n",
    "def cube(x): #bu fonksiyon oluşturma daha öğrenmedik ama\n",
    "    return x * x * x # x ** 3\n",
    "\n",
    "\n",
    "cubes = [cube(x) for x in range(1,11)]\n",
    "\n",
    "\n",
    "cubes"
   ]
  },
  {
   "cell_type": "code",
   "execution_count": 282,
   "id": "11b5ed8c-aba5-4548-b660-2a1344547696",
   "metadata": {},
   "outputs": [
    {
     "data": {
      "text/plain": [
       "[1, 8, 27, 64, 125, 216, 343, 512, 729, 1000]"
      ]
     },
     "execution_count": 282,
     "metadata": {},
     "output_type": "execute_result"
    }
   ],
   "source": [
    "cubes = [x*x*x for x in range (1,11)]\n",
    "\n",
    "cubes"
   ]
  },
  {
   "cell_type": "code",
   "execution_count": 286,
   "id": "663c11e0-fea2-4a0b-a4fe-927994f446f9",
   "metadata": {},
   "outputs": [],
   "source": [
    "def karesi(y):\n",
    "    return y*y"
   ]
  },
  {
   "cell_type": "code",
   "execution_count": 290,
   "id": "c344a5ae-cd1f-44e9-925b-f2bbbda2e412",
   "metadata": {},
   "outputs": [
    {
     "data": {
      "text/plain": [
       "[1, 4, 9, 16, 25, 36, 49, 64, 81, 100]"
      ]
     },
     "execution_count": 290,
     "metadata": {},
     "output_type": "execute_result"
    }
   ],
   "source": [
    "square = [karesi(y) for y in range (1,11)]\n",
    "\n",
    "square"
   ]
  },
  {
   "cell_type": "code",
   "execution_count": 292,
   "id": "3d457362-34f6-49ad-ad4a-9a91b6efc01b",
   "metadata": {},
   "outputs": [],
   "source": [
    "###List Comprehension'larda Conditional Yapıların Kullanılması"
   ]
  },
  {
   "cell_type": "code",
   "execution_count": 294,
   "id": "e8703030-0932-466c-b870-0bdb89f0e3e2",
   "metadata": {},
   "outputs": [
    {
     "name": "stdout",
     "output_type": "stream",
     "text": [
      "[1, 4, 9, 16, 25, 36, 49, 64, 81, 100]\n"
     ]
    }
   ],
   "source": [
    "squares = [1, 4, 9, 16, 25, 36, 49, 64, 81, 100]\n",
    "\n",
    "print(squares)"
   ]
  },
  {
   "cell_type": "code",
   "execution_count": 300,
   "id": "47d28ea4-0137-4b93-8673-d0ce5f8a3f67",
   "metadata": {},
   "outputs": [
    {
     "data": {
      "text/plain": [
       "[1, 9, 25, 49, 81]"
      ]
     },
     "execution_count": 300,
     "metadata": {},
     "output_type": "execute_result"
    }
   ],
   "source": [
    "odd_squares = [] #tek sayı kareler\n",
    "\n",
    "for e in squares:\n",
    "    \n",
    "    if e % 2 == 1:\n",
    "        odd_squares.append(e)\n",
    "\n",
    "odd_squares"
   ]
  },
  {
   "cell_type": "code",
   "execution_count": 310,
   "id": "bd8927cd-6552-409c-97af-1591b8bbe639",
   "metadata": {},
   "outputs": [
    {
     "data": {
      "text/plain": [
       "[1, 9, 25, 49, 81]"
      ]
     },
     "execution_count": 310,
     "metadata": {},
     "output_type": "execute_result"
    }
   ],
   "source": [
    "odd_squares= [e for e in squares if e%2==1]  #for'dan önce istenen değişkeni yazmam lazım bi for'la başlama\n",
    "\n",
    "odd_squares"
   ]
  },
  {
   "cell_type": "code",
   "execution_count": 324,
   "id": "f55b1f28-2500-4553-ade3-26c49421144c",
   "metadata": {},
   "outputs": [],
   "source": [
    "def tek_sayi(t):\n",
    "    if t % 2 ==1:\n",
    "        return True\n",
    "    if t % 2 ==0:\n",
    "        return False"
   ]
  },
  {
   "cell_type": "code",
   "execution_count": 350,
   "id": "199d04c9-5696-4a4d-a274-df14a2f54196",
   "metadata": {},
   "outputs": [
    {
     "data": {
      "text/plain": [
       "False"
      ]
     },
     "execution_count": 350,
     "metadata": {},
     "output_type": "execute_result"
    }
   ],
   "source": [
    "def tek_sayi1(t):\n",
    "    if t % 2 ==1:\n",
    "        return True\n",
    "    else:\n",
    "        return False\n",
    "\n",
    "tek_sayi1(6)"
   ]
  },
  {
   "cell_type": "code",
   "execution_count": 356,
   "id": "41173b0a-7dc5-4fb0-a765-e880bec372d8",
   "metadata": {},
   "outputs": [
    {
     "data": {
      "text/plain": [
       "True"
      ]
     },
     "execution_count": 356,
     "metadata": {},
     "output_type": "execute_result"
    }
   ],
   "source": [
    "def tek_sayi2(t):\n",
    "    if t % 2 ==1:\n",
    "        return True\n",
    "    \n",
    "    return False  #fonksiyonlarda ilk return True olduktan sonra alta zaten bakmıyo ondan diğer senaryolar için False yazdır şeklinde sadece return\n",
    "    #False da yazılabilir\n",
    "\n",
    "tek_sayi2(5)"
   ]
  },
  {
   "cell_type": "code",
   "execution_count": 334,
   "id": "e90c906c-cb21-495c-8e57-7917c9cfc122",
   "metadata": {},
   "outputs": [
    {
     "data": {
      "text/plain": [
       "100"
      ]
     },
     "execution_count": 334,
     "metadata": {},
     "output_type": "execute_result"
    }
   ],
   "source": [
    "karesi(10)"
   ]
  },
  {
   "cell_type": "code",
   "execution_count": 336,
   "id": "7337bd74-486e-41db-a062-6ed56f57602c",
   "metadata": {},
   "outputs": [
    {
     "data": {
      "text/plain": [
       "True"
      ]
     },
     "execution_count": 336,
     "metadata": {},
     "output_type": "execute_result"
    }
   ],
   "source": [
    "tek_sayi(5)"
   ]
  },
  {
   "cell_type": "code",
   "execution_count": 338,
   "id": "2c7bda8f-61eb-4e9b-98b7-e39a0b0cc1fa",
   "metadata": {},
   "outputs": [
    {
     "data": {
      "text/plain": [
       "function"
      ]
     },
     "execution_count": 338,
     "metadata": {},
     "output_type": "execute_result"
    }
   ],
   "source": [
    "type(tek_sayi)"
   ]
  },
  {
   "cell_type": "code",
   "execution_count": 344,
   "id": "c1fbacbe-a1b2-4091-80e1-cd0885228666",
   "metadata": {},
   "outputs": [
    {
     "data": {
      "text/plain": [
       "[1, 9, 25, 49, 81]"
      ]
     },
     "execution_count": 344,
     "metadata": {},
     "output_type": "execute_result"
    }
   ],
   "source": [
    "odd_squares= [t for t in squares if tek_sayi(t)]\n",
    "\n",
    "odd_squares"
   ]
  },
  {
   "cell_type": "code",
   "execution_count": 358,
   "id": "a7dd849f-046a-4bf8-a16e-c20de5e34de6",
   "metadata": {},
   "outputs": [],
   "source": [
    "def empty(x): \n",
    "    \n",
    "    if x % 2 == 0:\n",
    "        return False\n",
    "    \n",
    "    if x % 2 == 1:\n",
    "        return False"
   ]
  },
  {
   "cell_type": "code",
   "execution_count": 360,
   "id": "23b70ee4-e6d4-49f2-8131-d68d188efa94",
   "metadata": {},
   "outputs": [
    {
     "data": {
      "text/plain": [
       "[]"
      ]
     },
     "execution_count": 360,
     "metadata": {},
     "output_type": "execute_result"
    }
   ],
   "source": [
    "empty_squares = [e for e in squares if empty(e)]\n",
    "\n",
    "\n",
    "empty_squares"
   ]
  },
  {
   "cell_type": "code",
   "execution_count": 376,
   "id": "758aede1-fe9e-4dd7-924a-287cedd5040c",
   "metadata": {},
   "outputs": [
    {
     "data": {
      "text/plain": [
       "False"
      ]
     },
     "execution_count": 376,
     "metadata": {},
     "output_type": "execute_result"
    }
   ],
   "source": [
    "def is_even(x):\n",
    "\n",
    "    if x%2==0:\n",
    "        return True\n",
    "\n",
    "    return False\n",
    "\n",
    "is_even(5)"
   ]
  },
  {
   "cell_type": "code",
   "execution_count": 380,
   "id": "24b7d4fd-b30a-4861-ab03-a022ab01b4b7",
   "metadata": {},
   "outputs": [
    {
     "data": {
      "text/plain": [
       "[4, 16, 36, 64, 100]"
      ]
     },
     "execution_count": 380,
     "metadata": {},
     "output_type": "execute_result"
    }
   ],
   "source": [
    "even= [x for x in squares if is_even(x)]\n",
    "\n",
    "even"
   ]
  },
  {
   "cell_type": "code",
   "execution_count": 388,
   "id": "b58f111b-d51c-4a2c-9a6d-b2b3b61f3fb8",
   "metadata": {},
   "outputs": [
    {
     "data": {
      "text/plain": [
       "[-1, 4, -1, 16, -1, 36, -1, 64, -1, 100]"
      ]
     },
     "execution_count": 388,
     "metadata": {},
     "output_type": "execute_result"
    }
   ],
   "source": [
    "weird_squares= [e if e % 2 == 0 else -1 for e in squares]  #hem if hem else olunca \"e for..\"dan önce if ve else geldi\n",
    "\n",
    "weird_squares"
   ]
  },
  {
   "cell_type": "code",
   "execution_count": 394,
   "id": "d4c6b962-71cd-4a5b-be4d-c87fb6f67d6a",
   "metadata": {},
   "outputs": [
    {
     "data": {
      "text/plain": [
       "[4, 16, 36, 64, 100]"
      ]
     },
     "execution_count": 394,
     "metadata": {},
     "output_type": "execute_result"
    }
   ],
   "source": [
    "ultra_weird_squares = [e if e % 2 == 0 else -1 for e in squares if is_even(e)] #önce en sondaki if'e yani for e..'ye bağlı olan if'e bakıyor o da çift\n",
    "#olduğu için else -1 i okumuyor bile direkt sadece even kareleri basıyor\n",
    "\n",
    "ultra_weird_squares"
   ]
  },
  {
   "cell_type": "markdown",
   "id": "6c9ee9f5-9160-4359-9e94-6ed4182615ca",
   "metadata": {},
   "source": [
    "### Set Comprehension"
   ]
  },
  {
   "cell_type": "code",
   "execution_count": 398,
   "id": "1e1d1996-bf84-448f-a7c9-f61536811eb5",
   "metadata": {},
   "outputs": [],
   "source": [
    "numbers = [1,2,3,4,5,6,7,1,2]"
   ]
  },
  {
   "cell_type": "code",
   "execution_count": 400,
   "id": "e72866fa-a638-4388-94b6-5660406e6c4b",
   "metadata": {},
   "outputs": [],
   "source": [
    "set_numbers = {s for s in numbers if s in [1,2,3,4,5,6,1,2]} #sondaki listeye göre numbers listesinin setini oluştur"
   ]
  },
  {
   "cell_type": "code",
   "execution_count": 402,
   "id": "c51f2cf9-5ad9-4dec-a2db-b7acccf56086",
   "metadata": {},
   "outputs": [
    {
     "data": {
      "text/plain": [
       "{1, 2, 3, 4, 5, 6}"
      ]
     },
     "execution_count": 402,
     "metadata": {},
     "output_type": "execute_result"
    }
   ],
   "source": [
    "set_numbers "
   ]
  },
  {
   "cell_type": "markdown",
   "id": "23e8a874-c21d-46c7-a22b-1a73ad290cb8",
   "metadata": {},
   "source": [
    "### Dictionary Comprehension"
   ]
  },
  {
   "cell_type": "code",
   "execution_count": 406,
   "id": "3942c49c-8acb-4898-a855-f3532fba8b1b",
   "metadata": {},
   "outputs": [
    {
     "data": {
      "text/plain": [
       "{1: 1, 2: 4, 3: 9, 4: 16, 5: 25, 6: 36, 7: 49, 8: 64, 9: 81, 10: 100}"
      ]
     },
     "execution_count": 406,
     "metadata": {},
     "output_type": "execute_result"
    }
   ],
   "source": [
    "square_dict = {e: e * e for e in range(1,11)} #e key'inin karşılığı 1,11 range'indeki sayıların sırayla karesi\n",
    "\n",
    "\n",
    "square_dict"
   ]
  },
  {
   "cell_type": "code",
   "execution_count": 408,
   "id": "bd8c15be-aded-4b76-bc2c-a5af4e7e99ff",
   "metadata": {},
   "outputs": [
    {
     "data": {
      "text/plain": [
       "81"
      ]
     },
     "execution_count": 408,
     "metadata": {},
     "output_type": "execute_result"
    }
   ],
   "source": [
    "square_dict[9] #9. index değil, 9 value'sunun değeri"
   ]
  },
  {
   "cell_type": "markdown",
   "id": "a8c15945-9532-41d7-b475-ff9d78d79773",
   "metadata": {},
   "source": [
    "### Nested List Comprehension\n"
   ]
  },
  {
   "cell_type": "code",
   "execution_count": 436,
   "id": "f374253c-99e7-4427-9576-3894c9d42010",
   "metadata": {},
   "outputs": [
    {
     "data": {
      "text/plain": [
       "[[0, 1, 2, 3, 4, 5, 6],\n",
       " [0, 1, 2, 3, 4, 5, 6],\n",
       " [0, 1, 2, 3, 4, 5, 6],\n",
       " [0, 1, 2, 3, 4, 5, 6],\n",
       " [0, 1, 2, 3, 4, 5, 6]]"
      ]
     },
     "execution_count": 436,
     "metadata": {},
     "output_type": "execute_result"
    }
   ],
   "source": [
    "m = [[j for j in range(7)] for _ in range(5)] #listenin içine 5 kere (0,7) range'inden oluşan listeleri yazdır, matrix)\n",
    "\n",
    "\n",
    "m"
   ]
  },
  {
   "cell_type": "code",
   "execution_count": 428,
   "id": "8bb6150e-0e20-4006-acf1-50580a962edb",
   "metadata": {},
   "outputs": [
    {
     "name": "stdout",
     "output_type": "stream",
     "text": [
      "[10, 11, 12]\n",
      "[13, 14]\n",
      "[15, 16, 17, 18]\n"
     ]
    }
   ],
   "source": [
    "m = [[10, 11, 12], [13, 14], [15, 16, 17, 18]] \n",
    "\n",
    "\n",
    "for l in m:   #for a in dediğimizde a içindeki liste olan elemanları yazdırıyor\n",
    "    print(l)"
   ]
  },
  {
   "cell_type": "markdown",
   "id": "188e5ed7-42f6-423a-830f-b9868fdd67c8",
   "metadata": {},
   "source": [
    "#bu elemanları listelerin içerinden çıkarıp düz liste yapmak istiyorsak\n",
    "### FLATTEN"
   ]
  },
  {
   "cell_type": "code",
   "execution_count": 430,
   "id": "8dc7e47a-af3c-438b-8851-01a58543ae9d",
   "metadata": {},
   "outputs": [
    {
     "name": "stdout",
     "output_type": "stream",
     "text": [
      "[10, 11, 12]\n",
      "10\n",
      "11\n",
      "12\n",
      "[13, 14]\n",
      "13\n",
      "14\n",
      "[15, 16, 17, 18]\n",
      "15\n",
      "16\n",
      "17\n",
      "18\n"
     ]
    }
   ],
   "source": [
    "new_m = []\n",
    "for l in m:\n",
    "    print(l)\n",
    "    for e in l: #bu da liste olan elemanların içindeki elemanları basıyor\n",
    "        new_m.append(e)\n",
    "        print(e)"
   ]
  },
  {
   "cell_type": "code",
   "execution_count": 432,
   "id": "7463bd61-fb82-4f7d-878e-f85ddf7048c6",
   "metadata": {},
   "outputs": [
    {
     "data": {
      "text/plain": [
       "[10, 11, 12, 13, 14, 15, 16, 17, 18]"
      ]
     },
     "execution_count": 432,
     "metadata": {},
     "output_type": "execute_result"
    }
   ],
   "source": [
    "new_m"
   ]
  },
  {
   "cell_type": "code",
   "execution_count": 434,
   "id": "040d16a2-b2b4-496a-8c70-53dc8f05c1e6",
   "metadata": {},
   "outputs": [],
   "source": [
    "#daha kolay yapımı:"
   ]
  },
  {
   "cell_type": "code",
   "execution_count": 442,
   "id": "f5e61f5d-28e2-4c83-a0e2-0a774a364e9f",
   "metadata": {},
   "outputs": [
    {
     "data": {
      "text/plain": [
       "[10, 11, 12, 13, 14, 15, 16, 17, 18]"
      ]
     },
     "execution_count": 442,
     "metadata": {},
     "output_type": "execute_result"
    }
   ],
   "source": [
    "m = [[10, 11, 12], [13, 14], [15, 16, 17, 18]]\n",
    "\n",
    "# matrixi list comprehension ile flat etmek\n",
    "\n",
    "flatten_m = [e for l in m for e in l]\n",
    "\n",
    "flatten_m"
   ]
  },
  {
   "cell_type": "code",
   "execution_count": 446,
   "id": "5fec4f96-38d7-4254-9ec3-06fdb54073cd",
   "metadata": {},
   "outputs": [],
   "source": [
    "z = [[1, 2, 3], [4, 5], [6, 7, 8, 9]]"
   ]
  },
  {
   "cell_type": "code",
   "execution_count": 450,
   "id": "61ecf0d7-7dcc-4f55-a39c-18f5945e262d",
   "metadata": {},
   "outputs": [
    {
     "data": {
      "text/plain": [
       "[1, 2, 3, 4, 5, 6, 7, 8, 9]"
      ]
     },
     "execution_count": 450,
     "metadata": {},
     "output_type": "execute_result"
    }
   ],
   "source": [
    "flatten_z= [e for l in z for e in l] #önce e ile başla elemanları yazdırcan çünkü önce ana elemanlar yani listeler, sonra listelerdeki elemanlar\n",
    "\n",
    "flatten_z"
   ]
  },
  {
   "cell_type": "code",
   "execution_count": 456,
   "id": "1f096554-8303-42e1-a16f-d906e664782c",
   "metadata": {},
   "outputs": [
    {
     "data": {
      "text/plain": [
       "[10, 12, 14, 16, 18]"
      ]
     },
     "execution_count": 456,
     "metadata": {},
     "output_type": "execute_result"
    }
   ],
   "source": [
    "flatten_m = [e for l in m for e in l if e % 2 == 0] # Sadece çift değerleri kabul edecek\n",
    "\n",
    "flatten_m"
   ]
  },
  {
   "cell_type": "code",
   "execution_count": 462,
   "id": "bb2ece57-952d-4c78-98cd-4c6b2cfb6727",
   "metadata": {},
   "outputs": [
    {
     "name": "stdout",
     "output_type": "stream",
     "text": [
      "[[25, 36, 62], [28, 38, 64], [30, 40, 67]]\n",
      "[[1, 27, 56], [1, 25, 55], [2, 21, 51]]\n"
     ]
    }
   ],
   "source": [
    "m=[[[ 25, 36, 62],[ 28, 38, 64],[ 30, 40, 67]],[[ 1, 27, 56],[ 1, 25, 55],[ 2, 21, 51]]]\n",
    "for l in m:\n",
    "    print(l)"
   ]
  },
  {
   "cell_type": "code",
   "execution_count": 472,
   "id": "848b1bd3-6eb7-4e54-8261-82a813df9d1c",
   "metadata": {},
   "outputs": [
    {
     "data": {
      "text/plain": [
       "[25, 36, 62, 28, 38, 64, 30, 40, 67, 1, 27, 56, 1, 25, 55, 2, 21, 51]"
      ]
     },
     "execution_count": 472,
     "metadata": {},
     "output_type": "execute_result"
    }
   ],
   "source": [
    "flatten_m = [e for l in m for a in l for e in a]\n",
    "\n",
    "flatten_m"
   ]
  },
  {
   "cell_type": "markdown",
   "id": "376e78fe-8788-45e4-8d18-65443620f534",
   "metadata": {},
   "source": [
    "### Variable Unpacking\n"
   ]
  },
  {
   "cell_type": "code",
   "execution_count": 477,
   "id": "ac90b32a-d02b-4ea6-9469-9a6d66614749",
   "metadata": {},
   "outputs": [],
   "source": [
    "x, y = (4, 7)"
   ]
  },
  {
   "cell_type": "code",
   "execution_count": 479,
   "id": "07943d23-70d2-4a34-b8cc-7e0a429895f4",
   "metadata": {},
   "outputs": [
    {
     "data": {
      "text/plain": [
       "4"
      ]
     },
     "execution_count": 479,
     "metadata": {},
     "output_type": "execute_result"
    }
   ],
   "source": [
    "x"
   ]
  },
  {
   "cell_type": "code",
   "execution_count": 481,
   "id": "8ce4e1b5-bc4a-4072-ab49-65efe27c2a0d",
   "metadata": {},
   "outputs": [
    {
     "data": {
      "text/plain": [
       "7"
      ]
     },
     "execution_count": 481,
     "metadata": {},
     "output_type": "execute_result"
    }
   ],
   "source": [
    "y"
   ]
  },
  {
   "cell_type": "code",
   "execution_count": 485,
   "id": "5a6ab6a0-ee6f-461a-ab47-1f98636b1af3",
   "metadata": {},
   "outputs": [],
   "source": [
    "x, y, z = (4, 7, 11)"
   ]
  },
  {
   "cell_type": "code",
   "execution_count": 487,
   "id": "acebb6e7-bb57-44b0-b370-df05a3975bbb",
   "metadata": {},
   "outputs": [
    {
     "data": {
      "text/plain": [
       "(4, 7, 11)"
      ]
     },
     "execution_count": 487,
     "metadata": {},
     "output_type": "execute_result"
    }
   ],
   "source": [
    "x, y, z"
   ]
  },
  {
   "cell_type": "markdown",
   "id": "00412829-9b29-46ed-981e-832c30123ecd",
   "metadata": {},
   "source": [
    "Bazı Değerlere İhtiyacım Yoksa:\n",
    "\n",
    "\n",
    "Diyelim ki soldaki yapının sadece birinci elemanına bir değer eşitleyip kullanmak istiyorum. Daha önce döngülerde yaptığımız gibi kulllanmayacağımız değişkene _ diyebiliriz."
   ]
  },
  {
   "cell_type": "code",
   "execution_count": 490,
   "id": "59163447-91b3-4f81-93d5-e56e2df1f01c",
   "metadata": {},
   "outputs": [],
   "source": [
    "x, _ = (4, 7)"
   ]
  },
  {
   "cell_type": "markdown",
   "id": "29b1aa43-c9d2-4aa1-9b8c-e4f18e405f02",
   "metadata": {},
   "source": [
    "Sol ve Sağdaki Yapı Farklı Sayıdaysa:"
   ]
  },
  {
   "cell_type": "code",
   "execution_count": 492,
   "id": "93e3b2ce-4258-42dc-adc7-9b4fad930609",
   "metadata": {},
   "outputs": [
    {
     "ename": "ValueError",
     "evalue": "too many values to unpack (expected 3)",
     "output_type": "error",
     "traceback": [
      "\u001b[1;31m---------------------------------------------------------------------------\u001b[0m",
      "\u001b[1;31mValueError\u001b[0m                                Traceback (most recent call last)",
      "Cell \u001b[1;32mIn[492], line 1\u001b[0m\n\u001b[1;32m----> 1\u001b[0m x, y, z \u001b[38;5;241m=\u001b[39m (\u001b[38;5;241m4\u001b[39m, \u001b[38;5;241m7\u001b[39m, \u001b[38;5;241m11\u001b[39m, \u001b[38;5;241m4\u001b[39m, \u001b[38;5;241m21\u001b[39m)\n",
      "\u001b[1;31mValueError\u001b[0m: too many values to unpack (expected 3)"
     ]
    }
   ],
   "source": [
    "x, y, z = (4, 7, 11, 4, 21)"
   ]
  },
  {
   "cell_type": "code",
   "execution_count": 494,
   "id": "52c52fc5-bdbb-4530-b108-000dbeea6ee7",
   "metadata": {},
   "outputs": [],
   "source": [
    "x, y, *z = (4, 7, 11, 4, 21)"
   ]
  },
  {
   "cell_type": "code",
   "execution_count": 496,
   "id": "d6eecb46-22ea-4e9f-a6f6-687c70c390f3",
   "metadata": {},
   "outputs": [
    {
     "data": {
      "text/plain": [
       "[11, 4, 21]"
      ]
     },
     "execution_count": 496,
     "metadata": {},
     "output_type": "execute_result"
    }
   ],
   "source": [
    "z"
   ]
  },
  {
   "cell_type": "code",
   "execution_count": 498,
   "id": "4e2d031a-dec1-4a91-9754-024b4ea5a210",
   "metadata": {},
   "outputs": [
    {
     "data": {
      "text/plain": [
       "4"
      ]
     },
     "execution_count": 498,
     "metadata": {},
     "output_type": "execute_result"
    }
   ],
   "source": [
    "x"
   ]
  },
  {
   "cell_type": "code",
   "execution_count": 500,
   "id": "4a53a9d6-321d-4a8b-be57-3f36b2427383",
   "metadata": {},
   "outputs": [
    {
     "data": {
      "text/plain": [
       "7"
      ]
     },
     "execution_count": 500,
     "metadata": {},
     "output_type": "execute_result"
    }
   ],
   "source": [
    "y"
   ]
  },
  {
   "cell_type": "code",
   "execution_count": 502,
   "id": "9d28acca-8eca-48f6-92fe-1958071cdd33",
   "metadata": {},
   "outputs": [
    {
     "data": {
      "text/plain": [
       "list"
      ]
     },
     "execution_count": 502,
     "metadata": {},
     "output_type": "execute_result"
    }
   ],
   "source": [
    "type(z)"
   ]
  },
  {
   "cell_type": "code",
   "execution_count": 504,
   "id": "8688f9e4-676e-4f22-b15f-c2bf6b916e05",
   "metadata": {},
   "outputs": [
    {
     "data": {
      "text/plain": [
       "int"
      ]
     },
     "execution_count": 504,
     "metadata": {},
     "output_type": "execute_result"
    }
   ],
   "source": [
    "type(x)"
   ]
  },
  {
   "cell_type": "code",
   "execution_count": 506,
   "id": "ec66246c-7d39-4c3b-bc17-69804534074e",
   "metadata": {},
   "outputs": [],
   "source": [
    "x, y, *_ = (4, 7, 11, 12, 13)"
   ]
  },
  {
   "cell_type": "code",
   "execution_count": 508,
   "id": "77444f95-df34-492a-b23e-db04c198860b",
   "metadata": {},
   "outputs": [
    {
     "data": {
      "text/plain": [
       "(4, 7)"
      ]
     },
     "execution_count": 508,
     "metadata": {},
     "output_type": "execute_result"
    }
   ],
   "source": [
    "x,y "
   ]
  },
  {
   "cell_type": "code",
   "execution_count": 510,
   "id": "ab49038d-2f52-4195-8622-6f52254861da",
   "metadata": {},
   "outputs": [
    {
     "data": {
      "text/plain": [
       "(4, 7, 21)"
      ]
     },
     "execution_count": 510,
     "metadata": {},
     "output_type": "execute_result"
    }
   ],
   "source": [
    "x, y, *z, t = (4, 7, 11, 4, 21)\n",
    "\n",
    "\n",
    "x, y, t"
   ]
  },
  {
   "cell_type": "code",
   "execution_count": 512,
   "id": "06b52192-8e60-44d0-899b-a7a72dab70f3",
   "metadata": {},
   "outputs": [
    {
     "data": {
      "text/plain": [
       "[11, 4]"
      ]
     },
     "execution_count": 512,
     "metadata": {},
     "output_type": "execute_result"
    }
   ],
   "source": [
    "z"
   ]
  },
  {
   "cell_type": "code",
   "execution_count": 516,
   "id": "3982974c-3538-4131-bfde-e1afc6e1b34e",
   "metadata": {},
   "outputs": [],
   "source": [
    "x, y, *z, t, u = (4, 7, 11, 4, 21, 32, 2)"
   ]
  },
  {
   "cell_type": "code",
   "execution_count": 522,
   "id": "5a500289-a0dc-42bd-8ea4-66a419e1f5d8",
   "metadata": {},
   "outputs": [
    {
     "data": {
      "text/plain": [
       "[11, 4, 21]"
      ]
     },
     "execution_count": 522,
     "metadata": {},
     "output_type": "execute_result"
    }
   ],
   "source": [
    "z"
   ]
  },
  {
   "cell_type": "code",
   "execution_count": 524,
   "id": "7419d24d-f7fe-4e42-a525-b47063825357",
   "metadata": {},
   "outputs": [
    {
     "ename": "SyntaxError",
     "evalue": "multiple starred expressions in assignment (928660696.py, line 2)",
     "output_type": "error",
     "traceback": [
      "\u001b[1;36m  Cell \u001b[1;32mIn[524], line 2\u001b[1;36m\u001b[0m\n\u001b[1;33m    x, *y, *t = (4, 7, 11, 4)\u001b[0m\n\u001b[1;37m    ^\u001b[0m\n\u001b[1;31mSyntaxError\u001b[0m\u001b[1;31m:\u001b[0m multiple starred expressions in assignment\n"
     ]
    }
   ],
   "source": [
    "# It will give an error\n",
    "x, *y, *t = (4, 7, 11, 4)"
   ]
  },
  {
   "cell_type": "markdown",
   "id": "f41a332b-2e7b-4e9c-9f85-1f4282ab0b89",
   "metadata": {},
   "source": [
    "# Enumerate-Zip\n"
   ]
  },
  {
   "cell_type": "markdown",
   "id": "70b6f11f-d24d-4df5-9196-911956280cc1",
   "metadata": {},
   "source": [
    "### Enumerate"
   ]
  },
  {
   "cell_type": "code",
   "execution_count": 528,
   "id": "b2f84756-ca90-48e2-8d47-5e0ebff21ad0",
   "metadata": {},
   "outputs": [
    {
     "name": "stdout",
     "output_type": "stream",
     "text": [
      "(1, 2)\n",
      "(10, 20)\n"
     ]
    }
   ],
   "source": [
    "l = [(1,2), (10,20)]\n",
    "\n",
    "\n",
    "for e in l:\n",
    "    print(e)"
   ]
  },
  {
   "cell_type": "code",
   "execution_count": 530,
   "id": "065335f2-406a-40fa-88fa-515262677542",
   "metadata": {},
   "outputs": [
    {
     "name": "stdout",
     "output_type": "stream",
     "text": [
      "1\n",
      "2\n",
      "*********\n",
      "10\n",
      "20\n",
      "*********\n"
     ]
    }
   ],
   "source": [
    "for e in l:\n",
    "    a, b = e\n",
    "    print(a)\n",
    "    print(b)\n",
    "    print(\"*********\")"
   ]
  },
  {
   "cell_type": "code",
   "execution_count": 534,
   "id": "e5016a2a-befe-4733-b14c-967d81933aef",
   "metadata": {},
   "outputs": [
    {
     "name": "stdout",
     "output_type": "stream",
     "text": [
      "tuple'ın ilk elemanı 1\n",
      "tuple'ın ikinci elemanı 2\n",
      "-----------------------------\n",
      "tuple'ın ilk elemanı 10\n",
      "tuple'ın ikinci elemanı 20\n",
      "-----------------------------\n"
     ]
    }
   ],
   "source": [
    "for a, b in l:  #üsttekinin yerine bunu da yapabiliriz, otomatik olarak a-1 b-2 sonra da a-10 b-20 diye eşliyor\n",
    "    print(\"tuple'ın ilk elemanı\", a)\n",
    "    print(\"tuple'ın ikinci elemanı\", b)\n",
    "    print(\"-----------------------------\")"
   ]
  },
  {
   "cell_type": "code",
   "execution_count": 538,
   "id": "1c74e785-44aa-435d-a9fa-72f0a8f9794a",
   "metadata": {},
   "outputs": [
    {
     "name": "stdout",
     "output_type": "stream",
     "text": [
      "Tyler\n",
      "Blake\n",
      "Cory\n",
      "Cameron\n"
     ]
    }
   ],
   "source": [
    "#enumerate() bize (index, element) olarak verecek.\n",
    "\n",
    "\n",
    "adlar = ['Tyler', 'Blake', 'Cory', 'Cameron']\n",
    "\n",
    "\n",
    "for e in adlar:\n",
    "    print(e)"
   ]
  },
  {
   "cell_type": "code",
   "execution_count": 556,
   "id": "6d13b325-eeaf-4591-83e0-719950f3430d",
   "metadata": {},
   "outputs": [
    {
     "name": "stdout",
     "output_type": "stream",
     "text": [
      "0 indexindeki eleman: Tyler\n",
      "1 indexindeki eleman: Blake\n",
      "2 indexindeki eleman: Cory\n",
      "3 indexindeki eleman: Cameron\n"
     ]
    }
   ],
   "source": [
    "for y,z in enumerate(adlar):\n",
    "    \n",
    "    print(y , \"indexindeki eleman:\" , z)"
   ]
  },
  {
   "cell_type": "code",
   "execution_count": 564,
   "id": "b436a397-2a79-472f-b357-9c54e195b13b",
   "metadata": {},
   "outputs": [
    {
     "name": "stdout",
     "output_type": "stream",
     "text": [
      "100 lokasyonundaki eleman: Tyler\n",
      "101 lokasyonundaki eleman: Blake\n",
      "102 lokasyonundaki eleman: Cory\n",
      "103 lokasyonundaki eleman: Cameron\n"
     ]
    }
   ],
   "source": [
    "for y,z in enumerate(adlar, start=100):   #0'la başlamak zorunda değil\n",
    "    \n",
    "    print(y , \"lokasyonundaki eleman:\" , z)"
   ]
  },
  {
   "cell_type": "markdown",
   "id": "6aaf78b9-cca9-4e98-b5a1-130e777a5e62",
   "metadata": {},
   "source": [
    "### Zip"
   ]
  },
  {
   "cell_type": "code",
   "execution_count": 572,
   "id": "35f4e47b-66b0-48f6-a03d-c0315c838425",
   "metadata": {},
   "outputs": [],
   "source": [
    "#paralel birleştirip iterasyon"
   ]
  },
  {
   "cell_type": "code",
   "execution_count": 574,
   "id": "71c4ba4d-d57e-4faf-9eb9-bcf19d4ca357",
   "metadata": {},
   "outputs": [],
   "source": [
    "ogrenciler = [\"ogrenci_1\", \"ogrenci_2\", \"ogrenci_3\"]\n",
    "\n",
    "\n",
    "notlar = [90,80,72]"
   ]
  },
  {
   "cell_type": "code",
   "execution_count": 578,
   "id": "a6597fa9-ee7f-4620-9b1b-b7078434e09a",
   "metadata": {},
   "outputs": [
    {
     "name": "stdout",
     "output_type": "stream",
     "text": [
      "ogrenci_1 90\n",
      "ogrenci_2 80\n",
      "ogrenci_3 72\n"
     ]
    }
   ],
   "source": [
    "for s,g in zip(ogrenciler,notlar):\n",
    "    print (s,g)\n"
   ]
  },
  {
   "cell_type": "code",
   "execution_count": 594,
   "id": "77c4337d-5636-47ed-8b12-6321fab37311",
   "metadata": {},
   "outputs": [],
   "source": [
    "student_grade= list(zip(ogrenciler,notlar)) #permanent bi list yapmak için"
   ]
  },
  {
   "cell_type": "code",
   "execution_count": 596,
   "id": "43a32bcf-303c-4d8f-9804-d153e6beefa2",
   "metadata": {},
   "outputs": [
    {
     "data": {
      "text/plain": [
       "[('ogrenci_1', 90), ('ogrenci_2', 80), ('ogrenci_3', 72)]"
      ]
     },
     "execution_count": 596,
     "metadata": {},
     "output_type": "execute_result"
    }
   ],
   "source": [
    "student_grade"
   ]
  },
  {
   "cell_type": "code",
   "execution_count": 598,
   "id": "e3bb9c0c-5619-43b7-be4a-b6cecbc79dc7",
   "metadata": {},
   "outputs": [
    {
     "data": {
      "text/plain": [
       "list"
      ]
     },
     "execution_count": 598,
     "metadata": {},
     "output_type": "execute_result"
    }
   ],
   "source": [
    "type(student_grade)"
   ]
  },
  {
   "cell_type": "code",
   "execution_count": 602,
   "id": "a17dc323-42af-4dfb-a9d4-618890f17e24",
   "metadata": {},
   "outputs": [],
   "source": [
    "student_gradee= tuple(zip(ogrenciler,notlar)) #permanent bi tuple yapmak için"
   ]
  },
  {
   "cell_type": "code",
   "execution_count": 604,
   "id": "5c5b8390-a99e-4238-a4a2-d8c930a7e0a4",
   "metadata": {},
   "outputs": [
    {
     "data": {
      "text/plain": [
       "tuple"
      ]
     },
     "execution_count": 604,
     "metadata": {},
     "output_type": "execute_result"
    }
   ],
   "source": [
    "type(student_gradee)"
   ]
  },
  {
   "cell_type": "code",
   "execution_count": 616,
   "id": "1fa9b45a-0b0f-4d17-8b75-21fc94654689",
   "metadata": {},
   "outputs": [
    {
     "data": {
      "text/plain": [
       "('ogrenci_1', 'ogrenci_2', 'ogrenci_3')"
      ]
     },
     "execution_count": 616,
     "metadata": {},
     "output_type": "execute_result"
    }
   ],
   "source": [
    "ogrenciler, notlar = zip(*student_gradee) #how to unzip, *'la\n",
    "ogrenciler\n"
   ]
  },
  {
   "cell_type": "code",
   "execution_count": 612,
   "id": "3c238082-2b50-43b4-adb5-33a4cf15f1bd",
   "metadata": {},
   "outputs": [
    {
     "data": {
      "text/plain": [
       "(90, 80, 72)"
      ]
     },
     "execution_count": 612,
     "metadata": {},
     "output_type": "execute_result"
    }
   ],
   "source": [
    "notlar"
   ]
  },
  {
   "cell_type": "code",
   "execution_count": 620,
   "id": "771f3f0c-8126-48e0-9c7c-30aa1e3f44b2",
   "metadata": {},
   "outputs": [
    {
     "name": "stdout",
     "output_type": "stream",
     "text": [
      "ogrenci_1 90\n",
      "ogrenci_2 80\n",
      "ogrenci_3 72\n"
     ]
    }
   ],
   "source": [
    "for i in range(len(ogrenciler)): #zip'siz yapılışı\n",
    "    print(ogrenciler[i], notlar[i])"
   ]
  },
  {
   "cell_type": "code",
   "execution_count": 618,
   "id": "05afb4d5-f47a-4adf-b7c6-abdfc3fb0ccc",
   "metadata": {},
   "outputs": [
    {
     "name": "stdout",
     "output_type": "stream",
     "text": [
      "('ogrenci_1', 90)\n",
      "('ogrenci_2', 80)\n",
      "('ogrenci_3', 72)\n"
     ]
    }
   ],
   "source": [
    "for e in zip(ogrenciler, notlar):\n",
    "    print(e)"
   ]
  },
  {
   "cell_type": "code",
   "execution_count": 622,
   "id": "eb2d240f-cd1a-40af-ba1b-33932f765113",
   "metadata": {},
   "outputs": [],
   "source": [
    "# Her ayki karı hesaplamak\n",
    "satis = [3500.00, 76300.00, 67200.00]\n",
    "\n",
    "maliyet = [56700.00, 21900.00, 12100.00]"
   ]
  },
  {
   "cell_type": "code",
   "execution_count": 636,
   "id": "2a523b1f-40a1-498a-9bd1-e4eb307a2c7e",
   "metadata": {},
   "outputs": [
    {
     "name": "stdout",
     "output_type": "stream",
     "text": [
      "kar: -53200.0\n",
      "kar: 54400.0\n",
      "kar: 55100.0\n"
     ]
    }
   ],
   "source": [
    "for i in range(len(satis)):             #zip'siz yapılışı\n",
    "    print(\"kar:\", satis[i]-maliyet[i])"
   ]
  },
  {
   "cell_type": "code",
   "execution_count": 646,
   "id": "5cd759c3-4b21-4f85-9916-a268a96356ad",
   "metadata": {},
   "outputs": [
    {
     "name": "stdout",
     "output_type": "stream",
     "text": [
      "Total profit: -53200.0\n",
      "Total profit: 54400.0\n",
      "Total profit: 55100.0\n"
     ]
    }
   ],
   "source": [
    "for i in range(len(maliyet)): #zip'siz yapılışı dersteki\n",
    "    s = satis[i]\n",
    "    c = maliyet[i]\n",
    "    \n",
    "    kar = s - c\n",
    "    print(f'Total profit: {kar}')   #f string'i öğrenmeden kullandı valla hoca f' ' yapınca da string oluyomuş ve { } kullanabiliyormuşsun"
   ]
  },
  {
   "cell_type": "code",
   "execution_count": 656,
   "id": "cf2a3673-0d34-4b1a-975f-9847e73e9376",
   "metadata": {},
   "outputs": [
    {
     "name": "stdout",
     "output_type": "stream",
     "text": [
      "3500.0 56700.0\n",
      "Total profit: -53200.0\n",
      "76300.0 21900.0\n",
      "Total profit: 54400.0\n",
      "67200.0 12100.0\n",
      "Total profit: 55100.0\n"
     ]
    }
   ],
   "source": [
    "satis = [3500.00, 76300.00, 67200.00]\n",
    "maliyet = [56700.00, 21900.00, 12100.00]\n",
    "for s, c in zip(satis, maliyet):\n",
    "    print (s,c)\n",
    "    kar = s - c\n",
    "    print(f'Total profit: {kar}')"
   ]
  },
  {
   "cell_type": "markdown",
   "id": "b6f13c85-ecdf-4d5d-aec6-5bac4df2417b",
   "metadata": {},
   "source": [
    "### ZIP ile Dictionary Yaratmak"
   ]
  },
  {
   "cell_type": "code",
   "execution_count": 661,
   "id": "5a01ee1b-9877-4e87-b2be-e9f4234455cd",
   "metadata": {},
   "outputs": [],
   "source": [
    "keys = ['isim', 'soyad', 'ulke', 'is']\n",
    "values = ['Denis', 'Walker', 'Turkey', 'data scientist']"
   ]
  },
  {
   "cell_type": "code",
   "execution_count": 693,
   "id": "9173ae5b-f8db-42a1-acfd-2e7e87bc26ad",
   "metadata": {},
   "outputs": [],
   "source": [
    "d={}"
   ]
  },
  {
   "cell_type": "code",
   "execution_count": 695,
   "id": "e67a6b9f-ee79-4965-978c-644ee1271815",
   "metadata": {},
   "outputs": [
    {
     "data": {
      "text/plain": [
       "{}"
      ]
     },
     "execution_count": 695,
     "metadata": {},
     "output_type": "execute_result"
    }
   ],
   "source": [
    "d"
   ]
  },
  {
   "cell_type": "code",
   "execution_count": 701,
   "id": "50a01bc2-0cea-4fc9-97c3-32feddc4b889",
   "metadata": {},
   "outputs": [],
   "source": [
    "for k, v in zip (keys, values): \n",
    "    d[k]=v"
   ]
  },
  {
   "cell_type": "code",
   "execution_count": 703,
   "id": "1c913175-d5e9-465f-810f-200226880b6a",
   "metadata": {},
   "outputs": [
    {
     "data": {
      "text/plain": [
       "{'isim': 'Denis', 'soyad': 'Walker', 'ulke': 'Turkey', 'is': 'data scientist'}"
      ]
     },
     "execution_count": 703,
     "metadata": {},
     "output_type": "execute_result"
    }
   ],
   "source": [
    "d"
   ]
  },
  {
   "cell_type": "code",
   "execution_count": 707,
   "id": "71329f85-2220-45fc-8f3e-7e37c3e6ab45",
   "metadata": {},
   "outputs": [
    {
     "data": {
      "text/plain": [
       "'Denis'"
      ]
     },
     "execution_count": 707,
     "metadata": {},
     "output_type": "execute_result"
    }
   ],
   "source": [
    "d[\"isim\"]"
   ]
  },
  {
   "cell_type": "code",
   "execution_count": null,
   "id": "b6fe832c-ca3f-4130-bc64-cbaf6057a907",
   "metadata": {},
   "outputs": [],
   "source": []
  }
 ],
 "metadata": {
  "kernelspec": {
   "display_name": "Python [conda env:base] *",
   "language": "python",
   "name": "conda-base-py"
  },
  "language_info": {
   "codemirror_mode": {
    "name": "ipython",
    "version": 3
   },
   "file_extension": ".py",
   "mimetype": "text/x-python",
   "name": "python",
   "nbconvert_exporter": "python",
   "pygments_lexer": "ipython3",
   "version": "3.12.7"
  }
 },
 "nbformat": 4,
 "nbformat_minor": 5
}
