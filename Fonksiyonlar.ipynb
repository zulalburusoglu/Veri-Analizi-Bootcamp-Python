{
 "cells": [
  {
   "cell_type": "markdown",
   "id": "67cf9696-f98a-43e5-921d-0962ad483559",
   "metadata": {},
   "source": [
    "# Fonksiyonlar"
   ]
  },
  {
   "cell_type": "code",
   "execution_count": 731,
   "id": "be3a183c-5019-45b9-9108-84d4d62d2aa6",
   "metadata": {},
   "outputs": [],
   "source": [
    "def square(x):\n",
    "    x*x"
   ]
  },
  {
   "cell_type": "code",
   "execution_count": 729,
   "id": "b6233505-f0db-44f5-8643-cee822597617",
   "metadata": {},
   "outputs": [
    {
     "data": {
      "text/plain": [
       "int"
      ]
     },
     "execution_count": 729,
     "metadata": {},
     "output_type": "execute_result"
    }
   ],
   "source": [
    "type(square(x))"
   ]
  },
  {
   "cell_type": "code",
   "execution_count": 733,
   "id": "a3f7982e-55f0-42d8-a9da-5e00159df5e2",
   "metadata": {},
   "outputs": [],
   "source": [
    "def square(x):\n",
    "    \n",
    "    return x*x"
   ]
  },
  {
   "cell_type": "code",
   "execution_count": 735,
   "id": "cfd5a175-e54e-4c0e-9000-84f2265b7131",
   "metadata": {},
   "outputs": [
    {
     "data": {
      "text/plain": [
       "25"
      ]
     },
     "execution_count": 735,
     "metadata": {},
     "output_type": "execute_result"
    }
   ],
   "source": [
    "square(5)"
   ]
  },
  {
   "cell_type": "code",
   "execution_count": 739,
   "id": "363d979b-4b21-4099-b50a-430ae462c89d",
   "metadata": {},
   "outputs": [
    {
     "data": {
      "text/plain": [
       "26"
      ]
     },
     "execution_count": 739,
     "metadata": {},
     "output_type": "execute_result"
    }
   ],
   "source": [
    "1+square(5)"
   ]
  },
  {
   "cell_type": "code",
   "execution_count": 741,
   "id": "b0a5f104-ab06-49fe-a029-814dee47136e",
   "metadata": {},
   "outputs": [
    {
     "data": {
      "text/plain": [
       "81"
      ]
     },
     "execution_count": 741,
     "metadata": {},
     "output_type": "execute_result"
    }
   ],
   "source": [
    "square(square(3))"
   ]
  },
  {
   "cell_type": "code",
   "execution_count": 743,
   "id": "9c774014-0220-4001-987e-467edb88569f",
   "metadata": {},
   "outputs": [
    {
     "data": {
      "text/plain": [
       "5"
      ]
     },
     "execution_count": 743,
     "metadata": {},
     "output_type": "execute_result"
    }
   ],
   "source": [
    "def weird():\n",
    "    return 5  #inputsuz da olabilir\n",
    "\n",
    "\n",
    "weird()"
   ]
  },
  {
   "cell_type": "code",
   "execution_count": 745,
   "id": "fb9675a1-d925-4216-b464-9d0e65ef3693",
   "metadata": {},
   "outputs": [
    {
     "ename": "TypeError",
     "evalue": "weird() takes 0 positional arguments but 1 was given",
     "output_type": "error",
     "traceback": [
      "\u001b[1;31m---------------------------------------------------------------------------\u001b[0m",
      "\u001b[1;31mTypeError\u001b[0m                                 Traceback (most recent call last)",
      "Cell \u001b[1;32mIn[745], line 1\u001b[0m\n\u001b[1;32m----> 1\u001b[0m weird(\u001b[38;5;241m3\u001b[39m)\n",
      "\u001b[1;31mTypeError\u001b[0m: weird() takes 0 positional arguments but 1 was given"
     ]
    }
   ],
   "source": [
    "weird(3)"
   ]
  },
  {
   "cell_type": "code",
   "execution_count": 747,
   "id": "25a8d01e-d2d1-4b96-a3b1-78e0664b00e3",
   "metadata": {},
   "outputs": [
    {
     "data": {
      "text/plain": [
       "12"
      ]
     },
     "execution_count": 747,
     "metadata": {},
     "output_type": "execute_result"
    }
   ],
   "source": [
    "weird() + 7"
   ]
  },
  {
   "cell_type": "code",
   "execution_count": 753,
   "id": "e086804b-130e-4b37-8b48-0b141d56957f",
   "metadata": {},
   "outputs": [
    {
     "data": {
      "text/plain": [
       "54"
      ]
     },
     "execution_count": 753,
     "metadata": {},
     "output_type": "execute_result"
    }
   ],
   "source": [
    "def sakarya():\n",
    "    return 54\n",
    "\n",
    "sakarya()"
   ]
  },
  {
   "cell_type": "code",
   "execution_count": 755,
   "id": "dfa7670b-31e6-4063-b08b-6cc850f62349",
   "metadata": {},
   "outputs": [
    {
     "data": {
      "text/plain": [
       "108"
      ]
     },
     "execution_count": 755,
     "metadata": {},
     "output_type": "execute_result"
    }
   ],
   "source": [
    "sakarya()*2"
   ]
  },
  {
   "cell_type": "code",
   "execution_count": 761,
   "id": "0beff3bb-643c-41cb-bf6e-b387e101c88b",
   "metadata": {},
   "outputs": [],
   "source": [
    "def square(x):\n",
    "    \n",
    "    res = x * x\n",
    "    \n",
    "    return res\n",
    "    \n",
    "    print(\"Square of \" + str(x) + \": \" + str(res)) #return'den sonrası okunup basılmaz"
   ]
  },
  {
   "cell_type": "code",
   "execution_count": 759,
   "id": "1c4eb41c-9b2a-4334-9b32-f5ed1fa67c4f",
   "metadata": {},
   "outputs": [
    {
     "data": {
      "text/plain": [
       "49"
      ]
     },
     "execution_count": 759,
     "metadata": {},
     "output_type": "execute_result"
    }
   ],
   "source": [
    "square(7)"
   ]
  },
  {
   "cell_type": "code",
   "execution_count": 763,
   "id": "dc2ecfed-1f7e-4785-807e-66798c93fee5",
   "metadata": {},
   "outputs": [],
   "source": [
    "def square(x):\n",
    "    \n",
    "    res = x * x\n",
    "    \n",
    "    print(\"Square of \" + str(x) + \": \" + str(res))\n",
    "    \n",
    "    return res"
   ]
  },
  {
   "cell_type": "code",
   "execution_count": 765,
   "id": "54e02b03-8d23-4234-86f5-2894cefc7101",
   "metadata": {},
   "outputs": [
    {
     "name": "stdout",
     "output_type": "stream",
     "text": [
      "Square of 3: 9\n"
     ]
    },
    {
     "data": {
      "text/plain": [
       "9"
      ]
     },
     "execution_count": 765,
     "metadata": {},
     "output_type": "execute_result"
    }
   ],
   "source": [
    "square(3)"
   ]
  },
  {
   "cell_type": "code",
   "execution_count": 767,
   "id": "0344d454-37ef-421a-a95b-5e98770e0238",
   "metadata": {},
   "outputs": [
    {
     "name": "stdout",
     "output_type": "stream",
     "text": [
      "Square of 5: 25\n"
     ]
    },
    {
     "data": {
      "text/plain": [
       "27"
      ]
     },
     "execution_count": 767,
     "metadata": {},
     "output_type": "execute_result"
    }
   ],
   "source": [
    "square(5)+2"
   ]
  },
  {
   "cell_type": "code",
   "execution_count": 769,
   "id": "96cb291b-aeb5-4bea-a1a4-155a42b6812f",
   "metadata": {},
   "outputs": [],
   "source": [
    "def f(x):\n",
    "    \n",
    "    res = x * x\n",
    "    \n",
    "    if x % 2 == 0:\n",
    "        \n",
    "        return res\n",
    "    else:\n",
    "        return res + 10\n",
    "    \n",
    "    print(\"Square of \" + str(x) + \": \" + str(res))  #burasını okumayacak"
   ]
  },
  {
   "cell_type": "code",
   "execution_count": 771,
   "id": "0688d7bd-adc6-412b-8236-474b3d901e45",
   "metadata": {},
   "outputs": [
    {
     "data": {
      "text/plain": [
       "59"
      ]
     },
     "execution_count": 771,
     "metadata": {},
     "output_type": "execute_result"
    }
   ],
   "source": [
    "f(7)"
   ]
  },
  {
   "cell_type": "code",
   "execution_count": 773,
   "id": "7e10d5db-8f35-488a-9ed9-3e1fa9df9c20",
   "metadata": {},
   "outputs": [
    {
     "data": {
      "text/plain": [
       "36"
      ]
     },
     "execution_count": 773,
     "metadata": {},
     "output_type": "execute_result"
    }
   ],
   "source": [
    "f(6)"
   ]
  },
  {
   "cell_type": "code",
   "execution_count": 777,
   "id": "dbaf5fb9-94c1-4a7f-a4a6-47261c849307",
   "metadata": {},
   "outputs": [],
   "source": [
    "def z(x):\n",
    "\n",
    "    res= x*x*x\n",
    "\n",
    "    if x%2 == 1:\n",
    "        return res\n",
    "\n",
    "    else:\n",
    "        return res+1\n",
    "        "
   ]
  },
  {
   "cell_type": "code",
   "execution_count": 779,
   "id": "2d946385-fd7e-4fee-ad42-c88ac6eeb663",
   "metadata": {},
   "outputs": [
    {
     "data": {
      "text/plain": [
       "27"
      ]
     },
     "execution_count": 779,
     "metadata": {},
     "output_type": "execute_result"
    }
   ],
   "source": [
    "z(3)"
   ]
  },
  {
   "cell_type": "code",
   "execution_count": 781,
   "id": "b1d560e7-3a61-4933-8c08-678905718111",
   "metadata": {},
   "outputs": [
    {
     "data": {
      "text/plain": [
       "65"
      ]
     },
     "execution_count": 781,
     "metadata": {},
     "output_type": "execute_result"
    }
   ],
   "source": [
    "z(4)"
   ]
  },
  {
   "cell_type": "code",
   "execution_count": 785,
   "id": "a5fb4f94-8360-4c4a-89a3-c8825a931cb2",
   "metadata": {},
   "outputs": [
    {
     "data": {
      "text/plain": [
       "120"
      ]
     },
     "execution_count": 785,
     "metadata": {},
     "output_type": "execute_result"
    }
   ],
   "source": [
    "x = 300   #fonksiyonun içinde döngü mantığı\n",
    "\n",
    "\n",
    "def f(x): \n",
    "    \n",
    "    res = x * x \n",
    "    for i in range(10):\n",
    "        res += 20\n",
    "        return res   #return döngünün içinde olduğu için 100+20'yi bastıktan sonra döngü ilerlemiyor\n",
    "        print(\"hey\")\n",
    "\n",
    "\n",
    "f(10)"
   ]
  },
  {
   "cell_type": "code",
   "execution_count": 795,
   "id": "17c5418c-651f-4e72-9b0c-1f91b8daa15e",
   "metadata": {},
   "outputs": [
    {
     "name": "stdout",
     "output_type": "stream",
     "text": [
      "hey\n",
      "hey\n",
      "hey\n",
      "hey\n",
      "hey\n",
      "hey\n",
      "hey\n",
      "hey\n",
      "hey\n",
      "hey\n"
     ]
    },
    {
     "data": {
      "text/plain": [
       "300"
      ]
     },
     "execution_count": 795,
     "metadata": {},
     "output_type": "execute_result"
    }
   ],
   "source": [
    "def f(x): \n",
    "    \n",
    "    res = x * x \n",
    "    for i in range(10):\n",
    "        res += 20\n",
    "        print(\"hey\")\n",
    "    return res #burda return döngünün içinde olmadığı için for döngüsüyle 10 kere +20 ekılendikten sonra sonucu returnlüyor\n",
    "\n",
    "\n",
    "\n",
    "f(10)"
   ]
  },
  {
   "cell_type": "code",
   "execution_count": 801,
   "id": "b4da405e-1934-4b8d-b1e0-b08e724b6ea0",
   "metadata": {},
   "outputs": [
    {
     "data": {
      "text/plain": [
       "[120, 140, 160, 180, 200, 220, 240, 260, 280, 300]"
      ]
     },
     "execution_count": 801,
     "metadata": {},
     "output_type": "execute_result"
    }
   ],
   "source": [
    "def f(x):\n",
    "    \n",
    "    l = []\n",
    "    res = x * x\n",
    "    for _ in range(10):\n",
    "        res += 20\n",
    "        l.append(res)\n",
    "    return l\n",
    "\n",
    "f(10)"
   ]
  },
  {
   "cell_type": "code",
   "execution_count": 803,
   "id": "2131c22b-2ffc-4e55-94f8-765e467cae84",
   "metadata": {},
   "outputs": [],
   "source": [
    "#Void Fonksiyonlar (Değer Döndürmeyen Fonksiyonlar)"
   ]
  },
  {
   "cell_type": "code",
   "execution_count": 813,
   "id": "27e012c9-a4aa-41eb-9c86-88fde3cd03d7",
   "metadata": {},
   "outputs": [],
   "source": [
    "def f(x): \n",
    "    x = 2  #return olmadan değer döndürmez, none-type\n",
    "\n",
    "\n",
    "f(2)\n"
   ]
  },
  {
   "cell_type": "code",
   "execution_count": 811,
   "id": "5dbcfbc9-90e0-40f9-a3bb-d870d707392a",
   "metadata": {},
   "outputs": [
    {
     "ename": "TypeError",
     "evalue": "unsupported operand type(s) for +: 'NoneType' and 'int'",
     "output_type": "error",
     "traceback": [
      "\u001b[1;31m---------------------------------------------------------------------------\u001b[0m",
      "\u001b[1;31mTypeError\u001b[0m                                 Traceback (most recent call last)",
      "Cell \u001b[1;32mIn[811], line 1\u001b[0m\n\u001b[1;32m----> 1\u001b[0m f(\u001b[38;5;241m10\u001b[39m) \u001b[38;5;241m+\u001b[39m \u001b[38;5;241m4\u001b[39m\n",
      "\u001b[1;31mTypeError\u001b[0m: unsupported operand type(s) for +: 'NoneType' and 'int'"
     ]
    }
   ],
   "source": [
    "f(10) + 4"
   ]
  },
  {
   "cell_type": "code",
   "execution_count": 815,
   "id": "2c8cab15-f265-4798-bbc0-38574341d0f5",
   "metadata": {},
   "outputs": [
    {
     "name": "stdout",
     "output_type": "stream",
     "text": [
      "None\n"
     ]
    }
   ],
   "source": [
    "print(f(3))"
   ]
  },
  {
   "cell_type": "code",
   "execution_count": 817,
   "id": "75dc5cd8-c4b8-473f-9de1-6b529f73d8b5",
   "metadata": {},
   "outputs": [
    {
     "data": {
      "text/plain": [
       "NoneType"
      ]
     },
     "execution_count": 817,
     "metadata": {},
     "output_type": "execute_result"
    }
   ],
   "source": [
    "type(f(3))"
   ]
  },
  {
   "cell_type": "code",
   "execution_count": 819,
   "id": "2a4a9b37-9b5c-4b90-bdea-a7fdd8c45415",
   "metadata": {},
   "outputs": [
    {
     "name": "stdout",
     "output_type": "stream",
     "text": [
      "3 in/ün/un karesi: 9\n"
     ]
    }
   ],
   "source": [
    "# Bu kod x in karesini değer olarak bize vermiyor, sadece ekrana bastıracak\n",
    "def square(x):\n",
    "    \n",
    "    print(x,\"in/ün/un karesi:\", x*x)\n",
    "\n",
    "\n",
    "square(3)"
   ]
  },
  {
   "cell_type": "code",
   "execution_count": 823,
   "id": "c1baaf66-c512-4f0b-a5fc-3da3bc786791",
   "metadata": {},
   "outputs": [
    {
     "name": "stdout",
     "output_type": "stream",
     "text": [
      "3 in/ün/un karesi: 9\n"
     ]
    },
    {
     "data": {
      "text/plain": [
       "NoneType"
      ]
     },
     "execution_count": 823,
     "metadata": {},
     "output_type": "execute_result"
    }
   ],
   "source": [
    "type(square(3))"
   ]
  },
  {
   "cell_type": "code",
   "execution_count": 825,
   "id": "eb2c0dbd-0483-4cd4-bc5a-d8542413d10b",
   "metadata": {},
   "outputs": [],
   "source": [
    "# hem bir değer bastırıp aynı anda o değeri döndüre de bilirdi\n",
    "\n",
    "def square(x):\n",
    "    \n",
    "    res = x * x\n",
    "    \n",
    "    print(x,\"in/ün/un karesi:\", x*x)\n",
    "    \n",
    "    return res"
   ]
  },
  {
   "cell_type": "code",
   "execution_count": 827,
   "id": "869b5fc1-4e58-44ea-b752-fd8d9a97d1bc",
   "metadata": {},
   "outputs": [
    {
     "name": "stdout",
     "output_type": "stream",
     "text": [
      "7 in/ün/un karesi: 49\n"
     ]
    },
    {
     "data": {
      "text/plain": [
       "49"
      ]
     },
     "execution_count": 827,
     "metadata": {},
     "output_type": "execute_result"
    }
   ],
   "source": [
    "square(7)"
   ]
  },
  {
   "cell_type": "code",
   "execution_count": 829,
   "id": "fb0933ca-780a-4f41-96c6-48f2ed6434a1",
   "metadata": {},
   "outputs": [
    {
     "name": "stdout",
     "output_type": "stream",
     "text": [
      "4 in/ün/un karesi: 16\n"
     ]
    },
    {
     "data": {
      "text/plain": [
       "18"
      ]
     },
     "execution_count": 829,
     "metadata": {},
     "output_type": "execute_result"
    }
   ],
   "source": [
    "square(4) + 2"
   ]
  },
  {
   "cell_type": "code",
   "execution_count": 831,
   "id": "817dd646-b285-4fde-af8e-8bdee4792639",
   "metadata": {},
   "outputs": [
    {
     "name": "stdout",
     "output_type": "stream",
     "text": [
      "Sonuc: 25\n"
     ]
    },
    {
     "data": {
      "text/plain": [
       "25"
      ]
     },
     "execution_count": 831,
     "metadata": {},
     "output_type": "execute_result"
    }
   ],
   "source": [
    "x=7\n",
    "def f(x):\n",
    "  res=5\n",
    "  res*=res\n",
    "  if x%2==0:\n",
    "    print(\"Sonuc:\",res)\n",
    "    return res\n",
    "  else:\n",
    "    print(\"Sonuc: \",res)\n",
    "  \n",
    "    return res+10\n",
    "\n",
    "f(4)"
   ]
  },
  {
   "cell_type": "code",
   "execution_count": 833,
   "id": "e4f7172b-f064-4bcc-afed-8344392c3cc5",
   "metadata": {},
   "outputs": [],
   "source": [
    "# Fonksiyonlara Açıklama Yazmak"
   ]
  },
  {
   "cell_type": "code",
   "execution_count": 845,
   "id": "0c390963-c4be-42ec-bee5-b7ba64f47cf9",
   "metadata": {},
   "outputs": [],
   "source": [
    "def square(x): \n",
    "    res = x * x\n",
    "    return res"
   ]
  },
  {
   "cell_type": "code",
   "execution_count": 847,
   "id": "bd626ca4-7cc5-42cb-ab6f-e27672fc33ef",
   "metadata": {},
   "outputs": [],
   "source": [
    "def square(x):\n",
    "    \"\"\" x'in karesini hesaplar \"\"\"\n",
    "    return x * x"
   ]
  },
  {
   "cell_type": "code",
   "execution_count": 849,
   "id": "37a87eca-c76a-479e-a46f-908adc618980",
   "metadata": {},
   "outputs": [
    {
     "data": {
      "text/plain": [
       "\u001b[1;31mSignature:\u001b[0m \u001b[0msquare\u001b[0m\u001b[1;33m(\u001b[0m\u001b[0mx\u001b[0m\u001b[1;33m)\u001b[0m\u001b[1;33m\u001b[0m\u001b[1;33m\u001b[0m\u001b[0m\n",
       "\u001b[1;31mDocstring:\u001b[0m x'in karesini hesaplar \n",
       "\u001b[1;31mFile:\u001b[0m      c:\\users\\msi\\appdata\\local\\temp\\ipykernel_39636\\3867547057.py\n",
       "\u001b[1;31mType:\u001b[0m      function"
      ]
     },
     "metadata": {},
     "output_type": "display_data"
    }
   ],
   "source": [
    "?square"
   ]
  },
  {
   "cell_type": "code",
   "execution_count": 851,
   "id": "05cb9fda-2ccd-4394-b029-e82575d7810e",
   "metadata": {},
   "outputs": [
    {
     "data": {
      "text/plain": [
       "\u001b[1;31mSignature:\u001b[0m \u001b[0msquare\u001b[0m\u001b[1;33m(\u001b[0m\u001b[0mx\u001b[0m\u001b[1;33m)\u001b[0m\u001b[1;33m\u001b[0m\u001b[1;33m\u001b[0m\u001b[0m\n",
       "\u001b[1;31mSource:\u001b[0m   \n",
       "\u001b[1;32mdef\u001b[0m \u001b[0msquare\u001b[0m\u001b[1;33m(\u001b[0m\u001b[0mx\u001b[0m\u001b[1;33m)\u001b[0m\u001b[1;33m:\u001b[0m\u001b[1;33m\n",
       "\u001b[0m    \u001b[1;34m\"\"\" x'in karesini hesaplar \"\"\"\u001b[0m\u001b[1;33m\n",
       "\u001b[0m    \u001b[1;32mreturn\u001b[0m \u001b[0mx\u001b[0m \u001b[1;33m*\u001b[0m \u001b[0mx\u001b[0m\u001b[1;33m\u001b[0m\u001b[1;33m\u001b[0m\u001b[0m\n",
       "\u001b[1;31mFile:\u001b[0m      c:\\users\\msi\\appdata\\local\\temp\\ipykernel_39636\\3867547057.py\n",
       "\u001b[1;31mType:\u001b[0m      function"
      ]
     },
     "metadata": {},
     "output_type": "display_data"
    }
   ],
   "source": [
    "??square"
   ]
  },
  {
   "cell_type": "markdown",
   "id": "ae2a9a3f-dbe8-49d8-a326-5199fdf992e1",
   "metadata": {},
   "source": [
    "### Birden Fazla Değer Döndürme/input İçerme\n"
   ]
  },
  {
   "cell_type": "code",
   "execution_count": 858,
   "id": "02cd4969-ece1-4be3-a17e-806eb5da67c9",
   "metadata": {},
   "outputs": [],
   "source": [
    "# Birden Çok Input"
   ]
  },
  {
   "cell_type": "code",
   "execution_count": 856,
   "id": "2ad19165-434e-4afc-beca-f8b915f369b0",
   "metadata": {},
   "outputs": [
    {
     "data": {
      "text/plain": [
       "8"
      ]
     },
     "execution_count": 856,
     "metadata": {},
     "output_type": "execute_result"
    }
   ],
   "source": [
    "def power(x, y):\n",
    "    \n",
    "    return x ** y #x üstü y demek\n",
    "\n",
    "power(2, 3)"
   ]
  },
  {
   "cell_type": "code",
   "execution_count": 860,
   "id": "9afb631c-bda6-40a0-8c06-3cb38f2fc4f6",
   "metadata": {},
   "outputs": [],
   "source": [
    "# Birden Çok Değer"
   ]
  },
  {
   "cell_type": "code",
   "execution_count": 862,
   "id": "e05ae45e-a9d0-442b-9d84-e412aabdd413",
   "metadata": {},
   "outputs": [],
   "source": [
    "def f(x):\n",
    "    \n",
    "    return 2*x, 10*x"
   ]
  },
  {
   "cell_type": "code",
   "execution_count": 864,
   "id": "8fc16ba5-15f6-477b-8d33-e72a1fadb2f2",
   "metadata": {},
   "outputs": [
    {
     "data": {
      "text/plain": [
       "(10, 50)"
      ]
     },
     "execution_count": 864,
     "metadata": {},
     "output_type": "execute_result"
    }
   ],
   "source": [
    "f(5)"
   ]
  },
  {
   "cell_type": "code",
   "execution_count": 866,
   "id": "fe3ffa80-41bc-407c-a10a-a62a56648f79",
   "metadata": {},
   "outputs": [
    {
     "data": {
      "text/plain": [
       "tuple"
      ]
     },
     "execution_count": 866,
     "metadata": {},
     "output_type": "execute_result"
    }
   ],
   "source": [
    "type(f(5))"
   ]
  },
  {
   "cell_type": "code",
   "execution_count": 878,
   "id": "1f5260d8-fd91-413c-8fe9-c7ce9d9fe315",
   "metadata": {},
   "outputs": [],
   "source": [
    "a, b = f(5)  #Variable Unpacking"
   ]
  },
  {
   "cell_type": "code",
   "execution_count": 874,
   "id": "58ebcea2-cebb-4ce9-bb03-5b392d221d73",
   "metadata": {},
   "outputs": [
    {
     "data": {
      "text/plain": [
       "10"
      ]
     },
     "execution_count": 874,
     "metadata": {},
     "output_type": "execute_result"
    }
   ],
   "source": [
    "a"
   ]
  },
  {
   "cell_type": "code",
   "execution_count": 876,
   "id": "6ef50458-94a2-49d6-ad08-1f90017ef69d",
   "metadata": {},
   "outputs": [
    {
     "data": {
      "text/plain": [
       "50"
      ]
     },
     "execution_count": 876,
     "metadata": {},
     "output_type": "execute_result"
    }
   ],
   "source": [
    "b"
   ]
  },
  {
   "cell_type": "code",
   "execution_count": 880,
   "id": "ca17b902-22cd-4cf7-9524-8fdb6f867410",
   "metadata": {},
   "outputs": [],
   "source": [
    "def f(x,y):\n",
    "    \n",
    "    return 2*x*y, (10*x)**y"
   ]
  },
  {
   "cell_type": "code",
   "execution_count": 882,
   "id": "d5cc3d0d-e7cd-48ef-8b69-80774e4124a6",
   "metadata": {},
   "outputs": [
    {
     "data": {
      "text/plain": [
       "(6, 1000)"
      ]
     },
     "execution_count": 882,
     "metadata": {},
     "output_type": "execute_result"
    }
   ],
   "source": [
    "f(1,3)"
   ]
  },
  {
   "cell_type": "markdown",
   "id": "c1286605-89ca-4c21-93d9-cd39b6160e66",
   "metadata": {},
   "source": [
    "### Predefined Parameters"
   ]
  },
  {
   "cell_type": "code",
   "execution_count": 891,
   "id": "b7827e9f-165a-4f7e-9d3d-053c2823cb70",
   "metadata": {},
   "outputs": [],
   "source": [
    "def hello(name, start = \"Mrb\"):\n",
    "   \n",
    "  print(start + \" \" + name)"
   ]
  },
  {
   "cell_type": "code",
   "execution_count": 897,
   "id": "72f67c9a-7d5c-430c-a921-dce1844165f8",
   "metadata": {},
   "outputs": [
    {
     "name": "stdout",
     "output_type": "stream",
     "text": [
      "Mrb zeriş\n"
     ]
    }
   ],
   "source": [
    "hello(\"zeriş\")"
   ]
  },
  {
   "cell_type": "code",
   "execution_count": 901,
   "id": "2740db4a-946b-4017-9f6a-e9fe00be5e59",
   "metadata": {},
   "outputs": [
    {
     "name": "stdout",
     "output_type": "stream",
     "text": [
      "hello zeriş\n"
     ]
    }
   ],
   "source": [
    "hello(\"zeriş\", \"hello\") #hello'yu start'ın yerinde Mrb yerine koyacak boş bırakmadığım için"
   ]
  },
  {
   "cell_type": "code",
   "execution_count": 903,
   "id": "811079e1-707b-45f9-8cc2-3601f16d30b4",
   "metadata": {},
   "outputs": [
    {
     "name": "stdout",
     "output_type": "stream",
     "text": [
      "Mrb fatmi\n"
     ]
    }
   ],
   "source": [
    "hello(\"fatmi\")"
   ]
  },
  {
   "cell_type": "code",
   "execution_count": 905,
   "id": "e6457ace-710c-4c89-9c4a-0ef7a4735e5c",
   "metadata": {},
   "outputs": [],
   "source": [
    "def power(x, y=1):\n",
    "    \n",
    "    return x ** y"
   ]
  },
  {
   "cell_type": "code",
   "execution_count": 907,
   "id": "8d527ea5-640c-4fe0-9de4-da71f002c469",
   "metadata": {},
   "outputs": [
    {
     "data": {
      "text/plain": [
       "5"
      ]
     },
     "execution_count": 907,
     "metadata": {},
     "output_type": "execute_result"
    }
   ],
   "source": [
    "power(5)"
   ]
  },
  {
   "cell_type": "code",
   "execution_count": 911,
   "id": "de70e55b-5291-4fd7-b08f-d3225fd370a7",
   "metadata": {},
   "outputs": [
    {
     "data": {
      "text/plain": [
       "25"
      ]
     },
     "execution_count": 911,
     "metadata": {},
     "output_type": "execute_result"
    }
   ],
   "source": [
    "power(5, 2) #2'yi y'nin yerine koyacak input verdiğim için"
   ]
  },
  {
   "cell_type": "code",
   "execution_count": 913,
   "id": "d996f753-42a9-4f57-9fc6-4b0c7dd24bc6",
   "metadata": {},
   "outputs": [
    {
     "data": {
      "text/plain": [
       "64"
      ]
     },
     "execution_count": 913,
     "metadata": {},
     "output_type": "execute_result"
    }
   ],
   "source": [
    "power(4,3)"
   ]
  },
  {
   "cell_type": "code",
   "execution_count": 915,
   "id": "0e420f79-0f8f-4048-99dc-b9c729fc6388",
   "metadata": {},
   "outputs": [
    {
     "ename": "SyntaxError",
     "evalue": "parameter without a default follows parameter with a default (3278829179.py, line 3)",
     "output_type": "error",
     "traceback": [
      "\u001b[1;36m  Cell \u001b[1;32mIn[915], line 3\u001b[1;36m\u001b[0m\n\u001b[1;33m    def hello(start = \"Hello\", end):\u001b[0m\n\u001b[1;37m                               ^\u001b[0m\n\u001b[1;31mSyntaxError\u001b[0m\u001b[1;31m:\u001b[0m parameter without a default follows parameter with a default\n"
     ]
    }
   ],
   "source": [
    "# Aksini belirtmezsek predefined değerleri kullanacak fonksiyon\n",
    "# predefined olarak vereceğimiz değerleri en sona yazmalıyız yoksa hata alırız\n",
    "def hello(start = \"Hello\", end):\n",
    "    \n",
    "    print(start + end)"
   ]
  },
  {
   "cell_type": "code",
   "execution_count": 917,
   "id": "4ae7aa77-b44f-415d-9e72-d472e18ac098",
   "metadata": {},
   "outputs": [
    {
     "data": {
      "text/plain": [
       "5"
      ]
     },
     "execution_count": 917,
     "metadata": {},
     "output_type": "execute_result"
    }
   ],
   "source": [
    "def f(x, y=1, z=2):\n",
    "    \n",
    "    return x + y + z\n",
    "\n",
    "\n",
    "f(2)"
   ]
  },
  {
   "cell_type": "code",
   "execution_count": 919,
   "id": "8c17b749-cfd4-45dd-8421-bf4212a3c918",
   "metadata": {},
   "outputs": [
    {
     "data": {
      "text/plain": [
       "7"
      ]
     },
     "execution_count": 919,
     "metadata": {},
     "output_type": "execute_result"
    }
   ],
   "source": [
    "f(2, 3)"
   ]
  },
  {
   "cell_type": "code",
   "execution_count": 921,
   "id": "72de7e89-a834-4b55-b1c5-ed026b7d8352",
   "metadata": {},
   "outputs": [
    {
     "data": {
      "text/plain": [
       "10"
      ]
     },
     "execution_count": 921,
     "metadata": {},
     "output_type": "execute_result"
    }
   ],
   "source": [
    "f(2, 1, 7)"
   ]
  },
  {
   "cell_type": "code",
   "execution_count": 935,
   "id": "c56cd964-b664-4501-b9a4-648450a7a6ca",
   "metadata": {},
   "outputs": [
    {
     "data": {
      "text/plain": [
       "True"
      ]
     },
     "execution_count": 935,
     "metadata": {},
     "output_type": "execute_result"
    }
   ],
   "source": [
    "def f(x, y=True):\n",
    "    if x%2==0:\n",
    "        y=False\n",
    "\n",
    "    return y\n",
    "    return y\n",
    "\n",
    "f(7,True) "
   ]
  },
  {
   "cell_type": "markdown",
   "id": "da439ee7-e5e1-4687-a6d9-7a1f3d099af1",
   "metadata": {},
   "source": [
    "### Update Input"
   ]
  },
  {
   "cell_type": "markdown",
   "id": "ef0d3182-e70d-4ce2-b40e-3852b9b0e878",
   "metadata": {},
   "source": [
    "Argümanların Değerlerinin Güncellenip Güncellenmediği Durumlar\n",
    "\n",
    "\n",
    "Integer ve Floatların Değerleri Değişmez"
   ]
  },
  {
   "cell_type": "code",
   "execution_count": 944,
   "id": "b2abaaae-f6e8-443d-bf64-7a2211d2446e",
   "metadata": {},
   "outputs": [
    {
     "data": {
      "text/plain": [
       "4"
      ]
     },
     "execution_count": 944,
     "metadata": {},
     "output_type": "execute_result"
    }
   ],
   "source": [
    "a = 2\n",
    "\n",
    "def f(x):\n",
    "    x = 4\n",
    "    return x  #a x'e eşitleniyor ama 2 2 kalıyor günün sonunda\n",
    "\n",
    "f(a)"
   ]
  },
  {
   "cell_type": "code",
   "execution_count": 946,
   "id": "d567be20-904b-4396-a2dd-24e9dcf0ea36",
   "metadata": {},
   "outputs": [
    {
     "data": {
      "text/plain": [
       "2"
      ]
     },
     "execution_count": 946,
     "metadata": {},
     "output_type": "execute_result"
    }
   ],
   "source": [
    "a"
   ]
  },
  {
   "cell_type": "code",
   "execution_count": 950,
   "id": "73ce7170-9379-4fcf-870d-1d49d8b61c4b",
   "metadata": {},
   "outputs": [
    {
     "data": {
      "text/plain": [
       "4"
      ]
     },
     "execution_count": 950,
     "metadata": {},
     "output_type": "execute_result"
    }
   ],
   "source": [
    "b = 3.4\n",
    "f(b)"
   ]
  },
  {
   "cell_type": "code",
   "execution_count": 952,
   "id": "a5d07a3e-388d-40e7-ae41-274dd3dfa582",
   "metadata": {},
   "outputs": [
    {
     "data": {
      "text/plain": [
       "3.4"
      ]
     },
     "execution_count": 952,
     "metadata": {},
     "output_type": "execute_result"
    }
   ],
   "source": [
    "b"
   ]
  },
  {
   "cell_type": "markdown",
   "id": "c6ff3c9c-10b6-42fe-ae6e-d80fbe05965c",
   "metadata": {},
   "source": [
    "Listlerde Fonksiyonun içinden geçen farklı bi argümanın değeri de değişir çünkü listlerin isimleri aslında kutucuğun adı değil, kutucuğa takılan etiket"
   ]
  },
  {
   "cell_type": "code",
   "execution_count": 965,
   "id": "ae698f0e-456a-4de1-a691-22f235d97b32",
   "metadata": {},
   "outputs": [
    {
     "data": {
      "text/plain": [
       "[1, 2, 3]"
      ]
     },
     "execution_count": 965,
     "metadata": {},
     "output_type": "execute_result"
    }
   ],
   "source": [
    "l = [1,2,3]\n",
    "\n",
    "l2 = l.copy()\n",
    "\n",
    "l2"
   ]
  },
  {
   "cell_type": "code",
   "execution_count": 967,
   "id": "a497f993-956a-4f19-8ed7-5556c2f30a79",
   "metadata": {},
   "outputs": [
    {
     "data": {
      "text/plain": [
       "[5, 2, 3]"
      ]
     },
     "execution_count": 967,
     "metadata": {},
     "output_type": "execute_result"
    }
   ],
   "source": [
    "l[0]=5\n",
    "\n",
    "l"
   ]
  },
  {
   "cell_type": "code",
   "execution_count": 961,
   "id": "e8e45c77-574f-4afb-8ea9-601db48b517e",
   "metadata": {},
   "outputs": [
    {
     "data": {
      "text/plain": [
       "[1, 2, 3]"
      ]
     },
     "execution_count": 961,
     "metadata": {},
     "output_type": "execute_result"
    }
   ],
   "source": [
    "l2"
   ]
  },
  {
   "cell_type": "code",
   "execution_count": 969,
   "id": "1563a05f-1e7c-49d4-a1d1-b57b066323a3",
   "metadata": {},
   "outputs": [
    {
     "data": {
      "text/plain": [
       "[5, 2, 3]"
      ]
     },
     "execution_count": 969,
     "metadata": {},
     "output_type": "execute_result"
    }
   ],
   "source": [
    "l3=l\n",
    "\n",
    "l3"
   ]
  },
  {
   "cell_type": "code",
   "execution_count": 971,
   "id": "4963a9f5-7129-4112-86d6-12774cddd822",
   "metadata": {},
   "outputs": [
    {
     "data": {
      "text/plain": [
       "[5, 2, 3]"
      ]
     },
     "execution_count": 971,
     "metadata": {},
     "output_type": "execute_result"
    }
   ],
   "source": [
    "l"
   ]
  },
  {
   "cell_type": "code",
   "execution_count": 973,
   "id": "c8bb2cf7-987c-4735-af9a-947c0e7891cf",
   "metadata": {},
   "outputs": [
    {
     "data": {
      "text/plain": [
       "[1, 2, 3]"
      ]
     },
     "execution_count": 973,
     "metadata": {},
     "output_type": "execute_result"
    }
   ],
   "source": [
    "l2"
   ]
  },
  {
   "cell_type": "code",
   "execution_count": 981,
   "id": "330b3858-3519-4c01-a144-63b843f17d3c",
   "metadata": {},
   "outputs": [
    {
     "data": {
      "text/plain": [
       "['a', 2, 3]"
      ]
     },
     "execution_count": 981,
     "metadata": {},
     "output_type": "execute_result"
    }
   ],
   "source": [
    "def f(l): \n",
    "    l[0] = \"a\"\n",
    "    return l\n",
    "\n",
    "f(l)"
   ]
  },
  {
   "cell_type": "code",
   "execution_count": 983,
   "id": "b36641a0-25c2-4835-9125-d221ba7abc62",
   "metadata": {},
   "outputs": [
    {
     "data": {
      "text/plain": [
       "['a', 2, 3]"
      ]
     },
     "execution_count": 983,
     "metadata": {},
     "output_type": "execute_result"
    }
   ],
   "source": [
    "l"
   ]
  },
  {
   "cell_type": "code",
   "execution_count": 985,
   "id": "d06ecf28-2558-4517-9e5e-3f74fd3068e5",
   "metadata": {},
   "outputs": [
    {
     "data": {
      "text/plain": [
       "['a', 2, 3]"
      ]
     },
     "execution_count": 985,
     "metadata": {},
     "output_type": "execute_result"
    }
   ],
   "source": [
    "l3"
   ]
  },
  {
   "cell_type": "code",
   "execution_count": 987,
   "id": "4f65f63a-fd3b-46ea-8c90-774d28cc4887",
   "metadata": {},
   "outputs": [
    {
     "data": {
      "text/plain": [
       "[1, 2, 3]"
      ]
     },
     "execution_count": 987,
     "metadata": {},
     "output_type": "execute_result"
    }
   ],
   "source": [
    "l2"
   ]
  },
  {
   "cell_type": "code",
   "execution_count": 993,
   "id": "347852c2-6964-4fad-8c26-aabd4f7ba780",
   "metadata": {},
   "outputs": [
    {
     "data": {
      "text/plain": [
       "[2, 2, 3]"
      ]
     },
     "execution_count": 993,
     "metadata": {},
     "output_type": "execute_result"
    }
   ],
   "source": [
    "def f(x):   #içinde x yazması önemli değil liste her türlü değişiyor\n",
    "    \n",
    "    x[0] = 2\n",
    "    \n",
    "    return x\n",
    "\n",
    "f(l)"
   ]
  },
  {
   "cell_type": "code",
   "execution_count": 991,
   "id": "c92254ee-140d-4b53-8b1f-689034f72176",
   "metadata": {},
   "outputs": [
    {
     "data": {
      "text/plain": [
       "[2, 2, 3]"
      ]
     },
     "execution_count": 991,
     "metadata": {},
     "output_type": "execute_result"
    }
   ],
   "source": [
    "l"
   ]
  },
  {
   "cell_type": "code",
   "execution_count": 1003,
   "id": "7ad01734-1a0f-4364-bb65-d891e0ac0471",
   "metadata": {},
   "outputs": [
    {
     "data": {
      "text/plain": [
       "[2, 2, 5]"
      ]
     },
     "execution_count": 1003,
     "metadata": {},
     "output_type": "execute_result"
    }
   ],
   "source": [
    "def f(penguin): \n",
    "    \n",
    "    penguin[2] = 5\n",
    "    \n",
    "    return penguin\n",
    "\n",
    "f(l3)"
   ]
  },
  {
   "cell_type": "code",
   "execution_count": 1005,
   "id": "6c3098da-c22c-4ab9-aa41-9e08be8d66e1",
   "metadata": {},
   "outputs": [
    {
     "data": {
      "text/plain": [
       "[2, 2, 5]"
      ]
     },
     "execution_count": 1005,
     "metadata": {},
     "output_type": "execute_result"
    }
   ],
   "source": [
    "l"
   ]
  },
  {
   "cell_type": "code",
   "execution_count": 1019,
   "id": "8c07484e-a14e-42af-8129-e5c69a91193e",
   "metadata": {},
   "outputs": [
    {
     "data": {
      "text/plain": [
       "[10, 2, 3]"
      ]
     },
     "execution_count": 1019,
     "metadata": {},
     "output_type": "execute_result"
    }
   ],
   "source": [
    "def f(x):  #listenin değişip durmasını engelleme\n",
    "    \n",
    "    l2= x.copy()  #sonucu verirken aslında kopyasını bastır de\n",
    "    l2[0] = 10\n",
    "    \n",
    "    return l2\n",
    "\n",
    "f(l2)"
   ]
  },
  {
   "cell_type": "code",
   "execution_count": 1011,
   "id": "d30c3b9e-9e94-43d2-bb72-24af7e36acfa",
   "metadata": {},
   "outputs": [
    {
     "data": {
      "text/plain": [
       "[1, 2, 3]"
      ]
     },
     "execution_count": 1011,
     "metadata": {},
     "output_type": "execute_result"
    }
   ],
   "source": [
    "l2"
   ]
  },
  {
   "cell_type": "code",
   "execution_count": 1015,
   "id": "b91eeb24-7fbe-4af1-bcd6-81cc21a72ae2",
   "metadata": {},
   "outputs": [
    {
     "data": {
      "text/plain": [
       "[10, 2, 5]"
      ]
     },
     "execution_count": 1015,
     "metadata": {},
     "output_type": "execute_result"
    }
   ],
   "source": [
    "f(l)"
   ]
  },
  {
   "cell_type": "code",
   "execution_count": 1017,
   "id": "173c6400-a027-491f-9313-6511422c1fda",
   "metadata": {},
   "outputs": [
    {
     "data": {
      "text/plain": [
       "[2, 2, 5]"
      ]
     },
     "execution_count": 1017,
     "metadata": {},
     "output_type": "execute_result"
    }
   ],
   "source": [
    "l"
   ]
  },
  {
   "cell_type": "code",
   "execution_count": 1027,
   "id": "f1e3defa-d7ea-4bb8-99c2-102a8c1ed624",
   "metadata": {},
   "outputs": [
    {
     "name": "stdout",
     "output_type": "stream",
     "text": [
      "['limon', 'portakal', 'armut']\n"
     ]
    }
   ],
   "source": [
    "l=[\"elma\",\"portakal\",\"armut\"]\n",
    "\n",
    "m=l\n",
    "def f(y):\n",
    "    y[0]=\"limon\"\n",
    "    return y\n",
    "\n",
    "f(l)\n",
    "\n",
    "print(m)"
   ]
  },
  {
   "cell_type": "markdown",
   "id": "af43faf6-5407-4577-9ba1-24955bc489bd",
   "metadata": {},
   "source": [
    "### First Class Function"
   ]
  },
  {
   "cell_type": "markdown",
   "id": "6d5c73ff-c756-4013-8f59-77af3106a477",
   "metadata": {},
   "source": [
    "Python'da fonksiyonlar first class function olarak değerlendirilir. Bunun anlamı fonksiyonların diğer veri tipleri gibi manipüle edilebilir ve başka fonksiyonlara argüman olarak verilebilir olmasıdır.\n",
    "\n",
    "Bir fonksiyonu bir değişkene atayabiliriz."
   ]
  },
  {
   "cell_type": "code",
   "execution_count": 1031,
   "id": "30c25767-896a-4edd-910b-ec723dc49fa1",
   "metadata": {},
   "outputs": [],
   "source": [
    "def kare(x):\n",
    "    return x**2"
   ]
  },
  {
   "cell_type": "code",
   "execution_count": 1033,
   "id": "39402270-fa62-434d-bdd1-169fc2cf1dfc",
   "metadata": {},
   "outputs": [],
   "source": [
    "a=kare"
   ]
  },
  {
   "cell_type": "code",
   "execution_count": 1039,
   "id": "cf5980aa-702b-4619-9c3c-5c56832f69d9",
   "metadata": {},
   "outputs": [
    {
     "data": {
      "text/plain": [
       "25"
      ]
     },
     "execution_count": 1039,
     "metadata": {},
     "output_type": "execute_result"
    }
   ],
   "source": [
    "a(5) #a kare f(x) fonksiyonu gibi çalışıyor"
   ]
  },
  {
   "cell_type": "markdown",
   "id": "60525a52-d2e1-40bd-8dbd-e326364bddd1",
   "metadata": {},
   "source": [
    "Bir fonksiyonu başka bir fonksiyona argüman olarak verebiliriz."
   ]
  },
  {
   "cell_type": "code",
   "execution_count": 31,
   "id": "af35e0e8-434f-4f7a-a3fa-d173fad5c38c",
   "metadata": {},
   "outputs": [
    {
     "data": {
      "text/plain": [
       "13"
      ]
     },
     "execution_count": 31,
     "metadata": {},
     "output_type": "execute_result"
    }
   ],
   "source": [
    "def f2(x, f):\n",
    "    return f(x) + 4 #f'in yerine kare fonksiyonunu koyuyoruz yani 3**2+4 basıyor\n",
    "\n",
    "\n",
    "f2(3,kare)"
   ]
  },
  {
   "cell_type": "code",
   "execution_count": 25,
   "id": "927c3ce1-bb3d-4bf1-95a2-05b7b8072835",
   "metadata": {},
   "outputs": [
    {
     "data": {
      "text/plain": [
       "36"
      ]
     },
     "execution_count": 25,
     "metadata": {},
     "output_type": "execute_result"
    }
   ],
   "source": [
    "def f3(x):\n",
    "    return x**5\n",
    "\n",
    "\n",
    "f2(2, f3) #32+4 oluyor"
   ]
  },
  {
   "cell_type": "markdown",
   "id": "97f42ecf-0aab-47bb-bce7-6553cf8aef4b",
   "metadata": {},
   "source": [
    "### Fonksiyonları Obje Olarak Kullanmak\n"
   ]
  },
  {
   "cell_type": "markdown",
   "id": "ddf80877-b21e-4f94-955d-29c7cc3da072",
   "metadata": {},
   "source": [
    "Python'da fonksiyonların first class function olduklarını konuşmuştuk.\n",
    "\n",
    "Şimdi bu mantığı kullanarak belirli fonksiyonları listenin elemanlarına uygulayacağız."
   ]
  },
  {
   "cell_type": "code",
   "execution_count": 35,
   "id": "2555d263-a99d-4c8d-8075-64e864de7347",
   "metadata": {},
   "outputs": [],
   "source": [
    "l = [1,2,3,4]\n",
    "\n",
    "\n",
    "def apply(l, f): #f'in yanına () yapmazsak function call olmaz ve f obje olarak kalır\n",
    "    \"\"\" l bir liste, f listenin tüm elemanlarına uygulanacak fonksiyon, sonunda listenin orijinali elemanlarına fonksiyonun uygulanmış haliyle güncellenir \"\"\"\n",
    "    \n",
    "    n = len(l)\n",
    "    \n",
    "    for i in range(n):\n",
    "        l[i] = f(l[i])"
   ]
  },
  {
   "cell_type": "code",
   "execution_count": 37,
   "id": "6b09aeea-6aca-4850-a1bd-92b2cb81ab9b",
   "metadata": {},
   "outputs": [
    {
     "data": {
      "text/plain": [
       "[1, 4, 9, 16]"
      ]
     },
     "execution_count": 37,
     "metadata": {},
     "output_type": "execute_result"
    }
   ],
   "source": [
    "def kare(x):\n",
    "    return x**2\n",
    "\n",
    "apply(l, kare) #yukarıdaki f'nin yerine şimdi kare fonksiyonu geliyor\n",
    "\n",
    "l"
   ]
  },
  {
   "cell_type": "code",
   "execution_count": 1089,
   "id": "723215e4-a00e-4d94-b655-cd6c8a41c18c",
   "metadata": {},
   "outputs": [],
   "source": [
    "#Tüm elemanlara fonksiyon uygulandı ve güncelledik."
   ]
  },
  {
   "cell_type": "code",
   "execution_count": 63,
   "id": "6d8def12-7415-41cf-84f1-11fd4708f04d",
   "metadata": {},
   "outputs": [
    {
     "data": {
      "text/plain": [
       "[1, 8, 27, 64]"
      ]
     },
     "execution_count": 63,
     "metadata": {},
     "output_type": "execute_result"
    }
   ],
   "source": [
    "m = [1,2,3,4]\n",
    "\n",
    "def kup(x):\n",
    "    return x**3\n",
    "\n",
    "apply(m, kup)\n",
    "\n",
    "m"
   ]
  },
  {
   "cell_type": "markdown",
   "id": "84e978d6-7479-4184-b24e-bc17d6e0ddb1",
   "metadata": {},
   "source": [
    "### Fonksiyonlar Listesini Belirli Bir Değere Uygulamak\n"
   ]
  },
  {
   "cell_type": "code",
   "execution_count": 91,
   "id": "db56dc60-7b3e-40fe-afd6-61bc8b6b1608",
   "metadata": {},
   "outputs": [
    {
     "ename": "IndentationError",
     "evalue": "unexpected indent (3094761029.py, line 2)",
     "output_type": "error",
     "traceback": [
      "\u001b[1;36m  Cell \u001b[1;32mIn[91], line 2\u001b[1;36m\u001b[0m\n\u001b[1;33m    for f in f_list:\u001b[0m\n\u001b[1;37m    ^\u001b[0m\n\u001b[1;31mIndentationError\u001b[0m\u001b[1;31m:\u001b[0m unexpected indent\n"
     ]
    }
   ],
   "source": [
    "def apply_funcs(f_list, x): l = []\n",
    "    for f in f_list:\n",
    "        l.append(f(x))\n",
    "        \n",
    "    return l\n",
    "\n",
    "apply_funcs([kare, kup], 5)  #BUNU ANLAMADIMMMMM [25, 125 ÇIKMALIYDI\n"
   ]
  },
  {
   "cell_type": "markdown",
   "id": "2de45c7e-e0d8-4b51-b39c-bfa811a99b78",
   "metadata": {},
   "source": [
    "### Underscore Placeholder"
   ]
  },
  {
   "cell_type": "code",
   "execution_count": null,
   "id": "bf10eac1-bece-4af3-87c6-52509354ee1c",
   "metadata": {},
   "outputs": [],
   "source": [
    "num_1 = 90000000000"
   ]
  },
  {
   "cell_type": "code",
   "execution_count": 110,
   "id": "44dd23df-98f5-4a99-980b-9aadd6d9aa77",
   "metadata": {},
   "outputs": [],
   "source": [
    "num_2 = 90_000_000_000  #okuma rahatlığı"
   ]
  },
  {
   "cell_type": "code",
   "execution_count": 106,
   "id": "bd29d3ec-64ee-4b6e-9627-51be8553295f",
   "metadata": {},
   "outputs": [
    {
     "name": "stdout",
     "output_type": "stream",
     "text": [
      "yes\n"
     ]
    }
   ],
   "source": [
    "if num_1 == num_2:\n",
    "    print (\"yes\")"
   ]
  },
  {
   "cell_type": "code",
   "execution_count": 108,
   "id": "da2d2e21-f5b8-485e-b53a-535a01f963b3",
   "metadata": {},
   "outputs": [
    {
     "data": {
      "text/plain": [
       "0.121112"
      ]
     },
     "execution_count": 108,
     "metadata": {},
     "output_type": "execute_result"
    }
   ],
   "source": [
    "num_3 = 0.12_11_12\n",
    "\n",
    "num_3"
   ]
  },
  {
   "cell_type": "markdown",
   "id": "63b2b04d-d16a-453f-8ff8-947d73d4ae7e",
   "metadata": {},
   "source": [
    "# F-Strings"
   ]
  },
  {
   "cell_type": "code",
   "execution_count": 123,
   "id": "ed9dd140-1399-4f9a-b462-00ca646f9559",
   "metadata": {},
   "outputs": [],
   "source": [
    "x=7"
   ]
  },
  {
   "cell_type": "code",
   "execution_count": 135,
   "id": "fc45c4c7-7ea8-4551-b932-d66ccded611a",
   "metadata": {},
   "outputs": [
    {
     "data": {
      "text/plain": [
       "\"x'in değeri 7\""
      ]
     },
     "execution_count": 135,
     "metadata": {},
     "output_type": "execute_result"
    }
   ],
   "source": [
    "\"x'in değeri\" + \" \" + str(x)"
   ]
  },
  {
   "cell_type": "code",
   "execution_count": 131,
   "id": "24f38db6-ea1b-4612-bd09-efd6fd936b96",
   "metadata": {},
   "outputs": [
    {
     "data": {
      "text/plain": [
       "'7'"
      ]
     },
     "execution_count": 131,
     "metadata": {},
     "output_type": "execute_result"
    }
   ],
   "source": [
    "str(x)"
   ]
  },
  {
   "cell_type": "code",
   "execution_count": 137,
   "id": "c3e3e09f-4812-4bef-832f-2d503787ac45",
   "metadata": {},
   "outputs": [
    {
     "data": {
      "text/plain": [
       "'x in değeri 7'"
      ]
     },
     "execution_count": 137,
     "metadata": {},
     "output_type": "execute_result"
    }
   ],
   "source": [
    "f\"x in değeri {x}\"  # f\" \" yapınca daha fazla tırnak kullanmaktan kurtuluyorsun, {} içini de bağımsız hesaplıyo"
   ]
  },
  {
   "cell_type": "code",
   "execution_count": 141,
   "id": "c8a9f7ed-0857-4c7c-9b8c-33f273820b85",
   "metadata": {},
   "outputs": [
    {
     "data": {
      "text/plain": [
       "\"3'ün karesi 9\""
      ]
     },
     "execution_count": 141,
     "metadata": {},
     "output_type": "execute_result"
    }
   ],
   "source": [
    "f\"3'ün karesi {3*3}\""
   ]
  },
  {
   "cell_type": "code",
   "execution_count": 161,
   "id": "18fd9d81-e996-4447-846e-8954695beacf",
   "metadata": {},
   "outputs": [],
   "source": [
    "def kare(x):\n",
    "\n",
    "    return x*x"
   ]
  },
  {
   "cell_type": "code",
   "execution_count": 165,
   "id": "9c7d06b9-9f0f-421d-9c46-178de8e2f11a",
   "metadata": {},
   "outputs": [
    {
     "data": {
      "text/plain": [
       "\"5'in karesi 25\""
      ]
     },
     "execution_count": 165,
     "metadata": {},
     "output_type": "execute_result"
    }
   ],
   "source": [
    "f\"5'in karesi {kare(5)}\""
   ]
  },
  {
   "cell_type": "code",
   "execution_count": 167,
   "id": "bafd1873-d8f7-4228-855c-d6967114a8e1",
   "metadata": {},
   "outputs": [
    {
     "data": {
      "text/plain": [
       "'x in değerinin iki fazlası 9'"
      ]
     },
     "execution_count": 167,
     "metadata": {},
     "output_type": "execute_result"
    }
   ],
   "source": [
    "f\"x in değerinin iki fazlası {x+2}\""
   ]
  },
  {
   "cell_type": "code",
   "execution_count": 169,
   "id": "e5cadd12-59bc-4ac2-8ec7-a08c566d70d9",
   "metadata": {},
   "outputs": [
    {
     "name": "stdin",
     "output_type": "stream",
     "text": [
      "İsim: zülal\n"
     ]
    }
   ],
   "source": [
    "isim = input(\"İsim:\")"
   ]
  },
  {
   "cell_type": "code",
   "execution_count": 173,
   "id": "317c4266-8db2-46af-aca7-9e0b4ce1b5d4",
   "metadata": {},
   "outputs": [
    {
     "data": {
      "text/plain": [
       "'benim adım zülal'"
      ]
     },
     "execution_count": 173,
     "metadata": {},
     "output_type": "execute_result"
    }
   ],
   "source": [
    "f\"benim adım {isim}\""
   ]
  },
  {
   "cell_type": "code",
   "execution_count": 175,
   "id": "f520db7b-66cf-4d52-8cbf-acdd1c63850e",
   "metadata": {},
   "outputs": [
    {
     "data": {
      "text/plain": [
       "'verilen liste [1, 2, 3, 4]'"
      ]
     },
     "execution_count": 175,
     "metadata": {},
     "output_type": "execute_result"
    }
   ],
   "source": [
    "l = [1,2,3,4]\n",
    "\n",
    "\n",
    "f\"verilen liste {l}\""
   ]
  },
  {
   "cell_type": "code",
   "execution_count": 179,
   "id": "a6f9edf7-c0a4-46f7-abfc-9519c4dfa741",
   "metadata": {},
   "outputs": [
    {
     "data": {
      "text/plain": [
       "'verilen isim ZÜLAL'"
      ]
     },
     "execution_count": 179,
     "metadata": {},
     "output_type": "execute_result"
    }
   ],
   "source": [
    "f\"verilen isim {isim.upper()}\""
   ]
  },
  {
   "cell_type": "code",
   "execution_count": 181,
   "id": "d84871d2-8f44-421a-990a-68410f250cff",
   "metadata": {},
   "outputs": [
    {
     "data": {
      "text/plain": [
       "'10 sayısının karesi 100'"
      ]
     },
     "execution_count": 181,
     "metadata": {},
     "output_type": "execute_result"
    }
   ],
   "source": [
    "def kare(x):\n",
    "    return x**2\n",
    "\n",
    "x = 10\n",
    "\n",
    "f\"{x} sayısının karesi {kare(x)}\""
   ]
  },
  {
   "cell_type": "code",
   "execution_count": null,
   "id": "e7a762e4-8684-4798-8cd2-a74b5d33592d",
   "metadata": {},
   "outputs": [],
   "source": []
  },
  {
   "cell_type": "code",
   "execution_count": null,
   "id": "295a321a-4e69-43b4-8983-ac6442570eb6",
   "metadata": {},
   "outputs": [],
   "source": []
  },
  {
   "cell_type": "code",
   "execution_count": null,
   "id": "bcc0ff2b-9859-47d9-b1a7-613913a1dee1",
   "metadata": {},
   "outputs": [],
   "source": []
  }
 ],
 "metadata": {
  "kernelspec": {
   "display_name": "Python [conda env:base] *",
   "language": "python",
   "name": "conda-base-py"
  },
  "language_info": {
   "codemirror_mode": {
    "name": "ipython",
    "version": 3
   },
   "file_extension": ".py",
   "mimetype": "text/x-python",
   "name": "python",
   "nbconvert_exporter": "python",
   "pygments_lexer": "ipython3",
   "version": "3.12.7"
  }
 },
 "nbformat": 4,
 "nbformat_minor": 5
}
